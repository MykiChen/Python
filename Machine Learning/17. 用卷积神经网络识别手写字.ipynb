{
 "cells": [
  {
   "cell_type": "code",
   "execution_count": 1,
   "metadata": {},
   "outputs": [
    {
     "name": "stderr",
     "output_type": "stream",
     "text": [
      "Using TensorFlow backend.\n"
     ]
    }
   ],
   "source": [
    "import keras\n",
    "from keras.datasets import mnist\n",
    "from keras.models import Sequential\n",
    "from keras.layers import Activation, Dense, Flatten, Conv2D, MaxPooling2D"
   ]
  },
  {
   "cell_type": "markdown",
   "metadata": {},
   "source": [
    "# 读取MNIST 数据"
   ]
  },
  {
   "cell_type": "code",
   "execution_count": 2,
   "metadata": {},
   "outputs": [],
   "source": [
    "(x_train, y_train), (x_test, y_test) = mnist.load_data()"
   ]
  },
  {
   "cell_type": "code",
   "execution_count": 3,
   "metadata": {},
   "outputs": [],
   "source": [
    "x_train = x_train.reshape(60000, 28, 28, 1)\n",
    "x_test = x_test.reshape(10000, 28, 28, 1)\n",
    "x_train = x_train.astype('float32')\n",
    "x_test = x_test.astype('float32')\n",
    "x_train /= 255\n",
    "x_test /= 255"
   ]
  },
  {
   "cell_type": "code",
   "execution_count": 5,
   "metadata": {},
   "outputs": [],
   "source": [
    "y_train = keras.utils.to_categorical(y_train, n_classes)\n",
    "y_test = keras.utils.to_categorical(y_test, n_classes)"
   ]
  },
  {
   "cell_type": "markdown",
   "metadata": {},
   "source": [
    "# 设定网络参数"
   ]
  },
  {
   "cell_type": "code",
   "execution_count": 4,
   "metadata": {},
   "outputs": [],
   "source": [
    "n_hidder_1 = 256\n",
    "n_classes = 10\n",
    "\n",
    "training_epochs = 15\n",
    "batch_size = 100"
   ]
  },
  {
   "cell_type": "markdown",
   "metadata": {},
   "source": [
    "# 建立卷积神经网络"
   ]
  },
  {
   "cell_type": "code",
   "execution_count": 6,
   "metadata": {},
   "outputs": [],
   "source": [
    "model = keras.Sequential()\n",
    "model.add(Conv2D(\n",
    "    filters=16,\n",
    "    kernel_size=(3, 3), \n",
    "    padding='same',\n",
    "    input_shape=(28, 28, 1),\n",
    "    activation='relu'))\n",
    "\n",
    "model.add(MaxPooling2D(pool_size=(2, 3)))\n",
    "model.add(Flatten())\n",
    "model.add(Dense(n_hidder_1, activation='relu'))\n",
    "model.add(Dense(n_classes, activation='softmax'))"
   ]
  },
  {
   "cell_type": "code",
   "execution_count": 7,
   "metadata": {},
   "outputs": [],
   "source": [
    "model.compile(loss='categorical_crossentropy',\n",
    "              optimizer='adam',\n",
    "              metrics=['accuracy'])"
   ]
  },
  {
   "cell_type": "markdown",
   "metadata": {},
   "source": [
    "# 训练神经网络"
   ]
  },
  {
   "cell_type": "code",
   "execution_count": 8,
   "metadata": {},
   "outputs": [
    {
     "name": "stdout",
     "output_type": "stream",
     "text": [
      "Train on 60000 samples, validate on 10000 samples\n",
      "Epoch 1/15\n",
      "60000/60000 [==============================] - 9s 142us/step - loss: 0.2146 - accuracy: 0.9387 - val_loss: 0.0862 - val_accuracy: 0.9741\n",
      "Epoch 2/15\n",
      "60000/60000 [==============================] - 9s 142us/step - loss: 0.0716 - accuracy: 0.9780 - val_loss: 0.0535 - val_accuracy: 0.9823\n",
      "Epoch 3/15\n",
      "60000/60000 [==============================] - 9s 144us/step - loss: 0.0499 - accuracy: 0.9847 - val_loss: 0.0463 - val_accuracy: 0.9844\n",
      "Epoch 4/15\n",
      "60000/60000 [==============================] - 8s 141us/step - loss: 0.0359 - accuracy: 0.9888 - val_loss: 0.0633 - val_accuracy: 0.9804\n",
      "Epoch 5/15\n",
      "60000/60000 [==============================] - 8s 141us/step - loss: 0.0280 - accuracy: 0.9916 - val_loss: 0.0432 - val_accuracy: 0.9865\n",
      "Epoch 6/15\n",
      "60000/60000 [==============================] - 8s 141us/step - loss: 0.0208 - accuracy: 0.9934 - val_loss: 0.0430 - val_accuracy: 0.9863\n",
      "Epoch 7/15\n",
      "60000/60000 [==============================] - 8s 140us/step - loss: 0.0178 - accuracy: 0.9942 - val_loss: 0.0436 - val_accuracy: 0.9864\n",
      "Epoch 8/15\n",
      "60000/60000 [==============================] - 8s 140us/step - loss: 0.0126 - accuracy: 0.9963 - val_loss: 0.0538 - val_accuracy: 0.9839\n",
      "Epoch 9/15\n",
      "60000/60000 [==============================] - 8s 141us/step - loss: 0.0103 - accuracy: 0.9968 - val_loss: 0.0473 - val_accuracy: 0.9862\n",
      "Epoch 10/15\n",
      "60000/60000 [==============================] - 8s 141us/step - loss: 0.0073 - accuracy: 0.9980 - val_loss: 0.0475 - val_accuracy: 0.9869\n",
      "Epoch 11/15\n",
      "60000/60000 [==============================] - 9s 144us/step - loss: 0.0073 - accuracy: 0.9978 - val_loss: 0.0493 - val_accuracy: 0.9868\n",
      "Epoch 12/15\n",
      "60000/60000 [==============================] - 8s 140us/step - loss: 0.0065 - accuracy: 0.9980 - val_loss: 0.0467 - val_accuracy: 0.9867\n",
      "Epoch 13/15\n",
      "60000/60000 [==============================] - 8s 140us/step - loss: 0.0051 - accuracy: 0.9986 - val_loss: 0.0484 - val_accuracy: 0.9875\n",
      "Epoch 14/15\n",
      "60000/60000 [==============================] - 8s 141us/step - loss: 0.0031 - accuracy: 0.9992 - val_loss: 0.0482 - val_accuracy: 0.9869\n",
      "Epoch 15/15\n",
      "60000/60000 [==============================] - 8s 140us/step - loss: 0.0051 - accuracy: 0.9984 - val_loss: 0.0629 - val_accuracy: 0.9837\n"
     ]
    }
   ],
   "source": [
    "history = model.fit(x_train, y_train, \n",
    "                    batch_size=batch_size, \n",
    "                    epochs=training_epochs, \n",
    "                    verbose=1, \n",
    "                    validation_data=(x_test, y_test))"
   ]
  },
  {
   "cell_type": "code",
   "execution_count": null,
   "metadata": {},
   "outputs": [],
   "source": []
  }
 ],
 "metadata": {
  "kernelspec": {
   "display_name": "Python 3",
   "language": "python",
   "name": "python3"
  },
  "language_info": {
   "codemirror_mode": {
    "name": "ipython",
    "version": 3
   },
   "file_extension": ".py",
   "mimetype": "text/x-python",
   "name": "python",
   "nbconvert_exporter": "python",
   "pygments_lexer": "ipython3",
   "version": "3.7.4"
  }
 },
 "nbformat": 4,
 "nbformat_minor": 2
}
