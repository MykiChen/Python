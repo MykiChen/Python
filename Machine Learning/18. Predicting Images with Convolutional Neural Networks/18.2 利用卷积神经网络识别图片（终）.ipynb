{
 "cells": [
  {
   "cell_type": "code",
   "execution_count": 1,
   "metadata": {},
   "outputs": [],
   "source": [
    "import requests, os\n",
    "from urllib import parse"
   ]
  },
  {
   "cell_type": "markdown",
   "metadata": {},
   "source": [
    "# 使用网络爬虫获取所需要训练的图片"
   ]
  },
  {
   "cell_type": "code",
   "execution_count": 7,
   "metadata": {},
   "outputs": [],
   "source": [
    "headers = {'User-Agent': 'Mozilla/5.0 (Macintosh; Intel Mac OS X 10_15_2) AppleWebKit/537.36 (KHTML, like Gecko) Chrome/79.0.3945.117 Safari/537.36'}\n",
    "img_url = 'https://image.baidu.com/search/acjson?tn=resultjson_com&ipn=rj&ct=201326592&is=&fp=result&queryWord={0}&cl=2&lm=-1&ie=utf-8&oe=utf-8&adpicid=&st=-1&z=&ic=&hd=&latest=&copyright=&word={0}&s=&se=&tab=&width=&height=&face=0&istype=2&qc=&nc=1&fr=&expermode=&force=&cg=star&pn={1}&rn=30&gsm=&1578807000105='\n",
    "\n",
    "def getIdolPicture(keyword, dest_dir, batch):\n",
    "    # 建立图片储存路径\n",
    "    if not os.path.exists(dest_dir):\n",
    "        os.mkdir(dest_dir)\n",
    "        \n",
    "    for i in range(batch):\n",
    "        res = requests.get(img_url.format(parse.quote(keyword), i*30))\n",
    "        res.encoding = 'utf-8'\n",
    "        print(len(res.json()['data']))\n",
    "        for ele in res.json()['data']:\n",
    "            url = ele.get('thumbURL')\n",
    "            if url:\n",
    "                # 获取图片链接最后部分并做为图片名字\n",
    "                with open(dest_dir + url.split('/')[-1], 'wb') as f:\n",
    "                    res2 = requests.get(url, headers=headers)\n",
    "                    f.write(res2.content)\n"
   ]
  },
  {
   "cell_type": "code",
   "execution_count": 17,
   "metadata": {},
   "outputs": [],
   "source": [
    "getIdolPicture('范冰冰', 'idol1/', 10)"
   ]
  },
  {
   "cell_type": "code",
   "execution_count": null,
   "metadata": {},
   "outputs": [],
   "source": [
    "getIdolPicture('迪丽热巴', 'idol2/', 10)"
   ]
  },
  {
   "cell_type": "code",
   "execution_count": null,
   "metadata": {},
   "outputs": [],
   "source": [
    "getIdolPicture('林志玲', 'idol3/', 10)"
   ]
  },
  {
   "cell_type": "markdown",
   "metadata": {},
   "source": [
    "# 使用OpenCV 撷取人脸"
   ]
  },
  {
   "cell_type": "code",
   "execution_count": 9,
   "metadata": {},
   "outputs": [],
   "source": [
    "import numpy as np\n",
    "import cv2 as cv\n",
    "import matplotlib.pyplot as plt\n",
    "from PIL import Image"
   ]
  },
  {
   "cell_type": "code",
   "execution_count": 83,
   "metadata": {},
   "outputs": [],
   "source": [
    "face_cascade = cv.CascadeClassifier('/usr/local/Cellar/opencv/4.2.0_1/share/opencv4/haarcascades/haarcascade_frontalface_default.xml')\n",
    "\n",
    "def extractFace(filename, src_dir, dest_dir):\n",
    "    img = cv.imread(src_dir + filename)\n",
    "    faces = face_cascade.detectMultiScale(img, 1.3, 5)\n",
    "    im = Image.open(src_dir + filename)\n",
    "    \n",
    "    for (x, y, w, h) in faces:\n",
    "        roi_color = img[y:y+h, x:x+w]\n",
    "        box = (x, y, x+w, y+h)\n",
    "        crpim = im.crop(box).resize((64, 64))\n",
    "        crpim.save(dest_dir + filename)\n",
    "        "
   ]
  },
  {
   "cell_type": "code",
   "execution_count": 24,
   "metadata": {},
   "outputs": [
    {
     "name": "stdout",
     "output_type": "stream",
     "text": [
      "u=4252810034,3548750092&fm=11&gp=0.jpg\n"
     ]
    }
   ],
   "source": [
    "if not os.path.exists('idol1_face'):\n",
    "    os.mkdir('idol1_face')\n",
    "\n",
    "for f in os.listdir('idol1/'):\n",
    "    try:\n",
    "        extractFace(f, 'idol1/', 'idol1_face/')\n",
    "    except:\n",
    "        print(f)"
   ]
  },
  {
   "cell_type": "code",
   "execution_count": 32,
   "metadata": {},
   "outputs": [
    {
     "name": "stdout",
     "output_type": "stream",
     "text": [
      "u=2131554868,2623628550&fm=26&gp=0.jpg\n"
     ]
    }
   ],
   "source": [
    "if not os.path.exists('idol2_face'):\n",
    "    os.mkdir('idol2_face')\n",
    "\n",
    "for f in os.listdir('idol2/'):\n",
    "    try:\n",
    "        extractFace(f, 'idol2/', 'idol2_face/')\n",
    "    except:\n",
    "        print(f)"
   ]
  },
  {
   "cell_type": "code",
   "execution_count": 34,
   "metadata": {},
   "outputs": [
    {
     "name": "stdout",
     "output_type": "stream",
     "text": [
      "u=1980474683,3378689882&fm=26&gp=0.jpg\n"
     ]
    }
   ],
   "source": [
    "if not os.path.exists('idol3_face'):\n",
    "    os.mkdir('idol3_face')\n",
    "\n",
    "for f in os.listdir('idol3'):\n",
    "    try:\n",
    "        extractFace(f, 'idol3/', 'idol3_face/')\n",
    "    except:\n",
    "        print(f)"
   ]
  },
  {
   "cell_type": "markdown",
   "metadata": {},
   "source": [
    "# 利用卷积神经网络识别明星图片"
   ]
  },
  {
   "cell_type": "markdown",
   "metadata": {},
   "source": [
    "## 建构卷积神经网络"
   ]
  },
  {
   "cell_type": "code",
   "execution_count": 10,
   "metadata": {},
   "outputs": [],
   "source": [
    "from keras.models import Sequential\n",
    "from keras.layers import Conv2D\n",
    "from keras.layers import MaxPooling2D\n",
    "from keras.layers import Flatten\n",
    "from keras.layers import Dense"
   ]
  },
  {
   "cell_type": "code",
   "execution_count": 11,
   "metadata": {},
   "outputs": [],
   "source": [
    "# Initialising the CNN\n",
    "classifier = Sequential()\n",
    "\n",
    "# Convolution\n",
    "classifier.add(Conv2D(32, (3, 3), input_shape = (64, 64, 3), activation = 'relu'))\n",
    "\n",
    "# Max Pooling\n",
    "classifier.add(MaxPooling2D(pool_size = (2, 2)))\n",
    "\n",
    "# Convolution\n",
    "classifier.add(Conv2D(32, (3, 3), activation = 'relu'))\n",
    "\n",
    "# Max Pooling\n",
    "classifier.add(MaxPooling2D(pool_size = (2, 2)))\n",
    "\n",
    "# Flattening\n",
    "classifier.add(Flatten())\n",
    "\n",
    "# Fully Connected\n",
    "classifier.add(Dense(units = 128, activation = 'relu'))\n",
    "classifier.add(Dense(units = 3, activation = 'softmax'))\n",
    "\n",
    "classifier.compile(optimizer = 'adam',\n",
    "                  loss = 'categorical_crossentropy',\n",
    "                  metrics = ['accuracy'])"
   ]
  },
  {
   "cell_type": "markdown",
   "metadata": {},
   "source": [
    "## 图像增广技术"
   ]
  },
  {
   "cell_type": "code",
   "execution_count": 12,
   "metadata": {},
   "outputs": [],
   "source": [
    "from keras.preprocessing.image import ImageDataGenerator\n",
    "\n",
    "train_datagen = ImageDataGenerator(rescale = 1. / 255,\n",
    "                                  shear_range = 0.2,    # x 坐标保持不变， 而对应y 的坐标按比例发生平移\n",
    "                                  zoom_range = 0.2,     # 可以让图片在长或宽的方向进行放大\n",
    "                                  horizontal_flip = True  # 水平翻转操作\n",
    "                                  )"
   ]
  },
  {
   "cell_type": "code",
   "execution_count": 13,
   "metadata": {},
   "outputs": [],
   "source": [
    "test_datagen = ImageDataGenerator(rescale = 1. / 255)"
   ]
  },
  {
   "cell_type": "markdown",
   "metadata": {},
   "source": [
    "## 建立训练与测试数据集"
   ]
  },
  {
   "cell_type": "code",
   "execution_count": 14,
   "metadata": {},
   "outputs": [
    {
     "name": "stdout",
     "output_type": "stream",
     "text": [
      "Found 490 images belonging to 3 classes.\n"
     ]
    }
   ],
   "source": [
    "training_set = train_datagen.flow_from_directory(\n",
    "    'trainset/', target_size=(64, 64),\n",
    "    batch_size=30, \n",
    "    class_mode='categorical'\n",
    ")"
   ]
  },
  {
   "cell_type": "code",
   "execution_count": 15,
   "metadata": {},
   "outputs": [
    {
     "name": "stdout",
     "output_type": "stream",
     "text": [
      "Found 71 images belonging to 3 classes.\n"
     ]
    }
   ],
   "source": [
    "test_set = test_datagen.flow_from_directory(\n",
    "    'testset/', target_size=(64, 64),\n",
    "    batch_size=30,\n",
    "    class_mode='categorical'\n",
    ")"
   ]
  },
  {
   "cell_type": "markdown",
   "metadata": {},
   "source": [
    "## 训练神经网络"
   ]
  },
  {
   "cell_type": "code",
   "execution_count": 23,
   "metadata": {},
   "outputs": [
    {
     "name": "stdout",
     "output_type": "stream",
     "text": [
      "Epoch 1/200\n",
      "17/17 [==============================] - 1s 84ms/step - loss: 0.0441 - accuracy: 0.9857 - val_loss: 0.7182 - val_accuracy: 0.8451\n",
      "Epoch 2/200\n",
      "17/17 [==============================] - 1s 81ms/step - loss: 0.0321 - accuracy: 0.9918 - val_loss: 0.7958 - val_accuracy: 0.8592\n",
      "Epoch 3/200\n",
      "17/17 [==============================] - 1s 80ms/step - loss: 0.0441 - accuracy: 0.9878 - val_loss: 0.0010 - val_accuracy: 0.8451\n",
      "Epoch 4/200\n",
      "17/17 [==============================] - 1s 81ms/step - loss: 0.0430 - accuracy: 0.9878 - val_loss: 0.7736 - val_accuracy: 0.8451\n",
      "Epoch 5/200\n",
      "17/17 [==============================] - 1s 78ms/step - loss: 0.0480 - accuracy: 0.9837 - val_loss: 0.1363 - val_accuracy: 0.8451\n",
      "Epoch 6/200\n",
      "17/17 [==============================] - 1s 80ms/step - loss: 0.0657 - accuracy: 0.9796 - val_loss: 0.4151 - val_accuracy: 0.8310\n",
      "Epoch 7/200\n",
      "17/17 [==============================] - 1s 80ms/step - loss: 0.0796 - accuracy: 0.9633 - val_loss: 0.3184 - val_accuracy: 0.8451\n",
      "Epoch 8/200\n",
      "17/17 [==============================] - 1s 79ms/step - loss: 0.0358 - accuracy: 0.9918 - val_loss: 1.2993 - val_accuracy: 0.8169\n",
      "Epoch 9/200\n",
      "17/17 [==============================] - 1s 82ms/step - loss: 0.0431 - accuracy: 0.9878 - val_loss: 0.6943 - val_accuracy: 0.7887\n",
      "Epoch 10/200\n",
      "17/17 [==============================] - 1s 79ms/step - loss: 0.0492 - accuracy: 0.9878 - val_loss: 1.1992 - val_accuracy: 0.8028\n",
      "Epoch 11/200\n",
      "17/17 [==============================] - 1s 80ms/step - loss: 0.0599 - accuracy: 0.9796 - val_loss: 1.6317 - val_accuracy: 0.8451\n",
      "Epoch 12/200\n",
      "17/17 [==============================] - 1s 78ms/step - loss: 0.0335 - accuracy: 0.9878 - val_loss: 0.7458 - val_accuracy: 0.7887\n",
      "Epoch 13/200\n",
      "17/17 [==============================] - 1s 78ms/step - loss: 0.0522 - accuracy: 0.9796 - val_loss: 0.3909 - val_accuracy: 0.8310\n",
      "Epoch 14/200\n",
      "17/17 [==============================] - 1s 76ms/step - loss: 0.0326 - accuracy: 0.9878 - val_loss: 1.7488 - val_accuracy: 0.8592\n",
      "Epoch 15/200\n",
      "17/17 [==============================] - 1s 73ms/step - loss: 0.0517 - accuracy: 0.9878 - val_loss: 0.2770 - val_accuracy: 0.8451\n",
      "Epoch 16/200\n",
      "17/17 [==============================] - 1s 69ms/step - loss: 0.0436 - accuracy: 0.9755 - val_loss: 1.8798 - val_accuracy: 0.8592\n",
      "Epoch 17/200\n",
      "17/17 [==============================] - 1s 69ms/step - loss: 0.0505 - accuracy: 0.9816 - val_loss: 0.0302 - val_accuracy: 0.8169\n",
      "Epoch 18/200\n",
      "17/17 [==============================] - 1s 71ms/step - loss: 0.0695 - accuracy: 0.9796 - val_loss: 1.6994 - val_accuracy: 0.8451\n",
      "Epoch 19/200\n",
      "17/17 [==============================] - 1s 69ms/step - loss: 0.0917 - accuracy: 0.9592 - val_loss: 2.2557 - val_accuracy: 0.9014\n",
      "Epoch 20/200\n",
      "17/17 [==============================] - 1s 68ms/step - loss: 0.0735 - accuracy: 0.9735 - val_loss: 0.6042 - val_accuracy: 0.8732\n",
      "Epoch 21/200\n",
      "17/17 [==============================] - 1s 71ms/step - loss: 0.0831 - accuracy: 0.9796 - val_loss: 0.3084 - val_accuracy: 0.8451\n",
      "Epoch 22/200\n",
      "17/17 [==============================] - 1s 70ms/step - loss: 0.0386 - accuracy: 0.9918 - val_loss: 1.5631 - val_accuracy: 0.8169\n",
      "Epoch 23/200\n",
      "17/17 [==============================] - 1s 71ms/step - loss: 0.0414 - accuracy: 0.9898 - val_loss: 1.3421 - val_accuracy: 0.8310\n",
      "Epoch 24/200\n",
      "17/17 [==============================] - 1s 70ms/step - loss: 0.0372 - accuracy: 0.9898 - val_loss: 0.5956 - val_accuracy: 0.8732\n",
      "Epoch 25/200\n",
      "17/17 [==============================] - 1s 74ms/step - loss: 0.0280 - accuracy: 0.9939 - val_loss: 0.0059 - val_accuracy: 0.8732\n",
      "Epoch 26/200\n",
      "17/17 [==============================] - 1s 86ms/step - loss: 0.0294 - accuracy: 0.9918 - val_loss: 0.8093 - val_accuracy: 0.8592\n",
      "Epoch 27/200\n",
      "17/17 [==============================] - 1s 82ms/step - loss: 0.0365 - accuracy: 0.9898 - val_loss: 0.9720 - val_accuracy: 0.8451\n",
      "Epoch 28/200\n",
      "17/17 [==============================] - 1s 73ms/step - loss: 0.0422 - accuracy: 0.9878 - val_loss: 0.0133 - val_accuracy: 0.8028\n",
      "Epoch 29/200\n",
      "17/17 [==============================] - 1s 76ms/step - loss: 0.0531 - accuracy: 0.9837 - val_loss: 0.4301 - val_accuracy: 0.8451\n",
      "Epoch 30/200\n",
      "17/17 [==============================] - 1s 77ms/step - loss: 0.0266 - accuracy: 0.9939 - val_loss: 0.2134 - val_accuracy: 0.8310\n",
      "Epoch 31/200\n",
      "17/17 [==============================] - 1s 73ms/step - loss: 0.0263 - accuracy: 0.9898 - val_loss: 1.4244 - val_accuracy: 0.8028\n",
      "Epoch 32/200\n",
      "17/17 [==============================] - 1s 72ms/step - loss: 0.0181 - accuracy: 0.9959 - val_loss: 0.7741 - val_accuracy: 0.8310\n",
      "Epoch 33/200\n",
      "17/17 [==============================] - 2s 89ms/step - loss: 0.0249 - accuracy: 0.9898 - val_loss: 0.4940 - val_accuracy: 0.8732\n",
      "Epoch 34/200\n",
      "17/17 [==============================] - 1s 76ms/step - loss: 0.0202 - accuracy: 0.9959 - val_loss: 1.6035 - val_accuracy: 0.9014\n",
      "Epoch 35/200\n",
      "17/17 [==============================] - 1s 85ms/step - loss: 0.0280 - accuracy: 0.9939 - val_loss: 0.3872 - val_accuracy: 0.8451\n",
      "Epoch 36/200\n",
      "17/17 [==============================] - 1s 82ms/step - loss: 0.0734 - accuracy: 0.9673 - val_loss: 0.0033 - val_accuracy: 0.8169\n",
      "Epoch 37/200\n",
      "17/17 [==============================] - 1s 74ms/step - loss: 0.0561 - accuracy: 0.9735 - val_loss: 0.7544 - val_accuracy: 0.8592\n",
      "Epoch 38/200\n",
      "17/17 [==============================] - 1s 73ms/step - loss: 0.0239 - accuracy: 0.9918 - val_loss: 1.8195 - val_accuracy: 0.8451\n",
      "Epoch 39/200\n",
      "17/17 [==============================] - 1s 73ms/step - loss: 0.0276 - accuracy: 0.9939 - val_loss: 1.7693 - val_accuracy: 0.8592\n",
      "Epoch 40/200\n",
      "17/17 [==============================] - 1s 70ms/step - loss: 0.0116 - accuracy: 0.9980 - val_loss: 0.4048 - val_accuracy: 0.8732\n",
      "Epoch 41/200\n",
      "17/17 [==============================] - 1s 79ms/step - loss: 0.0332 - accuracy: 0.9898 - val_loss: 0.4634 - val_accuracy: 0.8592\n",
      "Epoch 42/200\n",
      "17/17 [==============================] - 1s 84ms/step - loss: 0.0276 - accuracy: 0.9878 - val_loss: 0.0784 - val_accuracy: 0.8310\n",
      "Epoch 43/200\n",
      "17/17 [==============================] - 1s 77ms/step - loss: 0.0260 - accuracy: 0.9939 - val_loss: 1.0882 - val_accuracy: 0.8451\n",
      "Epoch 44/200\n",
      "17/17 [==============================] - 1s 69ms/step - loss: 0.0383 - accuracy: 0.9878 - val_loss: 0.0059 - val_accuracy: 0.9014\n",
      "Epoch 45/200\n",
      "17/17 [==============================] - 1s 70ms/step - loss: 0.0274 - accuracy: 0.9898 - val_loss: 0.5624 - val_accuracy: 0.8592\n",
      "Epoch 46/200\n",
      "17/17 [==============================] - 1s 69ms/step - loss: 0.0519 - accuracy: 0.9857 - val_loss: 0.0675 - val_accuracy: 0.8310\n",
      "Epoch 47/200\n",
      "17/17 [==============================] - 1s 72ms/step - loss: 0.0579 - accuracy: 0.9776 - val_loss: 0.3304 - val_accuracy: 0.8592\n",
      "Epoch 48/200\n",
      "17/17 [==============================] - 1s 71ms/step - loss: 0.0812 - accuracy: 0.9735 - val_loss: 1.0675 - val_accuracy: 0.8169\n",
      "Epoch 49/200\n",
      "17/17 [==============================] - 1s 71ms/step - loss: 0.0867 - accuracy: 0.9653 - val_loss: 0.9876 - val_accuracy: 0.8592\n",
      "Epoch 50/200\n",
      "17/17 [==============================] - 1s 71ms/step - loss: 0.0552 - accuracy: 0.9755 - val_loss: 0.0073 - val_accuracy: 0.8028\n",
      "Epoch 51/200\n",
      "17/17 [==============================] - 1s 70ms/step - loss: 0.0452 - accuracy: 0.9837 - val_loss: 0.9860 - val_accuracy: 0.9014\n",
      "Epoch 52/200\n",
      "17/17 [==============================] - 1s 70ms/step - loss: 0.0896 - accuracy: 0.9653 - val_loss: 0.4804 - val_accuracy: 0.8451\n",
      "Epoch 53/200\n",
      "17/17 [==============================] - 1s 69ms/step - loss: 0.0787 - accuracy: 0.9714 - val_loss: 0.0259 - val_accuracy: 0.8310\n",
      "Epoch 54/200\n",
      "17/17 [==============================] - 1s 69ms/step - loss: 0.0516 - accuracy: 0.9857 - val_loss: 0.4136 - val_accuracy: 0.8732\n",
      "Epoch 55/200\n",
      "17/17 [==============================] - 1s 67ms/step - loss: 0.0454 - accuracy: 0.9857 - val_loss: 0.1103 - val_accuracy: 0.8732\n",
      "Epoch 56/200\n",
      "17/17 [==============================] - 1s 71ms/step - loss: 0.0598 - accuracy: 0.9735 - val_loss: 0.0109 - val_accuracy: 0.8873\n",
      "Epoch 57/200\n",
      "17/17 [==============================] - 1s 69ms/step - loss: 0.0535 - accuracy: 0.9796 - val_loss: 0.2162 - val_accuracy: 0.8592\n",
      "Epoch 58/200\n"
     ]
    },
    {
     "name": "stdout",
     "output_type": "stream",
     "text": [
      "17/17 [==============================] - 1s 68ms/step - loss: 0.0378 - accuracy: 0.9878 - val_loss: 0.4703 - val_accuracy: 0.8451\n",
      "Epoch 59/200\n",
      "17/17 [==============================] - 1s 67ms/step - loss: 0.0468 - accuracy: 0.9939 - val_loss: 0.8570 - val_accuracy: 0.8592\n",
      "Epoch 60/200\n",
      "17/17 [==============================] - 1s 68ms/step - loss: 0.0619 - accuracy: 0.9755 - val_loss: 0.7068 - val_accuracy: 0.8451\n",
      "Epoch 61/200\n",
      "17/17 [==============================] - 1s 70ms/step - loss: 0.0563 - accuracy: 0.9837 - val_loss: 0.8436 - val_accuracy: 0.8592\n",
      "Epoch 62/200\n",
      "17/17 [==============================] - 1s 68ms/step - loss: 0.0613 - accuracy: 0.9796 - val_loss: 0.0252 - val_accuracy: 0.8592\n",
      "Epoch 63/200\n",
      "17/17 [==============================] - 1s 65ms/step - loss: 0.0997 - accuracy: 0.9673 - val_loss: 7.6620e-04 - val_accuracy: 0.8310\n",
      "Epoch 64/200\n",
      "17/17 [==============================] - 1s 68ms/step - loss: 0.0355 - accuracy: 0.9857 - val_loss: 0.5530 - val_accuracy: 0.8592\n",
      "Epoch 65/200\n",
      "17/17 [==============================] - 1s 67ms/step - loss: 0.0312 - accuracy: 0.9857 - val_loss: 1.0214 - val_accuracy: 0.8451\n",
      "Epoch 66/200\n",
      "17/17 [==============================] - 1s 69ms/step - loss: 0.0444 - accuracy: 0.9857 - val_loss: 1.7542 - val_accuracy: 0.8310\n",
      "Epoch 67/200\n",
      "17/17 [==============================] - 1s 66ms/step - loss: 0.0724 - accuracy: 0.9714 - val_loss: 0.2551 - val_accuracy: 0.8169\n",
      "Epoch 68/200\n",
      "17/17 [==============================] - 1s 68ms/step - loss: 0.0241 - accuracy: 0.9959 - val_loss: 1.5144 - val_accuracy: 0.8592\n",
      "Epoch 69/200\n",
      "17/17 [==============================] - 1s 68ms/step - loss: 0.0277 - accuracy: 0.9939 - val_loss: 0.0178 - val_accuracy: 0.8592\n",
      "Epoch 70/200\n",
      "17/17 [==============================] - 1s 68ms/step - loss: 0.0335 - accuracy: 0.9898 - val_loss: 2.4336 - val_accuracy: 0.8451\n",
      "Epoch 71/200\n",
      "17/17 [==============================] - 1s 69ms/step - loss: 0.0306 - accuracy: 0.9878 - val_loss: 0.9229 - val_accuracy: 0.8451\n",
      "Epoch 72/200\n",
      "17/17 [==============================] - 1s 68ms/step - loss: 0.0189 - accuracy: 0.9918 - val_loss: 2.1444 - val_accuracy: 0.8451\n",
      "Epoch 73/200\n",
      "17/17 [==============================] - 1s 69ms/step - loss: 0.0397 - accuracy: 0.9898 - val_loss: 0.5154 - val_accuracy: 0.8451\n",
      "Epoch 74/200\n",
      "17/17 [==============================] - 1s 69ms/step - loss: 0.0215 - accuracy: 0.9959 - val_loss: 1.3724 - val_accuracy: 0.8592\n",
      "Epoch 75/200\n",
      "17/17 [==============================] - 1s 69ms/step - loss: 0.0089 - accuracy: 1.0000 - val_loss: 1.4519 - val_accuracy: 0.8310\n",
      "Epoch 76/200\n",
      "17/17 [==============================] - 1s 68ms/step - loss: 0.0292 - accuracy: 0.9898 - val_loss: 0.2740 - val_accuracy: 0.8873\n",
      "Epoch 77/200\n",
      "17/17 [==============================] - 1s 68ms/step - loss: 0.0556 - accuracy: 0.9837 - val_loss: 0.3633 - val_accuracy: 0.8592\n",
      "Epoch 78/200\n",
      "17/17 [==============================] - 1s 69ms/step - loss: 0.0485 - accuracy: 0.9857 - val_loss: 1.5189 - val_accuracy: 0.8169\n",
      "Epoch 79/200\n",
      "17/17 [==============================] - 1s 69ms/step - loss: 0.0625 - accuracy: 0.9816 - val_loss: 0.2648 - val_accuracy: 0.8169\n",
      "Epoch 80/200\n",
      "17/17 [==============================] - 1s 67ms/step - loss: 0.0465 - accuracy: 0.9816 - val_loss: 0.3178 - val_accuracy: 0.8732\n",
      "Epoch 81/200\n",
      "17/17 [==============================] - 1s 66ms/step - loss: 0.0220 - accuracy: 0.9939 - val_loss: 2.1135 - val_accuracy: 0.8451\n",
      "Epoch 82/200\n",
      "17/17 [==============================] - 1s 69ms/step - loss: 0.0352 - accuracy: 0.9878 - val_loss: 0.4483 - val_accuracy: 0.8732\n",
      "Epoch 83/200\n",
      "17/17 [==============================] - 1s 70ms/step - loss: 0.0370 - accuracy: 0.9878 - val_loss: 0.0195 - val_accuracy: 0.8451\n",
      "Epoch 84/200\n",
      "17/17 [==============================] - 1s 67ms/step - loss: 0.0375 - accuracy: 0.9918 - val_loss: 0.2632 - val_accuracy: 0.8592\n",
      "Epoch 85/200\n",
      "17/17 [==============================] - 1s 66ms/step - loss: 0.0344 - accuracy: 0.9898 - val_loss: 1.6984 - val_accuracy: 0.8592\n",
      "Epoch 86/200\n",
      "17/17 [==============================] - 1s 69ms/step - loss: 0.0326 - accuracy: 0.9857 - val_loss: 0.0113 - val_accuracy: 0.8732\n",
      "Epoch 87/200\n",
      "17/17 [==============================] - 1s 66ms/step - loss: 0.0544 - accuracy: 0.9816 - val_loss: 0.8571 - val_accuracy: 0.8732\n",
      "Epoch 88/200\n",
      "17/17 [==============================] - 1s 68ms/step - loss: 0.0129 - accuracy: 1.0000 - val_loss: 2.8037 - val_accuracy: 0.8310\n",
      "Epoch 89/200\n",
      "17/17 [==============================] - 1s 67ms/step - loss: 0.0122 - accuracy: 0.9980 - val_loss: 0.3538 - val_accuracy: 0.8732\n",
      "Epoch 90/200\n",
      "17/17 [==============================] - 1s 67ms/step - loss: 0.0093 - accuracy: 0.9980 - val_loss: 1.7001 - val_accuracy: 0.8732\n",
      "Epoch 91/200\n",
      "17/17 [==============================] - 1s 71ms/step - loss: 0.0160 - accuracy: 0.9918 - val_loss: 0.1102 - val_accuracy: 0.8592\n",
      "Epoch 92/200\n",
      "17/17 [==============================] - 1s 77ms/step - loss: 0.0135 - accuracy: 0.9959 - val_loss: 0.2034 - val_accuracy: 0.8592\n",
      "Epoch 93/200\n",
      "17/17 [==============================] - 1s 79ms/step - loss: 0.0101 - accuracy: 0.9959 - val_loss: 0.3421 - val_accuracy: 0.8732\n",
      "Epoch 94/200\n",
      "17/17 [==============================] - 1s 76ms/step - loss: 0.0090 - accuracy: 0.9980 - val_loss: 2.4731 - val_accuracy: 0.8592\n",
      "Epoch 95/200\n",
      "17/17 [==============================] - 1s 73ms/step - loss: 0.0042 - accuracy: 1.0000 - val_loss: 0.8216 - val_accuracy: 0.8732\n",
      "Epoch 96/200\n",
      "17/17 [==============================] - 1s 69ms/step - loss: 0.0109 - accuracy: 0.9959 - val_loss: 1.9586 - val_accuracy: 0.8592\n",
      "Epoch 97/200\n",
      "17/17 [==============================] - 1s 71ms/step - loss: 0.0060 - accuracy: 1.0000 - val_loss: 0.5709 - val_accuracy: 0.8873\n",
      "Epoch 98/200\n",
      "17/17 [==============================] - 1s 70ms/step - loss: 0.0110 - accuracy: 0.9959 - val_loss: 0.0511 - val_accuracy: 0.8451\n",
      "Epoch 99/200\n",
      "17/17 [==============================] - 1s 76ms/step - loss: 0.0078 - accuracy: 1.0000 - val_loss: 3.0240 - val_accuracy: 0.8451\n",
      "Epoch 100/200\n",
      "17/17 [==============================] - 1s 72ms/step - loss: 0.0049 - accuracy: 1.0000 - val_loss: 0.1110 - val_accuracy: 0.8451\n",
      "Epoch 101/200\n",
      "17/17 [==============================] - 1s 73ms/step - loss: 0.0094 - accuracy: 0.9959 - val_loss: 0.8845 - val_accuracy: 0.8732\n",
      "Epoch 102/200\n",
      "17/17 [==============================] - 1s 70ms/step - loss: 0.0070 - accuracy: 0.9980 - val_loss: 0.9642 - val_accuracy: 0.8451\n",
      "Epoch 103/200\n",
      "17/17 [==============================] - 1s 73ms/step - loss: 0.0150 - accuracy: 0.9939 - val_loss: 1.3212 - val_accuracy: 0.8732\n",
      "Epoch 104/200\n",
      "17/17 [==============================] - 1s 77ms/step - loss: 0.0109 - accuracy: 0.9959 - val_loss: 0.9320 - val_accuracy: 0.8592\n",
      "Epoch 105/200\n",
      "17/17 [==============================] - 1s 73ms/step - loss: 0.0100 - accuracy: 0.9980 - val_loss: 1.3269 - val_accuracy: 0.8451\n",
      "Epoch 106/200\n",
      "17/17 [==============================] - 1s 70ms/step - loss: 0.0058 - accuracy: 0.9980 - val_loss: 0.6502 - val_accuracy: 0.8592\n",
      "Epoch 107/200\n",
      "17/17 [==============================] - 1s 71ms/step - loss: 0.0180 - accuracy: 0.9898 - val_loss: 1.5277 - val_accuracy: 0.8310\n",
      "Epoch 108/200\n",
      "17/17 [==============================] - 1s 78ms/step - loss: 0.0315 - accuracy: 0.9857 - val_loss: 0.0431 - val_accuracy: 0.9014\n",
      "Epoch 109/200\n",
      "17/17 [==============================] - 1s 71ms/step - loss: 0.0252 - accuracy: 0.9918 - val_loss: 1.6182 - val_accuracy: 0.8592\n",
      "Epoch 110/200\n",
      "17/17 [==============================] - 1s 74ms/step - loss: 0.0194 - accuracy: 0.9939 - val_loss: 0.8285 - val_accuracy: 0.8169\n",
      "Epoch 111/200\n",
      "17/17 [==============================] - 1s 71ms/step - loss: 0.0283 - accuracy: 0.9918 - val_loss: 2.4920 - val_accuracy: 0.8592\n",
      "Epoch 112/200\n",
      "17/17 [==============================] - 1s 72ms/step - loss: 0.0732 - accuracy: 0.9755 - val_loss: 0.0379 - val_accuracy: 0.8732\n",
      "Epoch 113/200\n",
      "17/17 [==============================] - 1s 70ms/step - loss: 0.0962 - accuracy: 0.9776 - val_loss: 0.4805 - val_accuracy: 0.8310\n",
      "Epoch 114/200\n",
      "17/17 [==============================] - 1s 70ms/step - loss: 0.0705 - accuracy: 0.9796 - val_loss: 0.5179 - val_accuracy: 0.8592\n",
      "Epoch 115/200\n"
     ]
    },
    {
     "name": "stdout",
     "output_type": "stream",
     "text": [
      "17/17 [==============================] - 1s 70ms/step - loss: 0.0570 - accuracy: 0.9776 - val_loss: 0.6371 - val_accuracy: 0.8873\n",
      "Epoch 116/200\n",
      "17/17 [==============================] - 1s 68ms/step - loss: 0.0244 - accuracy: 0.9939 - val_loss: 0.3500 - val_accuracy: 0.8310\n",
      "Epoch 117/200\n",
      "17/17 [==============================] - 1s 67ms/step - loss: 0.0280 - accuracy: 0.9878 - val_loss: 0.0887 - val_accuracy: 0.8310\n",
      "Epoch 118/200\n",
      "17/17 [==============================] - 1s 68ms/step - loss: 0.0279 - accuracy: 0.9918 - val_loss: 0.0364 - val_accuracy: 0.8592\n",
      "Epoch 119/200\n",
      "17/17 [==============================] - 1s 66ms/step - loss: 0.0275 - accuracy: 0.9939 - val_loss: 0.1288 - val_accuracy: 0.8592\n",
      "Epoch 120/200\n",
      "17/17 [==============================] - 1s 68ms/step - loss: 0.0312 - accuracy: 0.9857 - val_loss: 1.0531 - val_accuracy: 0.8451\n",
      "Epoch 121/200\n",
      "17/17 [==============================] - 1s 69ms/step - loss: 0.0269 - accuracy: 0.9878 - val_loss: 0.3667 - val_accuracy: 0.8873\n",
      "Epoch 122/200\n",
      "17/17 [==============================] - 1s 67ms/step - loss: 0.0273 - accuracy: 0.9918 - val_loss: 0.1016 - val_accuracy: 0.8451\n",
      "Epoch 123/200\n",
      "17/17 [==============================] - 1s 65ms/step - loss: 0.0114 - accuracy: 1.0000 - val_loss: 0.5295 - val_accuracy: 0.9014\n",
      "Epoch 124/200\n",
      "17/17 [==============================] - 1s 70ms/step - loss: 0.0096 - accuracy: 0.9980 - val_loss: 0.2280 - val_accuracy: 0.8873\n",
      "Epoch 125/200\n",
      "17/17 [==============================] - 1s 70ms/step - loss: 0.0078 - accuracy: 0.9980 - val_loss: 0.3695 - val_accuracy: 0.8592\n",
      "Epoch 126/200\n",
      "17/17 [==============================] - 1s 66ms/step - loss: 0.0216 - accuracy: 0.9939 - val_loss: 0.2106 - val_accuracy: 0.8732\n",
      "Epoch 127/200\n",
      "17/17 [==============================] - 1s 67ms/step - loss: 0.0186 - accuracy: 0.9959 - val_loss: 0.0185 - val_accuracy: 0.9014\n",
      "Epoch 128/200\n",
      "17/17 [==============================] - 1s 68ms/step - loss: 0.0203 - accuracy: 0.9959 - val_loss: 0.0044 - val_accuracy: 0.8310\n",
      "Epoch 129/200\n",
      "17/17 [==============================] - 1s 67ms/step - loss: 0.0137 - accuracy: 0.9959 - val_loss: 0.8470 - val_accuracy: 0.8592\n",
      "Epoch 130/200\n",
      "17/17 [==============================] - 1s 69ms/step - loss: 0.0165 - accuracy: 0.9959 - val_loss: 0.3983 - val_accuracy: 0.8873\n",
      "Epoch 131/200\n",
      "17/17 [==============================] - 1s 67ms/step - loss: 0.0348 - accuracy: 0.9857 - val_loss: 0.3316 - val_accuracy: 0.8592\n",
      "Epoch 132/200\n",
      "17/17 [==============================] - 1s 67ms/step - loss: 0.0628 - accuracy: 0.9816 - val_loss: 0.4546 - val_accuracy: 0.8451\n",
      "Epoch 133/200\n",
      "17/17 [==============================] - 1s 68ms/step - loss: 0.0523 - accuracy: 0.9735 - val_loss: 0.6540 - val_accuracy: 0.8592\n",
      "Epoch 134/200\n",
      "17/17 [==============================] - 1s 68ms/step - loss: 0.0172 - accuracy: 0.9939 - val_loss: 0.0239 - val_accuracy: 0.8592\n",
      "Epoch 135/200\n",
      "17/17 [==============================] - 1s 68ms/step - loss: 0.0214 - accuracy: 0.9918 - val_loss: 0.9157 - val_accuracy: 0.9014\n",
      "Epoch 136/200\n",
      "17/17 [==============================] - 1s 68ms/step - loss: 0.0099 - accuracy: 0.9980 - val_loss: 0.6676 - val_accuracy: 0.8873\n",
      "Epoch 137/200\n",
      "17/17 [==============================] - 1s 66ms/step - loss: 0.0208 - accuracy: 0.9959 - val_loss: 2.2302 - val_accuracy: 0.8873\n",
      "Epoch 138/200\n",
      "17/17 [==============================] - 1s 67ms/step - loss: 0.0193 - accuracy: 0.9918 - val_loss: 2.9622 - val_accuracy: 0.8451\n",
      "Epoch 139/200\n",
      "17/17 [==============================] - 1s 70ms/step - loss: 0.0194 - accuracy: 0.9918 - val_loss: 4.1633 - val_accuracy: 0.8451\n",
      "Epoch 140/200\n",
      "17/17 [==============================] - 1s 68ms/step - loss: 0.0464 - accuracy: 0.9857 - val_loss: 0.3794 - val_accuracy: 0.8592\n",
      "Epoch 141/200\n",
      "17/17 [==============================] - 1s 68ms/step - loss: 0.0383 - accuracy: 0.9857 - val_loss: 2.2300 - val_accuracy: 0.8732\n",
      "Epoch 142/200\n",
      "17/17 [==============================] - 1s 68ms/step - loss: 0.0262 - accuracy: 0.9857 - val_loss: 0.0449 - val_accuracy: 0.8592\n",
      "Epoch 143/200\n",
      "17/17 [==============================] - 1s 67ms/step - loss: 0.0464 - accuracy: 0.9918 - val_loss: 1.4613 - val_accuracy: 0.8451\n",
      "Epoch 144/200\n",
      "17/17 [==============================] - 1s 70ms/step - loss: 0.0252 - accuracy: 0.9918 - val_loss: 2.9068 - val_accuracy: 0.8592\n",
      "Epoch 145/200\n",
      "17/17 [==============================] - 1s 66ms/step - loss: 0.0300 - accuracy: 0.9918 - val_loss: 2.4223 - val_accuracy: 0.8592\n",
      "Epoch 146/200\n",
      "17/17 [==============================] - 1s 69ms/step - loss: 0.0098 - accuracy: 0.9980 - val_loss: 0.2988 - val_accuracy: 0.8592\n",
      "Epoch 147/200\n",
      "17/17 [==============================] - 1s 75ms/step - loss: 0.0063 - accuracy: 1.0000 - val_loss: 0.7731 - val_accuracy: 0.8732\n",
      "Epoch 148/200\n",
      "17/17 [==============================] - 1s 79ms/step - loss: 0.0039 - accuracy: 1.0000 - val_loss: 1.7008 - val_accuracy: 0.8732\n",
      "Epoch 149/200\n",
      "17/17 [==============================] - 1s 75ms/step - loss: 0.0158 - accuracy: 0.9959 - val_loss: 0.5671 - val_accuracy: 0.8310\n",
      "Epoch 150/200\n",
      "17/17 [==============================] - 1s 72ms/step - loss: 0.0147 - accuracy: 0.9959 - val_loss: 1.5492 - val_accuracy: 0.8732\n",
      "Epoch 151/200\n",
      "17/17 [==============================] - 1s 71ms/step - loss: 0.0209 - accuracy: 0.9939 - val_loss: 0.1570 - val_accuracy: 0.8592\n",
      "Epoch 152/200\n",
      "17/17 [==============================] - 1s 74ms/step - loss: 0.0170 - accuracy: 0.9898 - val_loss: 0.8017 - val_accuracy: 0.8732\n",
      "Epoch 153/200\n",
      "17/17 [==============================] - 1s 69ms/step - loss: 0.0050 - accuracy: 1.0000 - val_loss: 0.6957 - val_accuracy: 0.8592\n",
      "Epoch 154/200\n",
      "17/17 [==============================] - 1s 70ms/step - loss: 0.0025 - accuracy: 1.0000 - val_loss: 0.8932 - val_accuracy: 0.8592\n",
      "Epoch 155/200\n",
      "17/17 [==============================] - 1s 69ms/step - loss: 0.0100 - accuracy: 0.9980 - val_loss: 0.9830 - val_accuracy: 0.8592\n",
      "Epoch 156/200\n",
      "17/17 [==============================] - 1s 67ms/step - loss: 0.0076 - accuracy: 0.9959 - val_loss: 1.5397 - val_accuracy: 0.8310\n",
      "Epoch 157/200\n",
      "17/17 [==============================] - 1s 69ms/step - loss: 0.0086 - accuracy: 0.9980 - val_loss: 2.7694 - val_accuracy: 0.8732\n",
      "Epoch 158/200\n",
      "17/17 [==============================] - 1s 69ms/step - loss: 0.0133 - accuracy: 0.9980 - val_loss: 0.1270 - val_accuracy: 0.8592\n",
      "Epoch 159/200\n",
      "17/17 [==============================] - 1s 70ms/step - loss: 0.0161 - accuracy: 0.9939 - val_loss: 0.5290 - val_accuracy: 0.8592\n",
      "Epoch 160/200\n",
      "17/17 [==============================] - 1s 70ms/step - loss: 0.0259 - accuracy: 0.9918 - val_loss: 0.2342 - val_accuracy: 0.8592\n",
      "Epoch 161/200\n",
      "17/17 [==============================] - 1s 72ms/step - loss: 0.0153 - accuracy: 0.9939 - val_loss: 2.0329 - val_accuracy: 0.8732\n",
      "Epoch 162/200\n",
      "17/17 [==============================] - 1s 71ms/step - loss: 0.0267 - accuracy: 0.9878 - val_loss: 0.0352 - val_accuracy: 0.8732\n",
      "Epoch 163/200\n",
      "17/17 [==============================] - 1s 70ms/step - loss: 0.0266 - accuracy: 0.9857 - val_loss: 1.4171 - val_accuracy: 0.8028\n",
      "Epoch 164/200\n",
      "17/17 [==============================] - 1s 69ms/step - loss: 0.0118 - accuracy: 0.9959 - val_loss: 0.5212 - val_accuracy: 0.8732\n",
      "Epoch 165/200\n",
      "17/17 [==============================] - 1s 71ms/step - loss: 0.0042 - accuracy: 1.0000 - val_loss: 0.5155 - val_accuracy: 0.8592\n",
      "Epoch 166/200\n",
      "17/17 [==============================] - 1s 70ms/step - loss: 0.0153 - accuracy: 0.9959 - val_loss: 0.0897 - val_accuracy: 0.8310\n",
      "Epoch 167/200\n",
      "17/17 [==============================] - 1s 68ms/step - loss: 0.0235 - accuracy: 0.9918 - val_loss: 0.2474 - val_accuracy: 0.8310\n",
      "Epoch 168/200\n",
      "17/17 [==============================] - 1s 71ms/step - loss: 0.0222 - accuracy: 0.9939 - val_loss: 1.6790 - val_accuracy: 0.8451\n",
      "Epoch 169/200\n",
      "17/17 [==============================] - 1s 71ms/step - loss: 0.0481 - accuracy: 0.9857 - val_loss: 0.8634 - val_accuracy: 0.8732\n",
      "Epoch 170/200\n",
      "17/17 [==============================] - 1s 70ms/step - loss: 0.0729 - accuracy: 0.9694 - val_loss: 0.3205 - val_accuracy: 0.8592\n",
      "Epoch 171/200\n",
      "17/17 [==============================] - 1s 72ms/step - loss: 0.0883 - accuracy: 0.9673 - val_loss: 0.9979 - val_accuracy: 0.8732\n"
     ]
    },
    {
     "name": "stdout",
     "output_type": "stream",
     "text": [
      "Epoch 172/200\n",
      "17/17 [==============================] - 1s 69ms/step - loss: 0.0673 - accuracy: 0.9755 - val_loss: 0.3376 - val_accuracy: 0.8169\n",
      "Epoch 173/200\n",
      "17/17 [==============================] - 1s 69ms/step - loss: 0.0436 - accuracy: 0.9837 - val_loss: 0.0809 - val_accuracy: 0.8732\n",
      "Epoch 174/200\n",
      "17/17 [==============================] - 1s 68ms/step - loss: 0.0201 - accuracy: 0.9959 - val_loss: 0.0143 - val_accuracy: 0.8732\n",
      "Epoch 175/200\n",
      "17/17 [==============================] - 1s 65ms/step - loss: 0.0334 - accuracy: 0.9898 - val_loss: 0.7144 - val_accuracy: 0.8451\n",
      "Epoch 176/200\n",
      "17/17 [==============================] - 1s 68ms/step - loss: 0.0093 - accuracy: 0.9980 - val_loss: 0.2496 - val_accuracy: 0.8451\n",
      "Epoch 177/200\n",
      "17/17 [==============================] - 1s 68ms/step - loss: 0.0092 - accuracy: 0.9959 - val_loss: 0.1113 - val_accuracy: 0.8169\n",
      "Epoch 178/200\n",
      "17/17 [==============================] - 1s 69ms/step - loss: 0.0112 - accuracy: 0.9959 - val_loss: 0.5379 - val_accuracy: 0.8169\n",
      "Epoch 179/200\n",
      "17/17 [==============================] - 1s 69ms/step - loss: 0.0048 - accuracy: 1.0000 - val_loss: 0.0173 - val_accuracy: 0.8310\n",
      "Epoch 180/200\n",
      "17/17 [==============================] - 1s 69ms/step - loss: 0.0338 - accuracy: 0.9878 - val_loss: 0.1598 - val_accuracy: 0.8169\n",
      "Epoch 181/200\n",
      "17/17 [==============================] - 1s 70ms/step - loss: 0.0181 - accuracy: 0.9939 - val_loss: 3.1462 - val_accuracy: 0.8732\n",
      "Epoch 182/200\n",
      "17/17 [==============================] - 1s 70ms/step - loss: 0.0231 - accuracy: 0.9918 - val_loss: 0.9660 - val_accuracy: 0.8592\n",
      "Epoch 183/200\n",
      "17/17 [==============================] - 1s 68ms/step - loss: 0.0113 - accuracy: 0.9959 - val_loss: 0.1027 - val_accuracy: 0.8028\n",
      "Epoch 184/200\n",
      "17/17 [==============================] - 1s 70ms/step - loss: 0.0180 - accuracy: 0.9959 - val_loss: 0.1695 - val_accuracy: 0.8310\n",
      "Epoch 185/200\n",
      "17/17 [==============================] - 1s 68ms/step - loss: 0.0942 - accuracy: 0.9633 - val_loss: 1.8829 - val_accuracy: 0.8169\n",
      "Epoch 186/200\n",
      "17/17 [==============================] - 1s 69ms/step - loss: 0.1247 - accuracy: 0.9469 - val_loss: 3.0717 - val_accuracy: 0.8451\n",
      "Epoch 187/200\n",
      "17/17 [==============================] - 1s 69ms/step - loss: 0.0675 - accuracy: 0.9714 - val_loss: 0.0534 - val_accuracy: 0.8592\n",
      "Epoch 188/200\n",
      "17/17 [==============================] - 1s 70ms/step - loss: 0.0352 - accuracy: 0.9816 - val_loss: 0.0055 - val_accuracy: 0.8451\n",
      "Epoch 189/200\n",
      "17/17 [==============================] - 1s 69ms/step - loss: 0.0246 - accuracy: 0.9918 - val_loss: 2.4151 - val_accuracy: 0.8873\n",
      "Epoch 190/200\n",
      "17/17 [==============================] - 1s 69ms/step - loss: 0.0318 - accuracy: 0.9898 - val_loss: 0.1480 - val_accuracy: 0.8732\n",
      "Epoch 191/200\n",
      "17/17 [==============================] - 1s 71ms/step - loss: 0.0290 - accuracy: 0.9918 - val_loss: 1.7429 - val_accuracy: 0.8169\n",
      "Epoch 192/200\n",
      "17/17 [==============================] - 1s 68ms/step - loss: 0.0176 - accuracy: 0.9939 - val_loss: 2.0688 - val_accuracy: 0.8592\n",
      "Epoch 193/200\n",
      "17/17 [==============================] - 1s 68ms/step - loss: 0.0074 - accuracy: 1.0000 - val_loss: 0.1047 - val_accuracy: 0.8732\n",
      "Epoch 194/200\n",
      "17/17 [==============================] - 1s 69ms/step - loss: 0.0164 - accuracy: 0.9959 - val_loss: 0.1376 - val_accuracy: 0.8028\n",
      "Epoch 195/200\n",
      "17/17 [==============================] - 1s 69ms/step - loss: 0.0239 - accuracy: 0.9898 - val_loss: 1.2099 - val_accuracy: 0.8028\n",
      "Epoch 196/200\n",
      "17/17 [==============================] - 1s 68ms/step - loss: 0.0509 - accuracy: 0.9837 - val_loss: 1.5073 - val_accuracy: 0.8732\n",
      "Epoch 197/200\n",
      "17/17 [==============================] - 1s 67ms/step - loss: 0.0255 - accuracy: 0.9878 - val_loss: 0.2027 - val_accuracy: 0.8028\n",
      "Epoch 198/200\n",
      "17/17 [==============================] - 1s 68ms/step - loss: 0.0157 - accuracy: 0.9939 - val_loss: 3.8606 - val_accuracy: 0.8310\n",
      "Epoch 199/200\n",
      "17/17 [==============================] - 1s 69ms/step - loss: 0.0120 - accuracy: 0.9939 - val_loss: 0.7125 - val_accuracy: 0.8592\n",
      "Epoch 200/200\n",
      "17/17 [==============================] - 1s 68ms/step - loss: 0.0076 - accuracy: 0.9980 - val_loss: 0.0171 - val_accuracy: 0.8451\n"
     ]
    }
   ],
   "source": [
    "history = classifier.fit_generator(\n",
    "    training_set, \n",
    "    epochs = 200,\n",
    "    verbose=1,\n",
    "    validation_data= test_set\n",
    ")"
   ]
  },
  {
   "cell_type": "markdown",
   "metadata": {},
   "source": [
    "# 预测单张图片"
   ]
  },
  {
   "cell_type": "code",
   "execution_count": 25,
   "metadata": {},
   "outputs": [],
   "source": [
    "import numpy as np\n",
    "import cv2 as cv\n",
    "import matplotlib.pyplot as plt\n",
    "from PIL import Image\n",
    "\n",
    "## 截取图片的面部特征\n",
    "face_cascade = cv.CascadeClassifier('/usr/local/Cellar/opencv/4.2.0_1/share/opencv4/haarcascades/haarcascade_frontalface_default.xml')\n",
    "img = cv.imread('timg.jpeg')\n",
    "faces = face_cascade.detectMultiScale(img, 1.3, 5)\n",
    "im = Image.open('timg.jpeg')\n",
    "\n",
    "for (x, y, w, h) in faces:\n",
    "    roi_color = img[y:y+h, x:x+w]\n",
    "    box = (x, y, x+w, y+h)\n",
    "    crpim = im.crop(box).resize((64, 64))\n",
    "    crpim.save('test3.jpeg')   "
   ]
  },
  {
   "cell_type": "code",
   "execution_count": 28,
   "metadata": {},
   "outputs": [
    {
     "name": "stdout",
     "output_type": "stream",
     "text": [
      "图片：范冰冰3.jpg 检测结果：范冰冰\n",
      "图片：范冰冰2.jpg 检测结果：范冰冰\n",
      "图片：林志玲4.jpeg 检测结果：是林志玲\n",
      "图片：林志玲3.jpg 检测结果：是迪丽热巴\n",
      "图片：林志玲2.jpg 检测结果：是林志玲\n",
      "图片：林志玲.jpg 检测结果：是林志玲\n",
      "图片：迪丽热巴2.jpeg 检测结果：是迪丽热巴\n",
      "图片：迪丽热巴.jpeg 检测结果：是迪丽热巴\n",
      "图片：范冰冰.jpg 检测结果：范冰冰\n",
      "图片：迪丽热巴3.jpg 检测结果：是迪丽热巴\n"
     ]
    }
   ],
   "source": [
    "from keras.preprocessing import image\n",
    "\n",
    "for f in os.listdir('prediction_dataset/'):\n",
    "    if f != '.DS_Store':\n",
    "        test_image = image.load_img('prediction_dataset/{}'.format(f), target_size=(64, 64))\n",
    "        test_image = image.img_to_array(test_image)\n",
    "\n",
    "        test_image = np.expand_dims(test_image, axis = 0)\n",
    "        num = classifier.predict_classes(test_image)\n",
    "        if num == 0:\n",
    "            print('图片：' + f + ' 检测结果：范冰冰')\n",
    "        elif num == 1:\n",
    "            print('图片：' + f + ' 检测结果：是迪丽热巴')\n",
    "        elif num == 2:\n",
    "            print('图片：' + f + ' 检测结果：是林志玲')"
   ]
  },
  {
   "cell_type": "code",
   "execution_count": null,
   "metadata": {},
   "outputs": [],
   "source": []
  },
  {
   "cell_type": "code",
   "execution_count": null,
   "metadata": {},
   "outputs": [],
   "source": []
  }
 ],
 "metadata": {
  "kernelspec": {
   "display_name": "Python 3",
   "language": "python",
   "name": "python3"
  },
  "language_info": {
   "codemirror_mode": {
    "name": "ipython",
    "version": 3
   },
   "file_extension": ".py",
   "mimetype": "text/x-python",
   "name": "python",
   "nbconvert_exporter": "python",
   "pygments_lexer": "ipython3",
   "version": "3.7.4"
  }
 },
 "nbformat": 4,
 "nbformat_minor": 2
}
