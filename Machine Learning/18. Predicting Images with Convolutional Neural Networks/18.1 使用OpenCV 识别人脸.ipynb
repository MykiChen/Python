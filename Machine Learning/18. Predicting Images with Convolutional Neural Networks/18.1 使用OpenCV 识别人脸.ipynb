{
 "cells": [
  {
   "cell_type": "code",
   "execution_count": 5,
   "metadata": {},
   "outputs": [],
   "source": [
    "import cv2"
   ]
  },
  {
   "cell_type": "code",
   "execution_count": 6,
   "metadata": {},
   "outputs": [],
   "source": [
    "import numpy as np\n",
    "import cv2 as cv\n",
    "import matplotlib.pyplot as plt"
   ]
  },
  {
   "cell_type": "code",
   "execution_count": 12,
   "metadata": {},
   "outputs": [],
   "source": [
    "img = cv.imread('test/u=3408544107,587327501&fm=26&gp=0.jpg')"
   ]
  },
  {
   "cell_type": "code",
   "execution_count": 13,
   "metadata": {},
   "outputs": [
    {
     "data": {
      "text/plain": [
       "(733, 500, 3)"
      ]
     },
     "execution_count": 13,
     "metadata": {},
     "output_type": "execute_result"
    }
   ],
   "source": [
    "img.shape"
   ]
  },
  {
   "cell_type": "code",
   "execution_count": 19,
   "metadata": {},
   "outputs": [],
   "source": [
    "face_cascade = cv.CascadeClassifier('/usr/local/Cellar/opencv/4.2.0_1/share/opencv4/haarcascades/haarcascade_frontalface_default.xml')\n",
    "faces = face_cascade.detectMultiScale(img, 1.3, 5)"
   ]
  },
  {
   "cell_type": "code",
   "execution_count": 21,
   "metadata": {},
   "outputs": [
    {
     "name": "stdout",
     "output_type": "stream",
     "text": [
      "82 49 239 239\n"
     ]
    }
   ],
   "source": [
    "for (x, y, w, h) in faces:\n",
    "    print(x, y, w, h)"
   ]
  },
  {
   "cell_type": "markdown",
   "metadata": {},
   "source": [
    "# 截取人物脸部特征"
   ]
  },
  {
   "cell_type": "code",
   "execution_count": 23,
   "metadata": {},
   "outputs": [],
   "source": [
    "x, y, w, h = faces[0]"
   ]
  },
  {
   "cell_type": "code",
   "execution_count": 28,
   "metadata": {},
   "outputs": [
    {
     "data": {
      "image/png": "[encoded data removed]",
      "text/plain": [
       "<PIL.Image.Image image mode=RGB size=64x64 at 0x12E735E10>"
      ]
     },
     "execution_count": 28,
     "metadata": {},
     "output_type": "execute_result"
    }
   ],
   "source": [
    "im = Image.open('test/u=3408544107,587327501&fm=26&gp=0.jpg')\n",
    "#im\n",
    "crpim = im.crop((x, y, x+w, y+h)).resize((64, 64))\n",
    "crpim"
   ]
  },
  {
   "cell_type": "code",
   "execution_count": 20,
   "metadata": {},
   "outputs": [
    {
     "data": {
      "text/plain": [
       "array([[ 82,  49, 239, 239]], dtype=int32)"
      ]
     },
     "execution_count": 20,
     "metadata": {},
     "output_type": "execute_result"
    }
   ],
   "source": [
    "faces"
   ]
  },
  {
   "cell_type": "markdown",
   "metadata": {},
   "source": [
    "# 使用OpenCV 撷取人脸特征"
   ]
  },
  {
   "cell_type": "code",
   "execution_count": 8,
   "metadata": {},
   "outputs": [],
   "source": [
    "face_cascade = cv.CascadeClassifier('/usr/local/Cellar/opencv/4.2.0_1/share/opencv4/haarcascades/haarcascade_frontalface_default.xml')\n",
    "from PIL import Image\n",
    "\n",
    "\n",
    "def extractFace(filename, src_dir, dest_dir):\n",
    "    img = cv.imread(src_dir + filename)\n",
    "    faces = face_cascade.detectMultiScale(img, 1.3, 5)\n",
    "    im = Image.open(src_dir + filename)\n",
    "    \n",
    "    for (x, y, w, h) in faces:\n",
    "        roi_color = img[y:y+h, x:x+w]\n",
    "        box = (x, y, x+w, y+h)\n",
    "        crpim = im.crop(box).resize((64, 64))\n",
    "        crpim.save(dest_dir + filename)"
   ]
  },
  {
   "cell_type": "code",
   "execution_count": 29,
   "metadata": {},
   "outputs": [],
   "source": [
    "import os\n",
    "os.mkdir('test_dest')"
   ]
  },
  {
   "cell_type": "code",
   "execution_count": 31,
   "metadata": {},
   "outputs": [],
   "source": [
    "for filename in os.listdir('test/'):\n",
    "    #print(filename)\n",
    "    extractFace(filename, 'test/', 'test_dest/')"
   ]
  },
  {
   "cell_type": "code",
   "execution_count": 32,
   "metadata": {},
   "outputs": [
    {
     "name": "stdout",
     "output_type": "stream",
     "text": [
      "u=1026072586,3252301526&fm=26&gp=0.jpg  u=3178144116,2632627549&fm=11&gp=0.jpg\r\n",
      "u=1069877562,2993767554&fm=26&gp=0.jpg  u=3196725384,696585573&fm=26&gp=0.jpg\r\n",
      "u=1072133755,3607786547&fm=26&gp=0.jpg  u=3203937670,1500910800&fm=26&gp=0.jpg\r\n",
      "u=11020893,2970649864&fm=26&gp=0.jpg    u=3218279309,1922703903&fm=26&gp=0.jpg\r\n",
      "u=1108290342,914514499&fm=26&gp=0.jpg   u=3268890134,1691381957&fm=26&gp=0.jpg\r\n",
      "u=1204697121,4176423980&fm=26&gp=0.jpg  u=3349166234,83335653&fm=26&gp=0.jpg\r\n",
      "u=1378251808,1870721789&fm=26&gp=0.jpg  u=3408544107,587327501&fm=26&gp=0.jpg\r\n",
      "u=1493861709,1532511090&fm=26&gp=0.jpg  u=360998621,419572621&fm=26&gp=0.jpg\r\n",
      "u=1532109136,137283760&fm=26&gp=0.jpg   u=3635427446,4064730232&fm=26&gp=0.jpg\r\n",
      "u=1537140018,1756493593&fm=26&gp=0.jpg  u=3657239571,3516215790&fm=26&gp=0.jpg\r\n",
      "u=1548044685,853025122&fm=26&gp=0.jpg   u=3712204949,458457534&fm=26&gp=0.jpg\r\n",
      "u=1598262576,1047963381&fm=26&gp=0.jpg  u=3717448680,665131713&fm=26&gp=0.jpg\r\n",
      "u=1644260657,225850750&fm=11&gp=0.jpg   u=3884055424,1857330463&fm=26&gp=0.jpg\r\n",
      "u=1725850496,4260508464&fm=26&gp=0.jpg  u=3891329882,3419376577&fm=26&gp=0.jpg\r\n",
      "u=1794176141,1355411511&fm=11&gp=0.jpg  u=399506006,2559128392&fm=11&gp=0.jpg\r\n",
      "u=1848636330,3067940941&fm=26&gp=0.jpg  u=4056041354,1035511434&fm=26&gp=0.jpg\r\n",
      "u=1997117335,693201542&fm=26&gp=0.jpg   u=4060664514,2997562150&fm=26&gp=0.jpg\r\n",
      "u=2237654343,3198451197&fm=26&gp=0.jpg  u=4060701928,2728128428&fm=26&gp=0.jpg\r\n",
      "u=2333839903,789856580&fm=26&gp=0.jpg   u=4100403988,3152306730&fm=26&gp=0.jpg\r\n",
      "u=2450798364,1945674487&fm=11&gp=0.jpg  u=4106905631,729210444&fm=26&gp=0.jpg\r\n",
      "u=2580049278,1798556462&fm=26&gp=0.jpg  u=4132444391,494757823&fm=26&gp=0.jpg\r\n",
      "u=2748874680,3359461800&fm=26&gp=0.jpg  u=4160063475,3181934226&fm=26&gp=0.jpg\r\n",
      "u=2874238347,3592959666&fm=26&gp=0.jpg  u=4227187368,86029311&fm=11&gp=0.jpg\r\n",
      "u=2988883253,3960620295&fm=26&gp=0.jpg  u=842413498,4246208804&fm=11&gp=0.jpg\r\n",
      "u=3048895435,1763630038&fm=26&gp=0.jpg\r\n"
     ]
    }
   ],
   "source": [
    "%ls 'test_dest/'"
   ]
  },
  {
   "cell_type": "code",
   "execution_count": 33,
   "metadata": {},
   "outputs": [
    {
     "data": {
      "image/png": "[encoded data removed]",
      "text/plain": [
       "<PIL.JpegImagePlugin.JpegImageFile image mode=RGB size=64x64 at 0x12E82AB50>"
      ]
     },
     "execution_count": 33,
     "metadata": {},
     "output_type": "execute_result"
    }
   ],
   "source": [
    "Image.open('test_dest/u=1026072586,3252301526&fm=26&gp=0.jpg')"
   ]
  },
  {
   "cell_type": "code",
   "execution_count": null,
   "metadata": {},
   "outputs": [],
   "source": []
  }
 ],
 "metadata": {
  "kernelspec": {
   "display_name": "Python 3",
   "language": "python",
   "name": "python3"
  },
  "language_info": {
   "codemirror_mode": {
    "name": "ipython",
    "version": 3
   },
   "file_extension": ".py",
   "mimetype": "text/x-python",
   "name": "python",
   "nbconvert_exporter": "python",
   "pygments_lexer": "ipython3",
   "version": "3.7.4"
  }
 },
 "nbformat": 4,
 "nbformat_minor": 2
}
