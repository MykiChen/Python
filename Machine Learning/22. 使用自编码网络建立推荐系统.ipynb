{
 "cells": [
  {
   "cell_type": "code",
   "execution_count": 1,
   "metadata": {},
   "outputs": [],
   "source": [
    "import pandas"
   ]
  },
  {
   "cell_type": "code",
   "execution_count": 49,
   "metadata": {},
   "outputs": [
    {
     "data": {
      "text/html": [
       "<div>\n",
       "<style scoped>\n",
       "    .dataframe tbody tr th:only-of-type {\n",
       "        vertical-align: middle;\n",
       "    }\n",
       "\n",
       "    .dataframe tbody tr th {\n",
       "        vertical-align: top;\n",
       "    }\n",
       "\n",
       "    .dataframe thead th {\n",
       "        text-align: right;\n",
       "    }\n",
       "</style>\n",
       "<table border=\"1\" class=\"dataframe\">\n",
       "  <thead>\n",
       "    <tr style=\"text-align: right;\">\n",
       "      <th></th>\n",
       "      <th>userid</th>\n",
       "      <th>itemid</th>\n",
       "      <th>rating</th>\n",
       "      <th>tm</th>\n",
       "    </tr>\n",
       "  </thead>\n",
       "  <tbody>\n",
       "    <tr>\n",
       "      <td>0</td>\n",
       "      <td>1</td>\n",
       "      <td>1</td>\n",
       "      <td>5</td>\n",
       "      <td>874965758</td>\n",
       "    </tr>\n",
       "    <tr>\n",
       "      <td>1</td>\n",
       "      <td>1</td>\n",
       "      <td>2</td>\n",
       "      <td>3</td>\n",
       "      <td>876893171</td>\n",
       "    </tr>\n",
       "    <tr>\n",
       "      <td>2</td>\n",
       "      <td>1</td>\n",
       "      <td>3</td>\n",
       "      <td>4</td>\n",
       "      <td>878542960</td>\n",
       "    </tr>\n",
       "    <tr>\n",
       "      <td>3</td>\n",
       "      <td>1</td>\n",
       "      <td>4</td>\n",
       "      <td>3</td>\n",
       "      <td>876893119</td>\n",
       "    </tr>\n",
       "    <tr>\n",
       "      <td>4</td>\n",
       "      <td>1</td>\n",
       "      <td>5</td>\n",
       "      <td>3</td>\n",
       "      <td>889751712</td>\n",
       "    </tr>\n",
       "  </tbody>\n",
       "</table>\n",
       "</div>"
      ],
      "text/plain": [
       "   userid  itemid  rating         tm\n",
       "0       1       1       5  874965758\n",
       "1       1       2       3  876893171\n",
       "2       1       3       4  878542960\n",
       "3       1       4       3  876893119\n",
       "4       1       5       3  889751712"
      ]
     },
     "execution_count": 49,
     "metadata": {},
     "output_type": "execute_result"
    }
   ],
   "source": [
    "training_set = pandas.read_csv('./ml-100k/u1.base', sep = '\\t', \n",
    "                               names = ['userid', 'itemid', 'rating', 'tm'])\n",
    "training_set.head()"
   ]
  },
  {
   "cell_type": "code",
   "execution_count": 7,
   "metadata": {},
   "outputs": [
    {
     "data": {
      "text/html": [
       "<div>\n",
       "<style scoped>\n",
       "    .dataframe tbody tr th:only-of-type {\n",
       "        vertical-align: middle;\n",
       "    }\n",
       "\n",
       "    .dataframe tbody tr th {\n",
       "        vertical-align: top;\n",
       "    }\n",
       "\n",
       "    .dataframe thead th {\n",
       "        text-align: right;\n",
       "    }\n",
       "</style>\n",
       "<table border=\"1\" class=\"dataframe\">\n",
       "  <thead>\n",
       "    <tr style=\"text-align: right;\">\n",
       "      <th></th>\n",
       "      <th>userid</th>\n",
       "      <th>itemid</th>\n",
       "      <th>rating</th>\n",
       "      <th>tm</th>\n",
       "    </tr>\n",
       "  </thead>\n",
       "  <tbody>\n",
       "    <tr>\n",
       "      <td>0</td>\n",
       "      <td>1</td>\n",
       "      <td>6</td>\n",
       "      <td>5</td>\n",
       "      <td>887431973</td>\n",
       "    </tr>\n",
       "    <tr>\n",
       "      <td>1</td>\n",
       "      <td>1</td>\n",
       "      <td>10</td>\n",
       "      <td>3</td>\n",
       "      <td>875693118</td>\n",
       "    </tr>\n",
       "    <tr>\n",
       "      <td>2</td>\n",
       "      <td>1</td>\n",
       "      <td>12</td>\n",
       "      <td>5</td>\n",
       "      <td>878542960</td>\n",
       "    </tr>\n",
       "    <tr>\n",
       "      <td>3</td>\n",
       "      <td>1</td>\n",
       "      <td>14</td>\n",
       "      <td>5</td>\n",
       "      <td>874965706</td>\n",
       "    </tr>\n",
       "    <tr>\n",
       "      <td>4</td>\n",
       "      <td>1</td>\n",
       "      <td>17</td>\n",
       "      <td>3</td>\n",
       "      <td>875073198</td>\n",
       "    </tr>\n",
       "  </tbody>\n",
       "</table>\n",
       "</div>"
      ],
      "text/plain": [
       "   userid  itemid  rating         tm\n",
       "0       1       6       5  887431973\n",
       "1       1      10       3  875693118\n",
       "2       1      12       5  878542960\n",
       "3       1      14       5  874965706\n",
       "4       1      17       3  875073198"
      ]
     },
     "execution_count": 7,
     "metadata": {},
     "output_type": "execute_result"
    }
   ],
   "source": [
    "test_set = pandas.read_csv('./ml-100k/u1.test', sep = '\\t', \n",
    "                           names = ['userid', 'itemid', 'rating', 'tm'])\n",
    "test_set.head()"
   ]
  },
  {
   "cell_type": "markdown",
   "metadata": {},
   "source": [
    "# 计算电影与使用者数量"
   ]
  },
  {
   "cell_type": "code",
   "execution_count": 8,
   "metadata": {},
   "outputs": [
    {
     "data": {
      "text/plain": [
       "1682"
      ]
     },
     "execution_count": 8,
     "metadata": {},
     "output_type": "execute_result"
    }
   ],
   "source": [
    "n_movies = max(max(training_set.itemid.tolist()), max(test_set.itemid.tolist()))\n",
    "n_movies"
   ]
  },
  {
   "cell_type": "code",
   "execution_count": 9,
   "metadata": {},
   "outputs": [
    {
     "data": {
      "text/plain": [
       "943"
      ]
     },
     "execution_count": 9,
     "metadata": {},
     "output_type": "execute_result"
    }
   ],
   "source": [
    "n_users = max(max(training_set.userid.tolist()), max(test_set.userid.tolist()))\n",
    "n_users"
   ]
  },
  {
   "cell_type": "markdown",
   "metadata": {},
   "source": [
    "# 建立训练数据集矩阵"
   ]
  },
  {
   "cell_type": "code",
   "execution_count": 12,
   "metadata": {},
   "outputs": [],
   "source": [
    "import numpy as np"
   ]
  },
  {
   "cell_type": "code",
   "execution_count": 63,
   "metadata": {},
   "outputs": [],
   "source": [
    "training_m = np.zeros((n_users, n_movies))\n",
    "\n",
    "# 当我们在需要遍历行数据的时候，就可以使用 iterrows()\n",
    "for rec in training_set.iterrows():\n",
    "    training_m[rec[1].userid - 1, rec[1].itemid - 1] = 1"
   ]
  },
  {
   "cell_type": "code",
   "execution_count": 64,
   "metadata": {},
   "outputs": [
    {
     "data": {
      "text/plain": [
       "(943, 1682)"
      ]
     },
     "execution_count": 64,
     "metadata": {},
     "output_type": "execute_result"
    }
   ],
   "source": [
    "training_m.shape"
   ]
  },
  {
   "cell_type": "code",
   "execution_count": 65,
   "metadata": {},
   "outputs": [
    {
     "data": {
      "text/plain": [
       "array([[1., 1., 1., ..., 0., 0., 0.],\n",
       "       [1., 0., 0., ..., 0., 0., 0.],\n",
       "       [0., 0., 0., ..., 0., 0., 0.],\n",
       "       ...,\n",
       "       [1., 0., 0., ..., 0., 0., 0.],\n",
       "       [0., 0., 0., ..., 0., 0., 0.],\n",
       "       [0., 1., 0., ..., 0., 0., 0.]])"
      ]
     },
     "execution_count": 65,
     "metadata": {},
     "output_type": "execute_result"
    }
   ],
   "source": [
    "training_m"
   ]
  },
  {
   "cell_type": "markdown",
   "metadata": {},
   "source": [
    "# 建立测试数据集矩阵"
   ]
  },
  {
   "cell_type": "code",
   "execution_count": 66,
   "metadata": {},
   "outputs": [],
   "source": [
    "test_m = np.zeros((n_users, n_movies))\n",
    "for rec in test_set.iterrows():\n",
    "    test_m[rec[1].userid - 1, rec[1].itemid - 1] = 1"
   ]
  },
  {
   "cell_type": "code",
   "execution_count": 67,
   "metadata": {},
   "outputs": [
    {
     "data": {
      "text/plain": [
       "(943, 1682)"
      ]
     },
     "execution_count": 67,
     "metadata": {},
     "output_type": "execute_result"
    }
   ],
   "source": [
    "test_m.shape"
   ]
  },
  {
   "cell_type": "code",
   "execution_count": 68,
   "metadata": {},
   "outputs": [
    {
     "data": {
      "text/plain": [
       "array([[0., 0., 0., ..., 0., 0., 0.],\n",
       "       [0., 0., 0., ..., 0., 0., 0.],\n",
       "       [0., 0., 0., ..., 0., 0., 0.],\n",
       "       ...,\n",
       "       [0., 0., 0., ..., 0., 0., 0.],\n",
       "       [0., 0., 0., ..., 0., 0., 0.],\n",
       "       [0., 0., 0., ..., 0., 0., 0.]])"
      ]
     },
     "execution_count": 68,
     "metadata": {},
     "output_type": "execute_result"
    }
   ],
   "source": [
    "test_m"
   ]
  },
  {
   "cell_type": "markdown",
   "metadata": {},
   "source": [
    "# 建立 Autoencoders"
   ]
  },
  {
   "cell_type": "code",
   "execution_count": 69,
   "metadata": {},
   "outputs": [
    {
     "name": "stderr",
     "output_type": "stream",
     "text": [
      "Using TensorFlow backend.\n"
     ]
    }
   ],
   "source": [
    "from keras.layers import Input, Dense\n",
    "from keras.models import Model"
   ]
  },
  {
   "cell_type": "code",
   "execution_count": 71,
   "metadata": {},
   "outputs": [],
   "source": [
    "# 把数据压缩成 50 个神经元\n",
    "encoding_dim = 50\n",
    "input_data = Input(shape = (n_users, ))\n",
    "encoded = Dense(encoding_dim, activation='softmax')(input_data)\n",
    "decoded = Dense(n_users)(encoded)\n",
    "\n",
    "autoencoder = Model(input_data, decoded)\n",
    "autoencoder.compile(optimizer = 'adam', loss = 'mean_absolute_error')"
   ]
  },
  {
   "cell_type": "markdown",
   "metadata": {},
   "source": [
    "# 训练 Autoencoders"
   ]
  },
  {
   "cell_type": "code",
   "execution_count": 72,
   "metadata": {},
   "outputs": [
    {
     "name": "stdout",
     "output_type": "stream",
     "text": [
      "Train on 1682 samples, validate on 1682 samples\n",
      "Epoch 1/100\n",
      "1682/1682 [==============================] - 0s 162us/step - loss: 0.0518 - val_loss: 0.0132\n",
      "Epoch 2/100\n",
      "1682/1682 [==============================] - 0s 113us/step - loss: 0.0512 - val_loss: 0.0131\n",
      "Epoch 3/100\n",
      "1682/1682 [==============================] - 0s 110us/step - loss: 0.0510 - val_loss: 0.0130\n",
      "Epoch 4/100\n",
      "1682/1682 [==============================] - 0s 111us/step - loss: 0.0509 - val_loss: 0.0130\n",
      "Epoch 5/100\n",
      "1682/1682 [==============================] - 0s 115us/step - loss: 0.0508 - val_loss: 0.0129\n",
      "Epoch 6/100\n",
      "1682/1682 [==============================] - 0s 115us/step - loss: 0.0507 - val_loss: 0.0129\n",
      "Epoch 7/100\n",
      "1682/1682 [==============================] - 0s 117us/step - loss: 0.0507 - val_loss: 0.0129\n",
      "Epoch 8/100\n",
      "1682/1682 [==============================] - 0s 111us/step - loss: 0.0507 - val_loss: 0.0129\n",
      "Epoch 9/100\n",
      "1682/1682 [==============================] - 0s 113us/step - loss: 0.0507 - val_loss: 0.0129\n",
      "Epoch 10/100\n",
      "1682/1682 [==============================] - 0s 133us/step - loss: 0.0506 - val_loss: 0.0128\n",
      "Epoch 11/100\n",
      "1682/1682 [==============================] - 0s 130us/step - loss: 0.0506 - val_loss: 0.0128\n",
      "Epoch 12/100\n",
      "1682/1682 [==============================] - 0s 135us/step - loss: 0.0506 - val_loss: 0.0128\n",
      "Epoch 13/100\n",
      "1682/1682 [==============================] - 0s 133us/step - loss: 0.0506 - val_loss: 0.0128\n",
      "Epoch 14/100\n",
      "1682/1682 [==============================] - 0s 114us/step - loss: 0.0506 - val_loss: 0.0128\n",
      "Epoch 15/100\n",
      "1682/1682 [==============================] - 0s 112us/step - loss: 0.0506 - val_loss: 0.0128\n",
      "Epoch 16/100\n",
      "1682/1682 [==============================] - 0s 116us/step - loss: 0.0506 - val_loss: 0.0128\n",
      "Epoch 17/100\n",
      "1682/1682 [==============================] - 0s 112us/step - loss: 0.0506 - val_loss: 0.0128\n",
      "Epoch 18/100\n",
      "1682/1682 [==============================] - 0s 114us/step - loss: 0.0506 - val_loss: 0.0128\n",
      "Epoch 19/100\n",
      "1682/1682 [==============================] - 0s 114us/step - loss: 0.0506 - val_loss: 0.0128\n",
      "Epoch 20/100\n",
      "1682/1682 [==============================] - 0s 113us/step - loss: 0.0506 - val_loss: 0.0128\n",
      "Epoch 21/100\n",
      "1682/1682 [==============================] - 0s 111us/step - loss: 0.0506 - val_loss: 0.0128\n",
      "Epoch 22/100\n",
      "1682/1682 [==============================] - 0s 113us/step - loss: 0.0506 - val_loss: 0.0128\n",
      "Epoch 23/100\n",
      "1682/1682 [==============================] - 0s 115us/step - loss: 0.0506 - val_loss: 0.0128\n",
      "Epoch 24/100\n",
      "1682/1682 [==============================] - 0s 115us/step - loss: 0.0506 - val_loss: 0.0128\n",
      "Epoch 25/100\n",
      "1682/1682 [==============================] - 0s 113us/step - loss: 0.0506 - val_loss: 0.0128\n",
      "Epoch 26/100\n",
      "1682/1682 [==============================] - 0s 112us/step - loss: 0.0506 - val_loss: 0.0128\n",
      "Epoch 27/100\n",
      "1682/1682 [==============================] - 0s 113us/step - loss: 0.0506 - val_loss: 0.0128\n",
      "Epoch 28/100\n",
      "1682/1682 [==============================] - 0s 113us/step - loss: 0.0506 - val_loss: 0.0128\n",
      "Epoch 29/100\n",
      "1682/1682 [==============================] - 0s 115us/step - loss: 0.0506 - val_loss: 0.0128\n",
      "Epoch 30/100\n",
      "1682/1682 [==============================] - 0s 114us/step - loss: 0.0506 - val_loss: 0.0128\n",
      "Epoch 31/100\n",
      "1682/1682 [==============================] - 0s 115us/step - loss: 0.0506 - val_loss: 0.0128\n",
      "Epoch 32/100\n",
      "1682/1682 [==============================] - 0s 113us/step - loss: 0.0506 - val_loss: 0.0128\n",
      "Epoch 33/100\n",
      "1682/1682 [==============================] - 0s 110us/step - loss: 0.0506 - val_loss: 0.0128\n",
      "Epoch 34/100\n",
      "1682/1682 [==============================] - 0s 114us/step - loss: 0.0506 - val_loss: 0.0128\n",
      "Epoch 35/100\n",
      "1682/1682 [==============================] - 0s 114us/step - loss: 0.0506 - val_loss: 0.0128\n",
      "Epoch 36/100\n",
      "1682/1682 [==============================] - 0s 113us/step - loss: 0.0506 - val_loss: 0.0128\n",
      "Epoch 37/100\n",
      "1682/1682 [==============================] - 0s 114us/step - loss: 0.0506 - val_loss: 0.0128\n",
      "Epoch 38/100\n",
      "1682/1682 [==============================] - 0s 110us/step - loss: 0.0506 - val_loss: 0.0128\n",
      "Epoch 39/100\n",
      "1682/1682 [==============================] - 0s 113us/step - loss: 0.0505 - val_loss: 0.0128\n",
      "Epoch 40/100\n",
      "1682/1682 [==============================] - 0s 114us/step - loss: 0.0505 - val_loss: 0.0128\n",
      "Epoch 41/100\n",
      "1682/1682 [==============================] - 0s 113us/step - loss: 0.0505 - val_loss: 0.0129\n",
      "Epoch 42/100\n",
      "1682/1682 [==============================] - 0s 113us/step - loss: 0.0502 - val_loss: 0.0129\n",
      "Epoch 43/100\n",
      "1682/1682 [==============================] - 0s 114us/step - loss: 0.0500 - val_loss: 0.0129\n",
      "Epoch 44/100\n",
      "1682/1682 [==============================] - 0s 112us/step - loss: 0.0498 - val_loss: 0.0129\n",
      "Epoch 45/100\n",
      "1682/1682 [==============================] - 0s 113us/step - loss: 0.0496 - val_loss: 0.0129\n",
      "Epoch 46/100\n",
      "1682/1682 [==============================] - 0s 110us/step - loss: 0.0494 - val_loss: 0.0130\n",
      "Epoch 47/100\n",
      "1682/1682 [==============================] - 0s 113us/step - loss: 0.0492 - val_loss: 0.0130\n",
      "Epoch 48/100\n",
      "1682/1682 [==============================] - 0s 115us/step - loss: 0.0491 - val_loss: 0.0130\n",
      "Epoch 49/100\n",
      "1682/1682 [==============================] - 0s 114us/step - loss: 0.0489 - val_loss: 0.0130\n",
      "Epoch 50/100\n",
      "1682/1682 [==============================] - 0s 112us/step - loss: 0.0488 - val_loss: 0.0130\n",
      "Epoch 51/100\n",
      "1682/1682 [==============================] - 0s 112us/step - loss: 0.0487 - val_loss: 0.0130\n",
      "Epoch 52/100\n",
      "1682/1682 [==============================] - 0s 114us/step - loss: 0.0486 - val_loss: 0.0130\n",
      "Epoch 53/100\n",
      "1682/1682 [==============================] - 0s 111us/step - loss: 0.0485 - val_loss: 0.0130\n",
      "Epoch 54/100\n",
      "1682/1682 [==============================] - 0s 115us/step - loss: 0.0485 - val_loss: 0.0130\n",
      "Epoch 55/100\n",
      "1682/1682 [==============================] - 0s 115us/step - loss: 0.0484 - val_loss: 0.0130\n",
      "Epoch 56/100\n",
      "1682/1682 [==============================] - 0s 113us/step - loss: 0.0484 - val_loss: 0.0130\n",
      "Epoch 57/100\n",
      "1682/1682 [==============================] - 0s 113us/step - loss: 0.0484 - val_loss: 0.0131\n",
      "Epoch 58/100\n",
      "1682/1682 [==============================] - 0s 114us/step - loss: 0.0483 - val_loss: 0.0131\n",
      "Epoch 59/100\n",
      "1682/1682 [==============================] - 0s 109us/step - loss: 0.0483 - val_loss: 0.0131\n",
      "Epoch 60/100\n",
      "1682/1682 [==============================] - 0s 110us/step - loss: 0.0483 - val_loss: 0.0131\n",
      "Epoch 61/100\n",
      "1682/1682 [==============================] - 0s 110us/step - loss: 0.0482 - val_loss: 0.0131\n",
      "Epoch 62/100\n",
      "1682/1682 [==============================] - 0s 111us/step - loss: 0.0482 - val_loss: 0.0131\n",
      "Epoch 63/100\n",
      "1682/1682 [==============================] - 0s 114us/step - loss: 0.0482 - val_loss: 0.0131\n",
      "Epoch 64/100\n",
      "1682/1682 [==============================] - 0s 112us/step - loss: 0.0482 - val_loss: 0.0131\n",
      "Epoch 65/100\n",
      "1682/1682 [==============================] - 0s 111us/step - loss: 0.0481 - val_loss: 0.0131\n",
      "Epoch 66/100\n",
      "1682/1682 [==============================] - 0s 110us/step - loss: 0.0481 - val_loss: 0.0131\n",
      "Epoch 67/100\n",
      "1682/1682 [==============================] - 0s 108us/step - loss: 0.0481 - val_loss: 0.0131\n",
      "Epoch 68/100\n",
      "1682/1682 [==============================] - 0s 110us/step - loss: 0.0481 - val_loss: 0.0131\n",
      "Epoch 69/100\n",
      "1682/1682 [==============================] - 0s 111us/step - loss: 0.0481 - val_loss: 0.0131\n",
      "Epoch 70/100\n",
      "1682/1682 [==============================] - 0s 110us/step - loss: 0.0481 - val_loss: 0.0131\n",
      "Epoch 71/100\n",
      "1682/1682 [==============================] - 0s 110us/step - loss: 0.0481 - val_loss: 0.0131\n",
      "Epoch 72/100\n",
      "1682/1682 [==============================] - 0s 110us/step - loss: 0.0480 - val_loss: 0.0131\n",
      "Epoch 73/100\n",
      "1682/1682 [==============================] - 0s 109us/step - loss: 0.0480 - val_loss: 0.0131\n",
      "Epoch 74/100\n",
      "1682/1682 [==============================] - 0s 110us/step - loss: 0.0480 - val_loss: 0.0131\n",
      "Epoch 75/100\n",
      "1682/1682 [==============================] - 0s 110us/step - loss: 0.0480 - val_loss: 0.0131\n",
      "Epoch 76/100\n",
      "1682/1682 [==============================] - 0s 112us/step - loss: 0.0480 - val_loss: 0.0131\n",
      "Epoch 77/100\n",
      "1682/1682 [==============================] - 0s 113us/step - loss: 0.0480 - val_loss: 0.0131\n"
     ]
    },
    {
     "name": "stdout",
     "output_type": "stream",
     "text": [
      "Epoch 78/100\n",
      "1682/1682 [==============================] - 0s 114us/step - loss: 0.0480 - val_loss: 0.0131\n",
      "Epoch 79/100\n",
      "1682/1682 [==============================] - 0s 105us/step - loss: 0.0480 - val_loss: 0.0131\n",
      "Epoch 80/100\n",
      "1682/1682 [==============================] - 0s 101us/step - loss: 0.0480 - val_loss: 0.0131\n",
      "Epoch 81/100\n",
      "1682/1682 [==============================] - 0s 100us/step - loss: 0.0480 - val_loss: 0.0131\n",
      "Epoch 82/100\n",
      "1682/1682 [==============================] - 0s 103us/step - loss: 0.0479 - val_loss: 0.0131\n",
      "Epoch 83/100\n",
      "1682/1682 [==============================] - 0s 102us/step - loss: 0.0479 - val_loss: 0.0131\n",
      "Epoch 84/100\n",
      "1682/1682 [==============================] - 0s 101us/step - loss: 0.0479 - val_loss: 0.0131\n",
      "Epoch 85/100\n",
      "1682/1682 [==============================] - 0s 102us/step - loss: 0.0479 - val_loss: 0.0131\n",
      "Epoch 86/100\n",
      "1682/1682 [==============================] - 0s 103us/step - loss: 0.0479 - val_loss: 0.0131\n",
      "Epoch 87/100\n",
      "1682/1682 [==============================] - 0s 100us/step - loss: 0.0479 - val_loss: 0.0131\n",
      "Epoch 88/100\n",
      "1682/1682 [==============================] - 0s 101us/step - loss: 0.0479 - val_loss: 0.0131\n",
      "Epoch 89/100\n",
      "1682/1682 [==============================] - 0s 102us/step - loss: 0.0479 - val_loss: 0.0131\n",
      "Epoch 90/100\n",
      "1682/1682 [==============================] - 0s 100us/step - loss: 0.0479 - val_loss: 0.0131\n",
      "Epoch 91/100\n",
      "1682/1682 [==============================] - 0s 101us/step - loss: 0.0479 - val_loss: 0.0131\n",
      "Epoch 92/100\n",
      "1682/1682 [==============================] - 0s 102us/step - loss: 0.0479 - val_loss: 0.0132\n",
      "Epoch 93/100\n",
      "1682/1682 [==============================] - 0s 99us/step - loss: 0.0479 - val_loss: 0.0131\n",
      "Epoch 94/100\n",
      "1682/1682 [==============================] - 0s 100us/step - loss: 0.0479 - val_loss: 0.0132\n",
      "Epoch 95/100\n",
      "1682/1682 [==============================] - 0s 101us/step - loss: 0.0479 - val_loss: 0.0132\n",
      "Epoch 96/100\n",
      "1682/1682 [==============================] - 0s 100us/step - loss: 0.0479 - val_loss: 0.0132\n",
      "Epoch 97/100\n",
      "1682/1682 [==============================] - 0s 99us/step - loss: 0.0479 - val_loss: 0.0132\n",
      "Epoch 98/100\n",
      "1682/1682 [==============================] - 0s 101us/step - loss: 0.0479 - val_loss: 0.0132\n",
      "Epoch 99/100\n",
      "1682/1682 [==============================] - 0s 99us/step - loss: 0.0478 - val_loss: 0.0132\n",
      "Epoch 100/100\n",
      "1682/1682 [==============================] - 0s 99us/step - loss: 0.0478 - val_loss: 0.0132\n"
     ]
    },
    {
     "data": {
      "text/plain": [
       "<keras.callbacks.callbacks.History at 0x640fce390>"
      ]
     },
     "execution_count": 72,
     "metadata": {},
     "output_type": "execute_result"
    }
   ],
   "source": [
    "autoencoder.fit(training_m.T, training_m.T,\n",
    "               epochs = 100,\n",
    "               batch_size=32,\n",
    "               shuffle=True,\n",
    "               validation_data=(test_m.T, test_m.T))"
   ]
  },
  {
   "cell_type": "markdown",
   "metadata": {},
   "source": [
    "# 建立 Encoder"
   ]
  },
  {
   "cell_type": "code",
   "execution_count": 73,
   "metadata": {},
   "outputs": [],
   "source": [
    "encoder = Model(input_data, encoded)"
   ]
  },
  {
   "cell_type": "code",
   "execution_count": 74,
   "metadata": {},
   "outputs": [],
   "source": [
    "encoded_data = encoder.predict(training_m.T)"
   ]
  },
  {
   "cell_type": "code",
   "execution_count": 75,
   "metadata": {},
   "outputs": [
    {
     "data": {
      "text/plain": [
       "(1682, 50)"
      ]
     },
     "execution_count": 75,
     "metadata": {},
     "output_type": "execute_result"
    }
   ],
   "source": [
    "encoded_data.shape"
   ]
  },
  {
   "cell_type": "markdown",
   "metadata": {},
   "source": [
    "# 建立 Decoder "
   ]
  },
  {
   "cell_type": "code",
   "execution_count": 76,
   "metadata": {},
   "outputs": [],
   "source": [
    "encoded_input = Input(shape = (encoding_dim,))\n",
    "decoder_layer = autoencoder.layers[-1]\n",
    "decoder = Model(encoded_input, decoder_layer(encoded_input))"
   ]
  },
  {
   "cell_type": "code",
   "execution_count": 77,
   "metadata": {},
   "outputs": [],
   "source": [
    "pred = decoder.predict(encoded_data)"
   ]
  },
  {
   "cell_type": "code",
   "execution_count": 80,
   "metadata": {},
   "outputs": [
    {
     "data": {
      "text/plain": [
       "array([[ 3.56280711e-04,  1.69288833e-04,  2.48612370e-04, ...,\n",
       "         1.05819921e-03, -7.61309639e-05,  3.59571576e-01],\n",
       "       [ 3.25496658e-04,  1.66346901e-04,  2.35552900e-04, ...,\n",
       "         1.02376193e-03, -9.75769944e-05,  3.43295574e-01],\n",
       "       [ 1.07762287e-04, -1.78302871e-04, -3.64128500e-05, ...,\n",
       "         3.04965302e-04, -4.96692955e-05,  5.65834343e-05],\n",
       "       ...,\n",
       "       [ 5.25601208e-05, -2.74326187e-04,  6.53453171e-05, ...,\n",
       "         2.43362738e-04, -1.10612717e-04,  1.39027834e-04],\n",
       "       [ 7.62974378e-05, -2.59951164e-04,  5.87571412e-05, ...,\n",
       "         2.43650516e-04, -1.03760045e-04,  2.00811774e-05],\n",
       "       [ 6.95738709e-05, -2.58432876e-04,  4.31053340e-05, ...,\n",
       "         2.54149316e-04, -9.89309046e-05,  2.39424407e-04]], dtype=float32)"
      ]
     },
     "execution_count": 80,
     "metadata": {},
     "output_type": "execute_result"
    }
   ],
   "source": [
    "pred"
   ]
  },
  {
   "cell_type": "markdown",
   "metadata": {},
   "source": [
    "# 检视原始数据和重建数据"
   ]
  },
  {
   "cell_type": "code",
   "execution_count": 84,
   "metadata": {},
   "outputs": [
    {
     "data": {
      "text/plain": [
       "0.9197384066587396"
      ]
     },
     "execution_count": 84,
     "metadata": {},
     "output_type": "execute_result"
    }
   ],
   "source": [
    "# 先比较计算第一行的数据准确度\n",
    "sum((pred[:, 0] > 0.001).astype(int) == training_m.T[:, 0]) / len(training_m.T[:, 0])"
   ]
  },
  {
   "cell_type": "code",
   "execution_count": 85,
   "metadata": {},
   "outputs": [
    {
     "data": {
      "text/plain": [
       "0.9623598629617067"
      ]
     },
     "execution_count": 85,
     "metadata": {},
     "output_type": "execute_result"
    }
   ],
   "source": [
    "# 比较计算整个矩阵的数据准确度\n",
    "((pred > 0.001).astype(int) == training_m.T).sum() / (1682 * 943)"
   ]
  },
  {
   "cell_type": "code",
   "execution_count": 88,
   "metadata": {},
   "outputs": [
    {
     "data": {
      "text/plain": [
       "0.0446388878131016"
      ]
     },
     "execution_count": 88,
     "metadata": {},
     "output_type": "execute_result"
    }
   ],
   "source": [
    "# 计算均方差\n",
    "## 把没看过的电影遮罩掉\n",
    "pred[training_m.T == 0] = 0\n",
    "\n",
    "# power(x, y) 函数，计算 x 的 y 次方\n",
    "mse = np.mean(np.power(training_m.T.flatten() - pred.flatten(), 2))\n",
    "mse"
   ]
  },
  {
   "cell_type": "markdown",
   "metadata": {},
   "source": [
    "# 套用到测试数据集"
   ]
  },
  {
   "cell_type": "code",
   "execution_count": 89,
   "metadata": {},
   "outputs": [],
   "source": [
    "encoded_test_data = encoder.predict(test_m.T)"
   ]
  },
  {
   "cell_type": "code",
   "execution_count": 90,
   "metadata": {},
   "outputs": [],
   "source": [
    "pred_test = decoder.predict(encoded_test_data)"
   ]
  },
  {
   "cell_type": "code",
   "execution_count": 91,
   "metadata": {},
   "outputs": [
    {
     "data": {
      "text/plain": [
       "0.9645614535036939"
      ]
     },
     "execution_count": 91,
     "metadata": {},
     "output_type": "execute_result"
    }
   ],
   "source": [
    "((pred_test > 0.001).astype(int) == test_m.T).sum() / (1682 * 943)"
   ]
  },
  {
   "cell_type": "code",
   "execution_count": 93,
   "metadata": {},
   "outputs": [
    {
     "data": {
      "text/plain": [
       "0.012591080014690026"
      ]
     },
     "execution_count": 93,
     "metadata": {},
     "output_type": "execute_result"
    }
   ],
   "source": [
    "pred_test[test_m.T == 0] = 0\n",
    "mse = np.mean(np.power(test_m.T.flatten() - pred_test.flatten(), 2))\n",
    "mse"
   ]
  },
  {
   "cell_type": "code",
   "execution_count": null,
   "metadata": {},
   "outputs": [],
   "source": []
  }
 ],
 "metadata": {
  "kernelspec": {
   "display_name": "Python 3",
   "language": "python",
   "name": "python3"
  },
  "language_info": {
   "codemirror_mode": {
    "name": "ipython",
    "version": 3
   },
   "file_extension": ".py",
   "mimetype": "text/x-python",
   "name": "python",
   "nbconvert_exporter": "python",
   "pygments_lexer": "ipython3",
   "version": "3.7.4"
  }
 },
 "nbformat": 4,
 "nbformat_minor": 2
}
