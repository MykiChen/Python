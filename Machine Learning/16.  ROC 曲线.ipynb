{
 "cells": [
  {
   "cell_type": "code",
   "execution_count": 1,
   "metadata": {},
   "outputs": [],
   "source": [
    "import pandas"
   ]
  },
  {
   "cell_type": "code",
   "execution_count": 2,
   "metadata": {},
   "outputs": [
    {
     "data": {
      "text/html": [
       "<div>\n",
       "<style scoped>\n",
       "    .dataframe tbody tr th:only-of-type {\n",
       "        vertical-align: middle;\n",
       "    }\n",
       "\n",
       "    .dataframe tbody tr th {\n",
       "        vertical-align: top;\n",
       "    }\n",
       "\n",
       "    .dataframe thead th {\n",
       "        text-align: right;\n",
       "    }\n",
       "</style>\n",
       "<table border=\"1\" class=\"dataframe\">\n",
       "  <thead>\n",
       "    <tr style=\"text-align: right;\">\n",
       "      <th></th>\n",
       "      <th>Recency (months)</th>\n",
       "      <th>Frequency (times)</th>\n",
       "      <th>Monetary (c.c. blood)</th>\n",
       "      <th>Time (months)</th>\n",
       "      <th>whether he/she donated blood in March 2007</th>\n",
       "    </tr>\n",
       "    <tr>\n",
       "      <th>id</th>\n",
       "      <th></th>\n",
       "      <th></th>\n",
       "      <th></th>\n",
       "      <th></th>\n",
       "      <th></th>\n",
       "    </tr>\n",
       "  </thead>\n",
       "  <tbody>\n",
       "    <tr>\n",
       "      <td>1</td>\n",
       "      <td>2</td>\n",
       "      <td>50</td>\n",
       "      <td>12500</td>\n",
       "      <td>98</td>\n",
       "      <td>1</td>\n",
       "    </tr>\n",
       "    <tr>\n",
       "      <td>2</td>\n",
       "      <td>0</td>\n",
       "      <td>13</td>\n",
       "      <td>3250</td>\n",
       "      <td>28</td>\n",
       "      <td>1</td>\n",
       "    </tr>\n",
       "    <tr>\n",
       "      <td>3</td>\n",
       "      <td>1</td>\n",
       "      <td>16</td>\n",
       "      <td>4000</td>\n",
       "      <td>35</td>\n",
       "      <td>1</td>\n",
       "    </tr>\n",
       "    <tr>\n",
       "      <td>4</td>\n",
       "      <td>2</td>\n",
       "      <td>20</td>\n",
       "      <td>5000</td>\n",
       "      <td>45</td>\n",
       "      <td>1</td>\n",
       "    </tr>\n",
       "    <tr>\n",
       "      <td>5</td>\n",
       "      <td>1</td>\n",
       "      <td>24</td>\n",
       "      <td>6000</td>\n",
       "      <td>77</td>\n",
       "      <td>0</td>\n",
       "    </tr>\n",
       "  </tbody>\n",
       "</table>\n",
       "</div>"
      ],
      "text/plain": [
       "    Recency (months)  Frequency (times)  Monetary (c.c. blood)  Time (months)  \\\n",
       "id                                                                              \n",
       "1                  2                 50                  12500             98   \n",
       "2                  0                 13                   3250             28   \n",
       "3                  1                 16                   4000             35   \n",
       "4                  2                 20                   5000             45   \n",
       "5                  1                 24                   6000             77   \n",
       "\n",
       "    whether he/she donated blood in March 2007  \n",
       "id                                              \n",
       "1                                            1  \n",
       "2                                            1  \n",
       "3                                            1  \n",
       "4                                            1  \n",
       "5                                            0  "
      ]
     },
     "execution_count": 2,
     "metadata": {},
     "output_type": "execute_result"
    }
   ],
   "source": [
    "df = pandas.read_csv('transfusion.csv', index_col=0, header=0)\n",
    "df.head()"
   ]
  },
  {
   "cell_type": "code",
   "execution_count": 3,
   "metadata": {},
   "outputs": [],
   "source": [
    "## 选中最后一行\n",
    "y = df.iloc[:,-1]\n",
    "\n",
    "## 选中第一行到最后一行\n",
    "x = df.iloc[:,:-1]"
   ]
  },
  {
   "cell_type": "markdown",
   "metadata": {},
   "source": [
    "# 区分训练与测试数据集"
   ]
  },
  {
   "cell_type": "code",
   "execution_count": 4,
   "metadata": {},
   "outputs": [],
   "source": [
    "from sklearn.model_selection import train_test_split\n",
    "\n",
    "x_train, x_test, y_train, y_test = train_test_split(x, y, test_size = 0.33, random_state = 123)"
   ]
  },
  {
   "cell_type": "markdown",
   "metadata": {},
   "source": [
    "# 尺度标准化"
   ]
  },
  {
   "cell_type": "code",
   "execution_count": 5,
   "metadata": {},
   "outputs": [],
   "source": [
    "from sklearn.preprocessing import StandardScaler\n",
    "\n",
    "sc = StandardScaler()\n",
    "x_train = sc.fit_transform(x_train)\n",
    "x_test = sc.fit_transform(x_test)"
   ]
  },
  {
   "cell_type": "markdown",
   "metadata": {},
   "source": [
    "# 建立ANN"
   ]
  },
  {
   "cell_type": "code",
   "execution_count": 6,
   "metadata": {},
   "outputs": [],
   "source": [
    "import keras\n",
    "from keras.models import Sequential\n",
    "from keras.layers import Dense\n",
    "from keras.wrappers.scikit_learn import KerasClassifier\n",
    "from sklearn.model_selection import cross_val_score"
   ]
  },
  {
   "cell_type": "code",
   "execution_count": 8,
   "metadata": {},
   "outputs": [
    {
     "name": "stdout",
     "output_type": "stream",
     "text": [
      "Train on 499 samples, validate on 247 samples\n",
      "Epoch 1/100\n",
      "499/499 [==============================] - 0s 375us/step - loss: 0.6870 - accuracy: 0.7515 - val_loss: 0.6783 - val_accuracy: 0.7814\n",
      "Epoch 2/100\n",
      "499/499 [==============================] - 0s 123us/step - loss: 0.6723 - accuracy: 0.7515 - val_loss: 0.6588 - val_accuracy: 0.7814\n",
      "Epoch 3/100\n",
      "499/499 [==============================] - 0s 109us/step - loss: 0.6511 - accuracy: 0.7515 - val_loss: 0.6308 - val_accuracy: 0.7814\n",
      "Epoch 4/100\n",
      "499/499 [==============================] - 0s 114us/step - loss: 0.6207 - accuracy: 0.7515 - val_loss: 0.5932 - val_accuracy: 0.7814\n",
      "Epoch 5/100\n",
      "499/499 [==============================] - 0s 112us/step - loss: 0.5843 - accuracy: 0.7515 - val_loss: 0.5511 - val_accuracy: 0.7814\n",
      "Epoch 6/100\n",
      "499/499 [==============================] - 0s 111us/step - loss: 0.5505 - accuracy: 0.7515 - val_loss: 0.5176 - val_accuracy: 0.7814\n",
      "Epoch 7/100\n",
      "499/499 [==============================] - 0s 117us/step - loss: 0.5260 - accuracy: 0.7515 - val_loss: 0.5001 - val_accuracy: 0.7814\n",
      "Epoch 8/100\n",
      "499/499 [==============================] - 0s 108us/step - loss: 0.5119 - accuracy: 0.7515 - val_loss: 0.4882 - val_accuracy: 0.7814\n",
      "Epoch 9/100\n",
      "499/499 [==============================] - 0s 113us/step - loss: 0.5022 - accuracy: 0.7515 - val_loss: 0.4819 - val_accuracy: 0.7814\n",
      "Epoch 10/100\n",
      "499/499 [==============================] - 0s 106us/step - loss: 0.4954 - accuracy: 0.7515 - val_loss: 0.4774 - val_accuracy: 0.7814\n",
      "Epoch 11/100\n",
      "499/499 [==============================] - 0s 116us/step - loss: 0.4902 - accuracy: 0.7515 - val_loss: 0.4750 - val_accuracy: 0.7814\n",
      "Epoch 12/100\n",
      "499/499 [==============================] - 0s 112us/step - loss: 0.4865 - accuracy: 0.7515 - val_loss: 0.4730 - val_accuracy: 0.7814\n",
      "Epoch 13/100\n",
      "499/499 [==============================] - 0s 114us/step - loss: 0.4839 - accuracy: 0.7515 - val_loss: 0.4719 - val_accuracy: 0.7814\n",
      "Epoch 14/100\n",
      "499/499 [==============================] - 0s 112us/step - loss: 0.4817 - accuracy: 0.7515 - val_loss: 0.4724 - val_accuracy: 0.7814\n",
      "Epoch 15/100\n",
      "499/499 [==============================] - 0s 114us/step - loss: 0.4797 - accuracy: 0.7515 - val_loss: 0.4727 - val_accuracy: 0.7814\n",
      "Epoch 16/100\n",
      "499/499 [==============================] - 0s 111us/step - loss: 0.4782 - accuracy: 0.7515 - val_loss: 0.4719 - val_accuracy: 0.7814\n",
      "Epoch 17/100\n",
      "499/499 [==============================] - 0s 125us/step - loss: 0.4776 - accuracy: 0.7515 - val_loss: 0.4715 - val_accuracy: 0.7814\n",
      "Epoch 18/100\n",
      "499/499 [==============================] - 0s 124us/step - loss: 0.4768 - accuracy: 0.7515 - val_loss: 0.4718 - val_accuracy: 0.7814\n",
      "Epoch 19/100\n",
      "499/499 [==============================] - 0s 131us/step - loss: 0.4763 - accuracy: 0.7515 - val_loss: 0.4719 - val_accuracy: 0.7814\n",
      "Epoch 20/100\n",
      "499/499 [==============================] - 0s 128us/step - loss: 0.4758 - accuracy: 0.7515 - val_loss: 0.4719 - val_accuracy: 0.7814\n",
      "Epoch 21/100\n",
      "499/499 [==============================] - 0s 131us/step - loss: 0.4758 - accuracy: 0.7515 - val_loss: 0.4714 - val_accuracy: 0.7814\n",
      "Epoch 22/100\n",
      "499/499 [==============================] - 0s 118us/step - loss: 0.4754 - accuracy: 0.7515 - val_loss: 0.4715 - val_accuracy: 0.7814\n",
      "Epoch 23/100\n",
      "499/499 [==============================] - 0s 134us/step - loss: 0.4749 - accuracy: 0.7515 - val_loss: 0.4711 - val_accuracy: 0.7814\n",
      "Epoch 24/100\n",
      "499/499 [==============================] - 0s 123us/step - loss: 0.4745 - accuracy: 0.7515 - val_loss: 0.4707 - val_accuracy: 0.7814\n",
      "Epoch 25/100\n",
      "499/499 [==============================] - 0s 120us/step - loss: 0.4742 - accuracy: 0.7515 - val_loss: 0.4708 - val_accuracy: 0.7814\n",
      "Epoch 26/100\n",
      "499/499 [==============================] - 0s 113us/step - loss: 0.4735 - accuracy: 0.7515 - val_loss: 0.4710 - val_accuracy: 0.7814\n",
      "Epoch 27/100\n",
      "499/499 [==============================] - 0s 116us/step - loss: 0.4733 - accuracy: 0.7515 - val_loss: 0.4705 - val_accuracy: 0.7814\n",
      "Epoch 28/100\n",
      "499/499 [==============================] - 0s 116us/step - loss: 0.4733 - accuracy: 0.7515 - val_loss: 0.4705 - val_accuracy: 0.7814\n",
      "Epoch 29/100\n",
      "499/499 [==============================] - 0s 116us/step - loss: 0.4730 - accuracy: 0.7515 - val_loss: 0.4704 - val_accuracy: 0.7814\n",
      "Epoch 30/100\n",
      "499/499 [==============================] - 0s 108us/step - loss: 0.4729 - accuracy: 0.7515 - val_loss: 0.4708 - val_accuracy: 0.7814\n",
      "Epoch 31/100\n",
      "499/499 [==============================] - 0s 123us/step - loss: 0.4724 - accuracy: 0.7515 - val_loss: 0.4698 - val_accuracy: 0.7814\n",
      "Epoch 32/100\n",
      "499/499 [==============================] - 0s 125us/step - loss: 0.4720 - accuracy: 0.7515 - val_loss: 0.4698 - val_accuracy: 0.7814\n",
      "Epoch 33/100\n",
      "499/499 [==============================] - 0s 119us/step - loss: 0.4718 - accuracy: 0.7515 - val_loss: 0.4698 - val_accuracy: 0.7814\n",
      "Epoch 34/100\n",
      "499/499 [==============================] - 0s 113us/step - loss: 0.4715 - accuracy: 0.7515 - val_loss: 0.4696 - val_accuracy: 0.7814\n",
      "Epoch 35/100\n",
      "499/499 [==============================] - 0s 111us/step - loss: 0.4715 - accuracy: 0.7515 - val_loss: 0.4701 - val_accuracy: 0.7814\n",
      "Epoch 36/100\n",
      "499/499 [==============================] - 0s 110us/step - loss: 0.4714 - accuracy: 0.7515 - val_loss: 0.4693 - val_accuracy: 0.7814\n",
      "Epoch 37/100\n",
      "499/499 [==============================] - 0s 114us/step - loss: 0.4707 - accuracy: 0.7515 - val_loss: 0.4696 - val_accuracy: 0.7814\n",
      "Epoch 38/100\n",
      "499/499 [==============================] - 0s 113us/step - loss: 0.4708 - accuracy: 0.7515 - val_loss: 0.4694 - val_accuracy: 0.7814\n",
      "Epoch 39/100\n",
      "499/499 [==============================] - 0s 122us/step - loss: 0.4707 - accuracy: 0.7515 - val_loss: 0.4701 - val_accuracy: 0.7814\n",
      "Epoch 40/100\n",
      "499/499 [==============================] - 0s 120us/step - loss: 0.4706 - accuracy: 0.7515 - val_loss: 0.4695 - val_accuracy: 0.7814\n",
      "Epoch 41/100\n",
      "499/499 [==============================] - 0s 110us/step - loss: 0.4699 - accuracy: 0.7515 - val_loss: 0.4698 - val_accuracy: 0.7814\n",
      "Epoch 42/100\n",
      "499/499 [==============================] - 0s 104us/step - loss: 0.4698 - accuracy: 0.7515 - val_loss: 0.4696 - val_accuracy: 0.7814\n",
      "Epoch 43/100\n",
      "499/499 [==============================] - 0s 93us/step - loss: 0.4698 - accuracy: 0.7515 - val_loss: 0.4690 - val_accuracy: 0.7814\n",
      "Epoch 44/100\n",
      "499/499 [==============================] - 0s 102us/step - loss: 0.4695 - accuracy: 0.7515 - val_loss: 0.4701 - val_accuracy: 0.7814\n",
      "Epoch 45/100\n",
      "499/499 [==============================] - 0s 103us/step - loss: 0.4692 - accuracy: 0.7515 - val_loss: 0.4693 - val_accuracy: 0.7814\n",
      "Epoch 46/100\n",
      "499/499 [==============================] - 0s 102us/step - loss: 0.4694 - accuracy: 0.7595 - val_loss: 0.4695 - val_accuracy: 0.7814\n",
      "Epoch 47/100\n",
      "499/499 [==============================] - 0s 111us/step - loss: 0.4688 - accuracy: 0.7816 - val_loss: 0.4689 - val_accuracy: 0.7814\n",
      "Epoch 48/100\n",
      "499/499 [==============================] - 0s 109us/step - loss: 0.4684 - accuracy: 0.7896 - val_loss: 0.4692 - val_accuracy: 0.7814\n",
      "Epoch 49/100\n",
      "499/499 [==============================] - 0s 107us/step - loss: 0.4683 - accuracy: 0.7896 - val_loss: 0.4690 - val_accuracy: 0.7814\n",
      "Epoch 50/100\n",
      "499/499 [==============================] - 0s 108us/step - loss: 0.4688 - accuracy: 0.7876 - val_loss: 0.4693 - val_accuracy: 0.7814\n",
      "Epoch 51/100\n",
      "499/499 [==============================] - 0s 107us/step - loss: 0.4681 - accuracy: 0.7876 - val_loss: 0.4688 - val_accuracy: 0.7814\n",
      "Epoch 52/100\n",
      "499/499 [==============================] - 0s 108us/step - loss: 0.4679 - accuracy: 0.7896 - val_loss: 0.4696 - val_accuracy: 0.7814\n",
      "Epoch 53/100\n",
      "499/499 [==============================] - 0s 108us/step - loss: 0.4686 - accuracy: 0.7896 - val_loss: 0.4686 - val_accuracy: 0.7814\n",
      "Epoch 54/100\n",
      "499/499 [==============================] - 0s 106us/step - loss: 0.4678 - accuracy: 0.7916 - val_loss: 0.4687 - val_accuracy: 0.7814\n",
      "Epoch 55/100\n",
      "499/499 [==============================] - 0s 108us/step - loss: 0.4671 - accuracy: 0.7896 - val_loss: 0.4682 - val_accuracy: 0.7814\n",
      "Epoch 56/100\n",
      "499/499 [==============================] - 0s 104us/step - loss: 0.4679 - accuracy: 0.7916 - val_loss: 0.4684 - val_accuracy: 0.7854\n"
     ]
    },
    {
     "name": "stdout",
     "output_type": "stream",
     "text": [
      "Epoch 57/100\n",
      "499/499 [==============================] - 0s 108us/step - loss: 0.4669 - accuracy: 0.7896 - val_loss: 0.4686 - val_accuracy: 0.7854\n",
      "Epoch 58/100\n",
      "499/499 [==============================] - 0s 107us/step - loss: 0.4668 - accuracy: 0.7876 - val_loss: 0.4681 - val_accuracy: 0.7854\n",
      "Epoch 59/100\n",
      "499/499 [==============================] - 0s 103us/step - loss: 0.4666 - accuracy: 0.7896 - val_loss: 0.4686 - val_accuracy: 0.7854\n",
      "Epoch 60/100\n",
      "499/499 [==============================] - 0s 105us/step - loss: 0.4665 - accuracy: 0.7896 - val_loss: 0.4689 - val_accuracy: 0.7854\n",
      "Epoch 61/100\n",
      "499/499 [==============================] - 0s 101us/step - loss: 0.4670 - accuracy: 0.7936 - val_loss: 0.4685 - val_accuracy: 0.7854\n",
      "Epoch 62/100\n",
      "499/499 [==============================] - 0s 101us/step - loss: 0.4663 - accuracy: 0.7876 - val_loss: 0.4685 - val_accuracy: 0.7854\n",
      "Epoch 63/100\n",
      "499/499 [==============================] - 0s 102us/step - loss: 0.4660 - accuracy: 0.7896 - val_loss: 0.4680 - val_accuracy: 0.7895\n",
      "Epoch 64/100\n",
      "499/499 [==============================] - 0s 104us/step - loss: 0.4662 - accuracy: 0.7916 - val_loss: 0.4684 - val_accuracy: 0.7854\n",
      "Epoch 65/100\n",
      "499/499 [==============================] - 0s 103us/step - loss: 0.4655 - accuracy: 0.7916 - val_loss: 0.4688 - val_accuracy: 0.7854\n",
      "Epoch 66/100\n",
      "499/499 [==============================] - 0s 102us/step - loss: 0.4657 - accuracy: 0.7916 - val_loss: 0.4681 - val_accuracy: 0.7854\n",
      "Epoch 67/100\n",
      "499/499 [==============================] - 0s 101us/step - loss: 0.4657 - accuracy: 0.7916 - val_loss: 0.4692 - val_accuracy: 0.7854\n",
      "Epoch 68/100\n",
      "499/499 [==============================] - 0s 112us/step - loss: 0.4651 - accuracy: 0.7916 - val_loss: 0.4685 - val_accuracy: 0.7854\n",
      "Epoch 69/100\n",
      "499/499 [==============================] - 0s 109us/step - loss: 0.4654 - accuracy: 0.7916 - val_loss: 0.4683 - val_accuracy: 0.7854\n",
      "Epoch 70/100\n",
      "499/499 [==============================] - 0s 104us/step - loss: 0.4649 - accuracy: 0.7916 - val_loss: 0.4687 - val_accuracy: 0.7854\n",
      "Epoch 71/100\n",
      "499/499 [==============================] - 0s 103us/step - loss: 0.4650 - accuracy: 0.7916 - val_loss: 0.4681 - val_accuracy: 0.7854\n",
      "Epoch 72/100\n",
      "499/499 [==============================] - 0s 95us/step - loss: 0.4649 - accuracy: 0.7936 - val_loss: 0.4685 - val_accuracy: 0.7854\n",
      "Epoch 73/100\n",
      "499/499 [==============================] - 0s 108us/step - loss: 0.4651 - accuracy: 0.7916 - val_loss: 0.4684 - val_accuracy: 0.7814\n",
      "Epoch 74/100\n",
      "499/499 [==============================] - 0s 103us/step - loss: 0.4649 - accuracy: 0.7936 - val_loss: 0.4676 - val_accuracy: 0.7773\n",
      "Epoch 75/100\n",
      "499/499 [==============================] - 0s 101us/step - loss: 0.4645 - accuracy: 0.7936 - val_loss: 0.4689 - val_accuracy: 0.7854\n",
      "Epoch 76/100\n",
      "499/499 [==============================] - 0s 105us/step - loss: 0.4642 - accuracy: 0.7936 - val_loss: 0.4686 - val_accuracy: 0.7814\n",
      "Epoch 77/100\n",
      "499/499 [==============================] - 0s 100us/step - loss: 0.4641 - accuracy: 0.7916 - val_loss: 0.4676 - val_accuracy: 0.7814\n",
      "Epoch 78/100\n",
      "499/499 [==============================] - 0s 100us/step - loss: 0.4642 - accuracy: 0.7936 - val_loss: 0.4672 - val_accuracy: 0.7854\n",
      "Epoch 79/100\n",
      "499/499 [==============================] - 0s 105us/step - loss: 0.4639 - accuracy: 0.7976 - val_loss: 0.4674 - val_accuracy: 0.7854\n",
      "Epoch 80/100\n",
      "499/499 [==============================] - 0s 103us/step - loss: 0.4639 - accuracy: 0.7956 - val_loss: 0.4676 - val_accuracy: 0.7814\n",
      "Epoch 81/100\n",
      "499/499 [==============================] - 0s 103us/step - loss: 0.4638 - accuracy: 0.7956 - val_loss: 0.4675 - val_accuracy: 0.7814\n",
      "Epoch 82/100\n",
      "499/499 [==============================] - 0s 107us/step - loss: 0.4647 - accuracy: 0.7976 - val_loss: 0.4681 - val_accuracy: 0.7854\n",
      "Epoch 83/100\n",
      "499/499 [==============================] - 0s 104us/step - loss: 0.4635 - accuracy: 0.7956 - val_loss: 0.4674 - val_accuracy: 0.7814\n",
      "Epoch 84/100\n",
      "499/499 [==============================] - 0s 101us/step - loss: 0.4633 - accuracy: 0.7976 - val_loss: 0.4679 - val_accuracy: 0.7854\n",
      "Epoch 85/100\n",
      "499/499 [==============================] - 0s 107us/step - loss: 0.4634 - accuracy: 0.7976 - val_loss: 0.4687 - val_accuracy: 0.7854\n",
      "Epoch 86/100\n",
      "499/499 [==============================] - 0s 105us/step - loss: 0.4633 - accuracy: 0.7916 - val_loss: 0.4672 - val_accuracy: 0.7814\n",
      "Epoch 87/100\n",
      "499/499 [==============================] - 0s 104us/step - loss: 0.4636 - accuracy: 0.7956 - val_loss: 0.4676 - val_accuracy: 0.7854\n",
      "Epoch 88/100\n",
      "499/499 [==============================] - 0s 104us/step - loss: 0.4633 - accuracy: 0.8016 - val_loss: 0.4686 - val_accuracy: 0.7895\n",
      "Epoch 89/100\n",
      "499/499 [==============================] - 0s 99us/step - loss: 0.4634 - accuracy: 0.7956 - val_loss: 0.4675 - val_accuracy: 0.7814\n",
      "Epoch 90/100\n",
      "499/499 [==============================] - 0s 100us/step - loss: 0.4629 - accuracy: 0.7976 - val_loss: 0.4678 - val_accuracy: 0.7895\n",
      "Epoch 91/100\n",
      "499/499 [==============================] - 0s 105us/step - loss: 0.4627 - accuracy: 0.7956 - val_loss: 0.4679 - val_accuracy: 0.7854\n",
      "Epoch 92/100\n",
      "499/499 [==============================] - 0s 101us/step - loss: 0.4628 - accuracy: 0.7996 - val_loss: 0.4678 - val_accuracy: 0.7895\n",
      "Epoch 93/100\n",
      "499/499 [==============================] - 0s 111us/step - loss: 0.4626 - accuracy: 0.8016 - val_loss: 0.4679 - val_accuracy: 0.7895\n",
      "Epoch 94/100\n",
      "499/499 [==============================] - 0s 108us/step - loss: 0.4627 - accuracy: 0.8016 - val_loss: 0.4673 - val_accuracy: 0.7895\n",
      "Epoch 95/100\n",
      "499/499 [==============================] - 0s 110us/step - loss: 0.4628 - accuracy: 0.7996 - val_loss: 0.4674 - val_accuracy: 0.7895\n",
      "Epoch 96/100\n",
      "499/499 [==============================] - 0s 105us/step - loss: 0.4627 - accuracy: 0.8016 - val_loss: 0.4681 - val_accuracy: 0.7895\n",
      "Epoch 97/100\n",
      "499/499 [==============================] - 0s 107us/step - loss: 0.4621 - accuracy: 0.8016 - val_loss: 0.4682 - val_accuracy: 0.7895\n",
      "Epoch 98/100\n",
      "499/499 [==============================] - 0s 105us/step - loss: 0.4623 - accuracy: 0.7996 - val_loss: 0.4681 - val_accuracy: 0.7895\n",
      "Epoch 99/100\n",
      "499/499 [==============================] - 0s 105us/step - loss: 0.4622 - accuracy: 0.8016 - val_loss: 0.4675 - val_accuracy: 0.7895\n",
      "Epoch 100/100\n",
      "499/499 [==============================] - 0s 103us/step - loss: 0.4622 - accuracy: 0.7996 - val_loss: 0.4684 - val_accuracy: 0.7895\n"
     ]
    }
   ],
   "source": [
    "classifier = Sequential()\n",
    "classifier.add(Dense(units=3, kernel_initializer='uniform', activation='relu', input_dim = 4))\n",
    "classifier.add(Dense(units=3, kernel_initializer='uniform', activation='relu'))\n",
    "classifier.add(Dense(units=1, kernel_initializer='uniform', activation='sigmoid'))\n",
    "\n",
    "classifier.compile(loss='binary_crossentropy',\n",
    "                  optimizer='adam',\n",
    "                  metrics=['accuracy'])\n",
    "\n",
    "history = classifier.fit(x_train, y_train, \n",
    "                        batch_size = 10, \n",
    "                        epochs = 100,\n",
    "                        validation_data = (x_test, y_test))"
   ]
  },
  {
   "cell_type": "markdown",
   "metadata": {},
   "source": [
    "# 评估模型"
   ]
  },
  {
   "cell_type": "code",
   "execution_count": 9,
   "metadata": {},
   "outputs": [],
   "source": [
    "y_pred = classifier.predict(x_test)"
   ]
  },
  {
   "cell_type": "code",
   "execution_count": 10,
   "metadata": {},
   "outputs": [
    {
     "data": {
      "text/plain": [
       "array([[0.08106285],\n",
       "       [0.5688983 ],\n",
       "       [0.11541128],\n",
       "       [0.32319015],\n",
       "       [0.04050699],\n",
       "       [0.27176356],\n",
       "       [0.16929567],\n",
       "       [0.30868083],\n",
       "       [0.40485293],\n",
       "       [0.32915398],\n",
       "       [0.1565237 ],\n",
       "       [0.10640541],\n",
       "       [0.08106285],\n",
       "       [0.2046268 ],\n",
       "       [0.08106285],\n",
       "       [0.20624843],\n",
       "       [0.08106285],\n",
       "       [0.10134685],\n",
       "       [0.05391449],\n",
       "       [0.16925481],\n",
       "       [0.27176356],\n",
       "       [0.16400588],\n",
       "       [0.30229473],\n",
       "       [0.5688983 ],\n",
       "       [0.08106285],\n",
       "       [0.13669872],\n",
       "       [0.08936211],\n",
       "       [0.08106285],\n",
       "       [0.22015145],\n",
       "       [0.36162597],\n",
       "       [0.04050699],\n",
       "       [0.13669872],\n",
       "       [0.45208052],\n",
       "       [0.13195899],\n",
       "       [0.32319015],\n",
       "       [0.1260618 ],\n",
       "       [0.27702868],\n",
       "       [0.16925481],\n",
       "       [0.3992452 ],\n",
       "       [0.4682818 ],\n",
       "       [0.47427642],\n",
       "       [0.48219   ],\n",
       "       [0.5420184 ],\n",
       "       [0.32319015],\n",
       "       [0.34461766],\n",
       "       [0.52531946],\n",
       "       [0.07806021],\n",
       "       [0.22801805],\n",
       "       [0.27176356],\n",
       "       [0.10134685],\n",
       "       [0.02532288],\n",
       "       [0.12689984],\n",
       "       [0.07520109],\n",
       "       [0.5688983 ],\n",
       "       [0.16397011],\n",
       "       [0.32319015],\n",
       "       [0.35165405],\n",
       "       [0.07520109],\n",
       "       [0.05069625],\n",
       "       [0.14638871],\n",
       "       [0.08720329],\n",
       "       [0.37806374],\n",
       "       [0.5688983 ],\n",
       "       [0.32319015],\n",
       "       [0.35384208],\n",
       "       [0.41903424],\n",
       "       [0.14493841],\n",
       "       [0.5467283 ],\n",
       "       [0.24748948],\n",
       "       [0.09771344],\n",
       "       [0.12438574],\n",
       "       [0.33529425],\n",
       "       [0.5688983 ],\n",
       "       [0.01513788],\n",
       "       [0.27176356],\n",
       "       [0.274651  ],\n",
       "       [0.32319015],\n",
       "       [0.13813522],\n",
       "       [0.53396183],\n",
       "       [0.22410604],\n",
       "       [0.1653013 ],\n",
       "       [0.35165405],\n",
       "       [0.1386413 ],\n",
       "       [0.5688983 ],\n",
       "       [0.13679212],\n",
       "       [0.06967077],\n",
       "       [0.06622571],\n",
       "       [0.13850126],\n",
       "       [0.19611359],\n",
       "       [0.04050699],\n",
       "       [0.10640541],\n",
       "       [0.10134685],\n",
       "       [0.10106745],\n",
       "       [0.32319015],\n",
       "       [0.27176356],\n",
       "       [0.04737318],\n",
       "       [0.08710995],\n",
       "       [0.15195903],\n",
       "       [0.07593709],\n",
       "       [0.11306819],\n",
       "       [0.02911067],\n",
       "       [0.27176356],\n",
       "       [0.5688983 ],\n",
       "       [0.3992452 ],\n",
       "       [0.40969348],\n",
       "       [0.3008179 ],\n",
       "       [0.3992452 ],\n",
       "       [0.5688983 ],\n",
       "       [0.34740838],\n",
       "       [0.3163857 ],\n",
       "       [0.5156519 ],\n",
       "       [0.09257421],\n",
       "       [0.12826169],\n",
       "       [0.35817528],\n",
       "       [0.04737318],\n",
       "       [0.04071587],\n",
       "       [0.32319015],\n",
       "       [0.12484878],\n",
       "       [0.27176356],\n",
       "       [0.04737318],\n",
       "       [0.12699369],\n",
       "       [0.2091296 ],\n",
       "       [0.5489248 ],\n",
       "       [0.04737318],\n",
       "       [0.5688983 ],\n",
       "       [0.17105553],\n",
       "       [0.1143004 ],\n",
       "       [0.13647434],\n",
       "       [0.5688983 ],\n",
       "       [0.04050699],\n",
       "       [0.30995256],\n",
       "       [0.04737318],\n",
       "       [0.49362656],\n",
       "       [0.46427593],\n",
       "       [0.32319015],\n",
       "       [0.04381189],\n",
       "       [0.32319015],\n",
       "       [0.20612928],\n",
       "       [0.32319015],\n",
       "       [0.10134685],\n",
       "       [0.32319015],\n",
       "       [0.23889455],\n",
       "       [0.16142234],\n",
       "       [0.10921079],\n",
       "       [0.20694935],\n",
       "       [0.14822012],\n",
       "       [0.5688983 ],\n",
       "       [0.03041553],\n",
       "       [0.07880819],\n",
       "       [0.14576131],\n",
       "       [0.41903424],\n",
       "       [0.5688983 ],\n",
       "       [0.12735733],\n",
       "       [0.10640541],\n",
       "       [0.27699274],\n",
       "       [0.0962759 ],\n",
       "       [0.07506916],\n",
       "       [0.04050699],\n",
       "       [0.06967077],\n",
       "       [0.3879412 ],\n",
       "       [0.16453746],\n",
       "       [0.05600342],\n",
       "       [0.32319015],\n",
       "       [0.13195899],\n",
       "       [0.35174862],\n",
       "       [0.2585265 ],\n",
       "       [0.48223957],\n",
       "       [0.07026669],\n",
       "       [0.20733508],\n",
       "       [0.27176356],\n",
       "       [0.09257421],\n",
       "       [0.08106285],\n",
       "       [0.21590862],\n",
       "       [0.0812335 ],\n",
       "       [0.5688983 ],\n",
       "       [0.32319015],\n",
       "       [0.47179386],\n",
       "       [0.09440386],\n",
       "       [0.06967077],\n",
       "       [0.27176356],\n",
       "       [0.5688983 ],\n",
       "       [0.20175081],\n",
       "       [0.53804725],\n",
       "       [0.18214166],\n",
       "       [0.17199206],\n",
       "       [0.39507034],\n",
       "       [0.19381773],\n",
       "       [0.3879412 ],\n",
       "       [0.13405424],\n",
       "       [0.01038533],\n",
       "       [0.06907591],\n",
       "       [0.54645765],\n",
       "       [0.23451278],\n",
       "       [0.13669872],\n",
       "       [0.26615882],\n",
       "       [0.25215086],\n",
       "       [0.54671293],\n",
       "       [0.32319015],\n",
       "       [0.16209722],\n",
       "       [0.3008179 ],\n",
       "       [0.03317398],\n",
       "       [0.24596119],\n",
       "       [0.32289356],\n",
       "       [0.04922193],\n",
       "       [0.4110712 ],\n",
       "       [0.50442487],\n",
       "       [0.4603442 ],\n",
       "       [0.04050699],\n",
       "       [0.27436537],\n",
       "       [0.1273193 ],\n",
       "       [0.08752233],\n",
       "       [0.51514554],\n",
       "       [0.35174862],\n",
       "       [0.15789932],\n",
       "       [0.26035473],\n",
       "       [0.5489248 ],\n",
       "       [0.5688983 ],\n",
       "       [0.0613535 ],\n",
       "       [0.32319015],\n",
       "       [0.3992452 ],\n",
       "       [0.22058612],\n",
       "       [0.16594782],\n",
       "       [0.49260163],\n",
       "       [0.24469903],\n",
       "       [0.18081492],\n",
       "       [0.31024808],\n",
       "       [0.27572727],\n",
       "       [0.2836457 ],\n",
       "       [0.09884372],\n",
       "       [0.16295496],\n",
       "       [0.08859855],\n",
       "       [0.44749215],\n",
       "       [0.04050699],\n",
       "       [0.20886287],\n",
       "       [0.418456  ],\n",
       "       [0.07378948],\n",
       "       [0.17105553],\n",
       "       [0.10640541],\n",
       "       [0.5688983 ],\n",
       "       [0.16105932],\n",
       "       [0.3318694 ],\n",
       "       [0.040507  ],\n",
       "       [0.0473732 ],\n",
       "       [0.18196705],\n",
       "       [0.2332457 ],\n",
       "       [0.0792404 ],\n",
       "       [0.14855058]], dtype=float32)"
      ]
     },
     "execution_count": 10,
     "metadata": {},
     "output_type": "execute_result"
    }
   ],
   "source": [
    "y_pred"
   ]
  },
  {
   "cell_type": "code",
   "execution_count": 11,
   "metadata": {},
   "outputs": [],
   "source": [
    "predicted = (y_pred > 0.5).flatten().astype(int)"
   ]
  },
  {
   "cell_type": "code",
   "execution_count": 12,
   "metadata": {
    "scrolled": true
   },
   "outputs": [
    {
     "data": {
      "text/plain": [
       "array([0, 1, 0, 0, 0, 0, 0, 0, 0, 0, 0, 0, 0, 0, 0, 0, 0, 0, 0, 0, 0, 0,\n",
       "       0, 1, 0, 0, 0, 0, 0, 0, 0, 0, 0, 0, 0, 0, 0, 0, 0, 0, 0, 0, 1, 0,\n",
       "       0, 1, 0, 0, 0, 0, 0, 0, 0, 1, 0, 0, 0, 0, 0, 0, 0, 0, 1, 0, 0, 0,\n",
       "       0, 1, 0, 0, 0, 0, 1, 0, 0, 0, 0, 0, 1, 0, 0, 0, 0, 1, 0, 0, 0, 0,\n",
       "       0, 0, 0, 0, 0, 0, 0, 0, 0, 0, 0, 0, 0, 0, 1, 0, 0, 0, 0, 1, 0, 0,\n",
       "       1, 0, 0, 0, 0, 0, 0, 0, 0, 0, 0, 0, 1, 0, 1, 0, 0, 0, 1, 0, 0, 0,\n",
       "       0, 0, 0, 0, 0, 0, 0, 0, 0, 0, 0, 0, 0, 0, 1, 0, 0, 0, 0, 1, 0, 0,\n",
       "       0, 0, 0, 0, 0, 0, 0, 0, 0, 0, 0, 0, 0, 0, 0, 0, 0, 0, 0, 0, 1, 0,\n",
       "       0, 0, 0, 0, 1, 0, 1, 0, 0, 0, 0, 0, 0, 0, 0, 1, 0, 0, 0, 0, 1, 0,\n",
       "       0, 0, 0, 0, 0, 0, 0, 1, 0, 0, 0, 0, 0, 1, 0, 0, 0, 1, 1, 0, 0, 0,\n",
       "       0, 0, 0, 0, 0, 0, 0, 0, 0, 0, 0, 0, 0, 0, 0, 0, 0, 0, 1, 0, 0, 0,\n",
       "       0, 0, 0, 0, 0])"
      ]
     },
     "execution_count": 12,
     "metadata": {},
     "output_type": "execute_result"
    }
   ],
   "source": [
    "predicted"
   ]
  },
  {
   "cell_type": "markdown",
   "metadata": {},
   "source": [
    "# 混淆矩阵 Confusion matrix"
   ]
  },
  {
   "cell_type": "code",
   "execution_count": 13,
   "metadata": {},
   "outputs": [
    {
     "data": {
      "text/plain": [
       "array([[180,  13],\n",
       "       [ 39,  15]])"
      ]
     },
     "execution_count": 13,
     "metadata": {},
     "output_type": "execute_result"
    }
   ],
   "source": [
    "from sklearn.metrics import confusion_matrix\n",
    "\n",
    "confusion_matrix(y_test, predicted)"
   ]
  },
  {
   "cell_type": "markdown",
   "metadata": {},
   "source": [
    "# ROC 曲线 Receiver Operating Characteristic"
   ]
  },
  {
   "cell_type": "code",
   "execution_count": 14,
   "metadata": {},
   "outputs": [],
   "source": [
    "from sklearn.metrics import roc_curve\n",
    "\n",
    "fpr_ary, tpr_ary, thresholds = roc_curve(y_test, y_pred)"
   ]
  },
  {
   "cell_type": "code",
   "execution_count": 15,
   "metadata": {},
   "outputs": [
    {
     "name": "stdout",
     "output_type": "stream",
     "text": [
      "Populating the interactive namespace from numpy and matplotlib\n"
     ]
    },
    {
     "data": {
      "image/png": "[encoded data removed]",
      "text/plain": [
       "<Figure size 432x288 with 1 Axes>"
      ]
     },
     "metadata": {
      "needs_background": "light"
     },
     "output_type": "display_data"
    }
   ],
   "source": [
    "%pylab inline\n",
    "import matplotlib.pyplot as plt\n",
    "\n",
    "plt.plot(fpr_ary, tpr_ary, label = 'ROC Curve')\n",
    "plt.plot([0, 1], [0, 1], 'k--')\n",
    "plt.xlim([0.0, 1.0])\n",
    "plt.ylim([0.0, 1.0])\n",
    "plt.xlabel('False Positive Rate')\n",
    "plt.ylabel('True Positive Rate')\n",
    "plt.title('Receiver operating characteristic example')\n",
    "plt.legend(loc='lower right')\n",
    "plt.show()"
   ]
  },
  {
   "cell_type": "markdown",
   "metadata": {},
   "source": [
    "# 计算 AUC 曲线下面积（Area Under Curve)"
   ]
  },
  {
   "cell_type": "code",
   "execution_count": 17,
   "metadata": {},
   "outputs": [
    {
     "data": {
      "text/plain": [
       "0.732249088466705"
      ]
     },
     "execution_count": 17,
     "metadata": {},
     "output_type": "execute_result"
    }
   ],
   "source": [
    "from sklearn.metrics import auc\n",
    "auc(fpr_ary, tpr_ary)"
   ]
  },
  {
   "cell_type": "markdown",
   "metadata": {},
   "source": [
    "# 使用ROC Curve 比较模型"
   ]
  },
  {
   "cell_type": "code",
   "execution_count": 18,
   "metadata": {},
   "outputs": [
    {
     "name": "stderr",
     "output_type": "stream",
     "text": [
      "/opt/anaconda3/lib/python3.7/site-packages/sklearn/linear_model/logistic.py:432: FutureWarning: Default solver will be changed to 'lbfgs' in 0.22. Specify a solver to silence this warning.\n",
      "  FutureWarning)\n",
      "/opt/anaconda3/lib/python3.7/site-packages/sklearn/ensemble/forest.py:245: FutureWarning: The default value of n_estimators will change from 10 in version 0.20 to 100 in 0.22.\n",
      "  \"10 in version 0.20 to 100 in 0.22.\", FutureWarning)\n"
     ]
    },
    {
     "data": {
      "text/plain": [
       "RandomForestClassifier(bootstrap=True, class_weight=None, criterion='gini',\n",
       "                       max_depth=None, max_features='auto', max_leaf_nodes=None,\n",
       "                       min_impurity_decrease=0.0, min_impurity_split=None,\n",
       "                       min_samples_leaf=1, min_samples_split=2,\n",
       "                       min_weight_fraction_leaf=0.0, n_estimators=10,\n",
       "                       n_jobs=None, oob_score=False, random_state=None,\n",
       "                       verbose=0, warm_start=False)"
      ]
     },
     "execution_count": 18,
     "metadata": {},
     "output_type": "execute_result"
    }
   ],
   "source": [
    "from sklearn.tree import DecisionTreeClassifier\n",
    "from sklearn.svm import SVC\n",
    "from sklearn.linear_model import LogisticRegression\n",
    "from sklearn.ensemble import RandomForestClassifier\n",
    "\n",
    "clf1 = DecisionTreeClassifier()\n",
    "clf1.fit(x_train, y_train)\n",
    "\n",
    "clf2 = SVC(probability = True)\n",
    "clf2.fit(x_train, y_train)\n",
    "\n",
    "clf3 = LogisticRegression()\n",
    "clf3.fit(x_train, y_train)\n",
    "\n",
    "clf4 = RandomForestClassifier()\n",
    "clf4.fit(x_train, y_train)"
   ]
  },
  {
   "cell_type": "code",
   "execution_count": 28,
   "metadata": {},
   "outputs": [
    {
     "name": "stderr",
     "output_type": "stream",
     "text": [
      "/opt/anaconda3/lib/python3.7/site-packages/sklearn/linear_model/logistic.py:432: FutureWarning: Default solver will be changed to 'lbfgs' in 0.22. Specify a solver to silence this warning.\n",
      "  FutureWarning)\n"
     ]
    },
    {
     "data": {
      "image/png": "[encoded data removed]",
      "text/plain": [
       "<Figure size 1440x720 with 1 Axes>"
      ]
     },
     "metadata": {
      "needs_background": "light"
     },
     "output_type": "display_data"
    }
   ],
   "source": [
    "from sklearn.metrics import auc\n",
    "from sklearn.metrics import roc_curve\n",
    "import matplotlib.pyplot as plt\n",
    "\n",
    "plt.figure(figsize=[20, 10])\n",
    "for clf, title in zip([classifier, clf1, clf2, clf3, clf4], ['ANN', 'Decision Tree', 'SVM', 'LogisticRegression','RandomForest']):\n",
    "    if title != 'ANN':\n",
    "        probas = clf.fit(x_train, y_train).predict_proba(x_test)\n",
    "        fpr_ary, tpr_ary, thresholds = roc_curve(y_test, probas[:, 1])\n",
    "    else:\n",
    "        y_pred = clf.predict(x_test)\n",
    "        fpr_ary, tpr_ary, thresholds = roc_curve(y_test, y_pred)\n",
    "    plt.plot(fpr_ary, tpr_ary, label = '%s - AUC:%.2f'%(title, auc(fpr_ary, tpr_ary)))\n",
    "    \n",
    "plt.plot([0, 1], [0, 1], 'k--')\n",
    "plt.xlim([0.0, 1.0])\n",
    "plt.ylim([0.0, 1.0])\n",
    "plt.xlabel('False Positive Rate', fontsize=20)\n",
    "plt.ylabel('Ture Positive Rate', fontsize=20)\n",
    "plt.title('Receiver operating characteristic example', fontsize=20)\n",
    "plt.legend(loc='lower right', fontsize=20)\n",
    "plt.show()"
   ]
  },
  {
   "cell_type": "code",
   "execution_count": null,
   "metadata": {},
   "outputs": [],
   "source": []
  }
 ],
 "metadata": {
  "kernelspec": {
   "display_name": "Python 3",
   "language": "python",
   "name": "python3"
  },
  "language_info": {
   "codemirror_mode": {
    "name": "ipython",
    "version": 3
   },
   "file_extension": ".py",
   "mimetype": "text/x-python",
   "name": "python",
   "nbconvert_exporter": "python",
   "pygments_lexer": "ipython3",
   "version": "3.7.4"
  }
 },
 "nbformat": 4,
 "nbformat_minor": 2
}
