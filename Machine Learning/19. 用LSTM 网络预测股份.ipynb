{
 "cells": [
  {
   "cell_type": "code",
   "execution_count": 1,
   "metadata": {},
   "outputs": [],
   "source": [
    "import pandas_datareader"
   ]
  },
  {
   "cell_type": "code",
   "execution_count": 2,
   "metadata": {},
   "outputs": [],
   "source": [
    "googl = pandas_datareader.get_data_yahoo('GOOGL')"
   ]
  },
  {
   "cell_type": "code",
   "execution_count": 3,
   "metadata": {
    "scrolled": true
   },
   "outputs": [
    {
     "name": "stdout",
     "output_type": "stream",
     "text": [
      "Populating the interactive namespace from numpy and matplotlib\n"
     ]
    }
   ],
   "source": [
    "%pylab inline"
   ]
  },
  {
   "cell_type": "code",
   "execution_count": 4,
   "metadata": {},
   "outputs": [
    {
     "data": {
      "text/html": [
       "<div>\n",
       "<style scoped>\n",
       "    .dataframe tbody tr th:only-of-type {\n",
       "        vertical-align: middle;\n",
       "    }\n",
       "\n",
       "    .dataframe tbody tr th {\n",
       "        vertical-align: top;\n",
       "    }\n",
       "\n",
       "    .dataframe thead th {\n",
       "        text-align: right;\n",
       "    }\n",
       "</style>\n",
       "<table border=\"1\" class=\"dataframe\">\n",
       "  <thead>\n",
       "    <tr style=\"text-align: right;\">\n",
       "      <th></th>\n",
       "      <th>High</th>\n",
       "      <th>Low</th>\n",
       "      <th>Open</th>\n",
       "      <th>Close</th>\n",
       "      <th>Volume</th>\n",
       "      <th>Adj Close</th>\n",
       "    </tr>\n",
       "    <tr>\n",
       "      <th>Date</th>\n",
       "      <th></th>\n",
       "      <th></th>\n",
       "      <th></th>\n",
       "      <th></th>\n",
       "      <th></th>\n",
       "      <th></th>\n",
       "    </tr>\n",
       "  </thead>\n",
       "  <tbody>\n",
       "    <tr>\n",
       "      <td>2015-01-16</td>\n",
       "      <td>510.850006</td>\n",
       "      <td>503.089996</td>\n",
       "      <td>503.149994</td>\n",
       "      <td>510.459991</td>\n",
       "      <td>2482900</td>\n",
       "      <td>510.459991</td>\n",
       "    </tr>\n",
       "    <tr>\n",
       "      <td>2015-01-20</td>\n",
       "      <td>515.609985</td>\n",
       "      <td>509.369995</td>\n",
       "      <td>512.770020</td>\n",
       "      <td>509.940002</td>\n",
       "      <td>2339800</td>\n",
       "      <td>509.940002</td>\n",
       "    </tr>\n",
       "    <tr>\n",
       "      <td>2015-01-21</td>\n",
       "      <td>521.849976</td>\n",
       "      <td>509.589996</td>\n",
       "      <td>510.839996</td>\n",
       "      <td>520.390015</td>\n",
       "      <td>2317800</td>\n",
       "      <td>520.390015</td>\n",
       "    </tr>\n",
       "    <tr>\n",
       "      <td>2015-01-22</td>\n",
       "      <td>538.840027</td>\n",
       "      <td>521.909973</td>\n",
       "      <td>523.000000</td>\n",
       "      <td>537.299988</td>\n",
       "      <td>2803400</td>\n",
       "      <td>537.299988</td>\n",
       "    </tr>\n",
       "    <tr>\n",
       "      <td>2015-01-23</td>\n",
       "      <td>545.409973</td>\n",
       "      <td>535.750000</td>\n",
       "      <td>538.030029</td>\n",
       "      <td>541.950012</td>\n",
       "      <td>2298300</td>\n",
       "      <td>541.950012</td>\n",
       "    </tr>\n",
       "  </tbody>\n",
       "</table>\n",
       "</div>"
      ],
      "text/plain": [
       "                  High         Low        Open       Close   Volume  \\\n",
       "Date                                                                  \n",
       "2015-01-16  510.850006  503.089996  503.149994  510.459991  2482900   \n",
       "2015-01-20  515.609985  509.369995  512.770020  509.940002  2339800   \n",
       "2015-01-21  521.849976  509.589996  510.839996  520.390015  2317800   \n",
       "2015-01-22  538.840027  521.909973  523.000000  537.299988  2803400   \n",
       "2015-01-23  545.409973  535.750000  538.030029  541.950012  2298300   \n",
       "\n",
       "             Adj Close  \n",
       "Date                    \n",
       "2015-01-16  510.459991  \n",
       "2015-01-20  509.940002  \n",
       "2015-01-21  520.390015  \n",
       "2015-01-22  537.299988  \n",
       "2015-01-23  541.950012  "
      ]
     },
     "execution_count": 4,
     "metadata": {},
     "output_type": "execute_result"
    }
   ],
   "source": [
    "googl.head()"
   ]
  },
  {
   "cell_type": "code",
   "execution_count": 5,
   "metadata": {},
   "outputs": [
    {
     "data": {
      "text/plain": [
       "<matplotlib.axes._subplots.AxesSubplot at 0x11f5b9590>"
      ]
     },
     "execution_count": 5,
     "metadata": {},
     "output_type": "execute_result"
    },
    {
     "data": {
      "image/png": "[encoded data removed]",
      "text/plain": [
       "<Figure size 432x288 with 1 Axes>"
      ]
     },
     "metadata": {
      "needs_background": "light"
     },
     "output_type": "display_data"
    }
   ],
   "source": [
    "googl['Close'].plot(kind = 'line')"
   ]
  },
  {
   "cell_type": "code",
   "execution_count": 6,
   "metadata": {},
   "outputs": [
    {
     "data": {
      "text/plain": [
       "High         1258\n",
       "Low          1258\n",
       "Open         1258\n",
       "Close        1258\n",
       "Volume       1258\n",
       "Adj Close    1258\n",
       "dtype: int64"
      ]
     },
     "execution_count": 6,
     "metadata": {},
     "output_type": "execute_result"
    }
   ],
   "source": [
    "googl.count()"
   ]
  },
  {
   "cell_type": "code",
   "execution_count": 7,
   "metadata": {},
   "outputs": [],
   "source": [
    "googl.to_csv('google_stock_price.csv')"
   ]
  },
  {
   "cell_type": "markdown",
   "metadata": {},
   "source": [
    "# 读取Google 数据"
   ]
  },
  {
   "cell_type": "code",
   "execution_count": 77,
   "metadata": {},
   "outputs": [
    {
     "data": {
      "text/html": [
       "<div>\n",
       "<style scoped>\n",
       "    .dataframe tbody tr th:only-of-type {\n",
       "        vertical-align: middle;\n",
       "    }\n",
       "\n",
       "    .dataframe tbody tr th {\n",
       "        vertical-align: top;\n",
       "    }\n",
       "\n",
       "    .dataframe thead th {\n",
       "        text-align: right;\n",
       "    }\n",
       "</style>\n",
       "<table border=\"1\" class=\"dataframe\">\n",
       "  <thead>\n",
       "    <tr style=\"text-align: right;\">\n",
       "      <th></th>\n",
       "      <th>Date</th>\n",
       "      <th>High</th>\n",
       "      <th>Low</th>\n",
       "      <th>Open</th>\n",
       "      <th>Close</th>\n",
       "      <th>Volume</th>\n",
       "      <th>Adj Close</th>\n",
       "    </tr>\n",
       "  </thead>\n",
       "  <tbody>\n",
       "    <tr>\n",
       "      <td>0</td>\n",
       "      <td>2015-01-16</td>\n",
       "      <td>510.850006</td>\n",
       "      <td>503.089996</td>\n",
       "      <td>503.149994</td>\n",
       "      <td>510.459991</td>\n",
       "      <td>2482900</td>\n",
       "      <td>510.459991</td>\n",
       "    </tr>\n",
       "    <tr>\n",
       "      <td>1</td>\n",
       "      <td>2015-01-20</td>\n",
       "      <td>515.609985</td>\n",
       "      <td>509.369995</td>\n",
       "      <td>512.770020</td>\n",
       "      <td>509.940002</td>\n",
       "      <td>2339800</td>\n",
       "      <td>509.940002</td>\n",
       "    </tr>\n",
       "    <tr>\n",
       "      <td>2</td>\n",
       "      <td>2015-01-21</td>\n",
       "      <td>521.849976</td>\n",
       "      <td>509.589996</td>\n",
       "      <td>510.839996</td>\n",
       "      <td>520.390015</td>\n",
       "      <td>2317800</td>\n",
       "      <td>520.390015</td>\n",
       "    </tr>\n",
       "    <tr>\n",
       "      <td>3</td>\n",
       "      <td>2015-01-22</td>\n",
       "      <td>538.840027</td>\n",
       "      <td>521.909973</td>\n",
       "      <td>523.000000</td>\n",
       "      <td>537.299988</td>\n",
       "      <td>2803400</td>\n",
       "      <td>537.299988</td>\n",
       "    </tr>\n",
       "    <tr>\n",
       "      <td>4</td>\n",
       "      <td>2015-01-23</td>\n",
       "      <td>545.409973</td>\n",
       "      <td>535.750000</td>\n",
       "      <td>538.030029</td>\n",
       "      <td>541.950012</td>\n",
       "      <td>2298300</td>\n",
       "      <td>541.950012</td>\n",
       "    </tr>\n",
       "  </tbody>\n",
       "</table>\n",
       "</div>"
      ],
      "text/plain": [
       "         Date        High         Low        Open       Close   Volume  \\\n",
       "0  2015-01-16  510.850006  503.089996  503.149994  510.459991  2482900   \n",
       "1  2015-01-20  515.609985  509.369995  512.770020  509.940002  2339800   \n",
       "2  2015-01-21  521.849976  509.589996  510.839996  520.390015  2317800   \n",
       "3  2015-01-22  538.840027  521.909973  523.000000  537.299988  2803400   \n",
       "4  2015-01-23  545.409973  535.750000  538.030029  541.950012  2298300   \n",
       "\n",
       "    Adj Close  \n",
       "0  510.459991  \n",
       "1  509.940002  \n",
       "2  520.390015  \n",
       "3  537.299988  \n",
       "4  541.950012  "
      ]
     },
     "execution_count": 77,
     "metadata": {},
     "output_type": "execute_result"
    }
   ],
   "source": [
    "import pandas\n",
    "\n",
    "googl = pandas.read_csv('google_stock_price.csv')\n",
    "googl.head()"
   ]
  },
  {
   "cell_type": "markdown",
   "metadata": {},
   "source": [
    "# 将数据分成训练与测试数据集"
   ]
  },
  {
   "cell_type": "code",
   "execution_count": 9,
   "metadata": {},
   "outputs": [
    {
     "data": {
      "text/plain": [
       "Date         1258\n",
       "High         1258\n",
       "Low          1258\n",
       "Open         1258\n",
       "Close        1258\n",
       "Volume       1258\n",
       "Adj Close    1258\n",
       "dtype: int64"
      ]
     },
     "execution_count": 9,
     "metadata": {},
     "output_type": "execute_result"
    }
   ],
   "source": [
    "googl.count()"
   ]
  },
  {
   "cell_type": "code",
   "execution_count": 10,
   "metadata": {},
   "outputs": [],
   "source": [
    "training_set = googl.iloc[0:1258 - 200, 4:5].values"
   ]
  },
  {
   "cell_type": "code",
   "execution_count": 11,
   "metadata": {},
   "outputs": [
    {
     "data": {
      "text/plain": [
       "array([[510.45999146],\n",
       "       [509.94000244],\n",
       "       [520.39001465]])"
      ]
     },
     "execution_count": 11,
     "metadata": {},
     "output_type": "execute_result"
    }
   ],
   "source": [
    "training_set[0:3]"
   ]
  },
  {
   "cell_type": "code",
   "execution_count": 12,
   "metadata": {},
   "outputs": [],
   "source": [
    "#training_set.shape"
   ]
  },
  {
   "cell_type": "code",
   "execution_count": 13,
   "metadata": {},
   "outputs": [],
   "source": [
    "test_set = googl.iloc[1258 - 200:, 4:5].values"
   ]
  },
  {
   "cell_type": "code",
   "execution_count": 14,
   "metadata": {},
   "outputs": [
    {
     "data": {
      "text/plain": [
       "array([[1205.54003906],\n",
       "       [1210.81005859],\n",
       "       [1219.44995117]])"
      ]
     },
     "execution_count": 14,
     "metadata": {},
     "output_type": "execute_result"
    }
   ],
   "source": [
    "test_set[0:3]"
   ]
  },
  {
   "cell_type": "markdown",
   "metadata": {},
   "source": [
    "# 数据标准化"
   ]
  },
  {
   "cell_type": "code",
   "execution_count": 15,
   "metadata": {},
   "outputs": [],
   "source": [
    "from sklearn.preprocessing import MinMaxScaler\n",
    "\n",
    "sc = MinMaxScaler(feature_range=(0, 1))\n",
    "training_set_scaled = sc.fit_transform(training_set)"
   ]
  },
  {
   "cell_type": "code",
   "execution_count": 16,
   "metadata": {},
   "outputs": [
    {
     "data": {
      "text/plain": [
       "array([[6.70469100e-04],\n",
       "       [0.00000000e+00],\n",
       "       [1.34741506e-02],\n",
       "       ...,\n",
       "       [8.54002294e-01],\n",
       "       [8.59959274e-01],\n",
       "       [8.88441875e-01]])"
      ]
     },
     "execution_count": 16,
     "metadata": {},
     "output_type": "execute_result"
    }
   ],
   "source": [
    "training_set_scaled"
   ]
  },
  {
   "cell_type": "code",
   "execution_count": 17,
   "metadata": {},
   "outputs": [],
   "source": [
    "#len(training_set_scaled)"
   ]
  },
  {
   "cell_type": "code",
   "execution_count": 18,
   "metadata": {},
   "outputs": [],
   "source": [
    "import numpy as np\n",
    "\n",
    "x_train = []\n",
    "y_train = []\n",
    "\n",
    "for i in range(60, len(training_set_scaled)):\n",
    "    x_train.append(training_set_scaled[i-60:i, 0])\n",
    "    y_train.append(training_set_scaled[i, 0])\n",
    "    \n",
    "x_train, y_train = np.array(x_train), np.array(y_train)"
   ]
  },
  {
   "cell_type": "code",
   "execution_count": 19,
   "metadata": {},
   "outputs": [
    {
     "data": {
      "text/plain": [
       "(998, 60)"
      ]
     },
     "execution_count": 19,
     "metadata": {},
     "output_type": "execute_result"
    }
   ],
   "source": [
    "x_train.shape"
   ]
  },
  {
   "cell_type": "code",
   "execution_count": 20,
   "metadata": {},
   "outputs": [
    {
     "data": {
      "text/plain": [
       "(998,)"
      ]
     },
     "execution_count": 20,
     "metadata": {},
     "output_type": "execute_result"
    }
   ],
   "source": [
    "y_train.shape"
   ]
  },
  {
   "cell_type": "code",
   "execution_count": 21,
   "metadata": {},
   "outputs": [],
   "source": [
    "x_train = np.reshape(x_train, (x_train.shape[0], x_train.shape[1], 1))"
   ]
  },
  {
   "cell_type": "code",
   "execution_count": 22,
   "metadata": {},
   "outputs": [
    {
     "data": {
      "text/plain": [
       "(998, 60, 1)"
      ]
     },
     "execution_count": 22,
     "metadata": {},
     "output_type": "execute_result"
    }
   ],
   "source": [
    "x_train.shape"
   ]
  },
  {
   "cell_type": "markdown",
   "metadata": {},
   "source": [
    "# 建构LSTM 神经网络"
   ]
  },
  {
   "cell_type": "code",
   "execution_count": 23,
   "metadata": {},
   "outputs": [
    {
     "name": "stderr",
     "output_type": "stream",
     "text": [
      "Using TensorFlow backend.\n"
     ]
    }
   ],
   "source": [
    "from keras.models import Sequential\n",
    "from keras.layers import Dense\n",
    "from keras.layers import LSTM\n",
    "from keras.layers import Dropout"
   ]
  },
  {
   "cell_type": "code",
   "execution_count": 24,
   "metadata": {},
   "outputs": [],
   "source": [
    "regressor = Sequential()\n",
    "regressor.add(LSTM(units = 100, return_sequences = True, input_shape = (x_train.shape[1], 1)))\n",
    "regressor.add(Dropout(0.2))\n",
    "\n",
    "regressor.add(LSTM(units = 100, return_sequences = True))\n",
    "regressor.add(Dropout(0.2))\n",
    "\n",
    "regressor.add(LSTM(units = 100, return_sequences = True))\n",
    "regressor.add(Dropout(0.2))\n",
    "\n",
    "regressor.add(LSTM(units = 100))\n",
    "regressor.add(Dropout(0.2))\n",
    "\n",
    "regressor.add(Dense(units = 1))\n",
    "\n",
    "## 数字预测比较常用 mean_squared_error\n",
    "regressor.compile(optimizer = 'adam', loss='mean_squared_error')"
   ]
  },
  {
   "cell_type": "code",
   "execution_count": 25,
   "metadata": {
    "scrolled": true
   },
   "outputs": [
    {
     "name": "stdout",
     "output_type": "stream",
     "text": [
      "Epoch 1/50\n",
      "998/998 [==============================] - 5s 5ms/step - loss: 0.1186\n",
      "Epoch 2/50\n",
      "998/998 [==============================] - 3s 3ms/step - loss: 0.0452\n",
      "Epoch 3/50\n",
      "998/998 [==============================] - 3s 3ms/step - loss: 0.0195\n",
      "Epoch 4/50\n",
      "998/998 [==============================] - 3s 3ms/step - loss: 0.0109\n",
      "Epoch 5/50\n",
      "998/998 [==============================] - 3s 3ms/step - loss: 0.0067\n",
      "Epoch 6/50\n",
      "998/998 [==============================] - 3s 3ms/step - loss: 0.0047\n",
      "Epoch 7/50\n",
      "998/998 [==============================] - 3s 3ms/step - loss: 0.0043\n",
      "Epoch 8/50\n",
      "998/998 [==============================] - 3s 3ms/step - loss: 0.0042\n",
      "Epoch 9/50\n",
      "998/998 [==============================] - 3s 3ms/step - loss: 0.0037\n",
      "Epoch 10/50\n",
      "998/998 [==============================] - 3s 3ms/step - loss: 0.0037\n",
      "Epoch 11/50\n",
      "998/998 [==============================] - 3s 3ms/step - loss: 0.0041\n",
      "Epoch 12/50\n",
      "998/998 [==============================] - 3s 3ms/step - loss: 0.0040\n",
      "Epoch 13/50\n",
      "998/998 [==============================] - 3s 3ms/step - loss: 0.0037\n",
      "Epoch 14/50\n",
      "998/998 [==============================] - 3s 3ms/step - loss: 0.0038\n",
      "Epoch 15/50\n",
      "998/998 [==============================] - 3s 3ms/step - loss: 0.0036\n",
      "Epoch 16/50\n",
      "998/998 [==============================] - 3s 3ms/step - loss: 0.0035\n",
      "Epoch 17/50\n",
      "998/998 [==============================] - 3s 3ms/step - loss: 0.0036\n",
      "Epoch 18/50\n",
      "998/998 [==============================] - 3s 3ms/step - loss: 0.0038\n",
      "Epoch 19/50\n",
      "998/998 [==============================] - 3s 3ms/step - loss: 0.0036\n",
      "Epoch 20/50\n",
      "998/998 [==============================] - 3s 3ms/step - loss: 0.0034\n",
      "Epoch 21/50\n",
      "998/998 [==============================] - 3s 3ms/step - loss: 0.0035\n",
      "Epoch 22/50\n",
      "998/998 [==============================] - 3s 3ms/step - loss: 0.0034\n",
      "Epoch 23/50\n",
      "998/998 [==============================] - 3s 3ms/step - loss: 0.0033\n",
      "Epoch 24/50\n",
      "998/998 [==============================] - 3s 3ms/step - loss: 0.0034\n",
      "Epoch 25/50\n",
      "998/998 [==============================] - 3s 3ms/step - loss: 0.0033\n",
      "Epoch 26/50\n",
      "998/998 [==============================] - 3s 3ms/step - loss: 0.0036\n",
      "Epoch 27/50\n",
      "998/998 [==============================] - 3s 3ms/step - loss: 0.0034\n",
      "Epoch 28/50\n",
      "998/998 [==============================] - 3s 3ms/step - loss: 0.0035\n",
      "Epoch 29/50\n",
      "998/998 [==============================] - 3s 3ms/step - loss: 0.0034\n",
      "Epoch 30/50\n",
      "998/998 [==============================] - 3s 3ms/step - loss: 0.0033\n",
      "Epoch 31/50\n",
      "998/998 [==============================] - 3s 3ms/step - loss: 0.0032\n",
      "Epoch 32/50\n",
      "998/998 [==============================] - 3s 3ms/step - loss: 0.0032\n",
      "Epoch 33/50\n",
      "998/998 [==============================] - 3s 3ms/step - loss: 0.0031\n",
      "Epoch 34/50\n",
      "998/998 [==============================] - 3s 3ms/step - loss: 0.0030\n",
      "Epoch 35/50\n",
      "998/998 [==============================] - 3s 3ms/step - loss: 0.0034\n",
      "Epoch 36/50\n",
      "998/998 [==============================] - 3s 3ms/step - loss: 0.0034\n",
      "Epoch 37/50\n",
      "998/998 [==============================] - 3s 3ms/step - loss: 0.0032\n",
      "Epoch 38/50\n",
      "998/998 [==============================] - 3s 3ms/step - loss: 0.0031\n",
      "Epoch 39/50\n",
      "998/998 [==============================] - 3s 3ms/step - loss: 0.0030\n",
      "Epoch 40/50\n",
      "998/998 [==============================] - 3s 4ms/step - loss: 0.0033\n",
      "Epoch 41/50\n",
      "998/998 [==============================] - 3s 3ms/step - loss: 0.0031\n",
      "Epoch 42/50\n",
      "998/998 [==============================] - 3s 3ms/step - loss: 0.0029\n",
      "Epoch 43/50\n",
      "998/998 [==============================] - 4s 4ms/step - loss: 0.0032\n",
      "Epoch 44/50\n",
      "998/998 [==============================] - 4s 4ms/step - loss: 0.0032\n",
      "Epoch 45/50\n",
      "998/998 [==============================] - 3s 3ms/step - loss: 0.0032\n",
      "Epoch 46/50\n",
      "998/998 [==============================] - 3s 3ms/step - loss: 0.0035\n",
      "Epoch 47/50\n",
      "998/998 [==============================] - 3s 3ms/step - loss: 0.0035\n",
      "Epoch 48/50\n",
      "998/998 [==============================] - 3s 3ms/step - loss: 0.0031\n",
      "Epoch 49/50\n",
      "998/998 [==============================] - 3s 3ms/step - loss: 0.0032\n",
      "Epoch 50/50\n",
      "998/998 [==============================] - 3s 3ms/step - loss: 0.0030\n"
     ]
    },
    {
     "data": {
      "text/plain": [
       "<keras.callbacks.callbacks.History at 0x1a3fba5c50>"
      ]
     },
     "execution_count": 25,
     "metadata": {},
     "output_type": "execute_result"
    }
   ],
   "source": [
    "regressor.fit(x_train, y_train, epochs=50, batch_size=100)"
   ]
  },
  {
   "cell_type": "markdown",
   "metadata": {},
   "source": [
    "# 评估模型在测试数据集的表现"
   ]
  },
  {
   "cell_type": "code",
   "execution_count": 26,
   "metadata": {},
   "outputs": [
    {
     "data": {
      "text/plain": [
       "(200, 1)"
      ]
     },
     "execution_count": 26,
     "metadata": {},
     "output_type": "execute_result"
    }
   ],
   "source": [
    "test_set.shape"
   ]
  },
  {
   "cell_type": "code",
   "execution_count": 27,
   "metadata": {},
   "outputs": [],
   "source": [
    "test_set = sc.transform(test_set)"
   ]
  },
  {
   "cell_type": "code",
   "execution_count": 28,
   "metadata": {},
   "outputs": [
    {
     "data": {
      "text/plain": [
       "array([[0.89690035],\n",
       "       [0.90369547],\n",
       "       [0.91483567]])"
      ]
     },
     "execution_count": 28,
     "metadata": {},
     "output_type": "execute_result"
    }
   ],
   "source": [
    "test_set[0:3]"
   ]
  },
  {
   "cell_type": "code",
   "execution_count": 29,
   "metadata": {},
   "outputs": [],
   "source": [
    "x_test = []\n",
    "for i in range(60, len(test_set)):\n",
    "    x_test.append(test_set[i-60:i, 0])"
   ]
  },
  {
   "cell_type": "code",
   "execution_count": 30,
   "metadata": {},
   "outputs": [],
   "source": [
    "x_test = np.array(x_test)"
   ]
  },
  {
   "cell_type": "code",
   "execution_count": 31,
   "metadata": {},
   "outputs": [],
   "source": [
    "x_test = np.reshape(x_test, (x_test.shape[0], x_test.shape[1], 1))"
   ]
  },
  {
   "cell_type": "code",
   "execution_count": 32,
   "metadata": {},
   "outputs": [
    {
     "data": {
      "text/plain": [
       "(140, 60, 1)"
      ]
     },
     "execution_count": 32,
     "metadata": {},
     "output_type": "execute_result"
    }
   ],
   "source": [
    "x_test.shape"
   ]
  },
  {
   "cell_type": "code",
   "execution_count": 33,
   "metadata": {},
   "outputs": [],
   "source": [
    "predicted_stock_price = regressor.predict(x_test)"
   ]
  },
  {
   "cell_type": "code",
   "execution_count": 34,
   "metadata": {},
   "outputs": [
    {
     "data": {
      "text/plain": [
       "array([[0.7351169 ],\n",
       "       [0.73838276],\n",
       "       [0.74102503]], dtype=float32)"
      ]
     },
     "execution_count": 34,
     "metadata": {},
     "output_type": "execute_result"
    }
   ],
   "source": [
    "predicted_stock_price[0:3]"
   ]
  },
  {
   "cell_type": "code",
   "execution_count": 35,
   "metadata": {},
   "outputs": [],
   "source": [
    "predicted_stock_price = sc.inverse_transform(predicted_stock_price)"
   ]
  },
  {
   "cell_type": "code",
   "execution_count": 36,
   "metadata": {},
   "outputs": [
    {
     "data": {
      "text/plain": [
       "array([[1080.0673],\n",
       "       [1082.6001],\n",
       "       [1084.6494]], dtype=float32)"
      ]
     },
     "execution_count": 36,
     "metadata": {},
     "output_type": "execute_result"
    }
   ],
   "source": [
    "predicted_stock_price[0:3]"
   ]
  },
  {
   "cell_type": "code",
   "execution_count": 37,
   "metadata": {},
   "outputs": [
    {
     "data": {
      "text/plain": [
       "array([[0.89690035],\n",
       "       [0.90369547],\n",
       "       [0.91483567]])"
      ]
     },
     "execution_count": 37,
     "metadata": {},
     "output_type": "execute_result"
    }
   ],
   "source": [
    "test_set[0:3]"
   ]
  },
  {
   "cell_type": "code",
   "execution_count": 38,
   "metadata": {},
   "outputs": [],
   "source": [
    "real_stock_price = sc.inverse_transform(test_set[60:])"
   ]
  },
  {
   "cell_type": "code",
   "execution_count": 39,
   "metadata": {},
   "outputs": [
    {
     "data": {
      "text/plain": [
       "array([[1076.63000488],\n",
       "       [1082.80004883],\n",
       "       [1100.        ]])"
      ]
     },
     "execution_count": 39,
     "metadata": {},
     "output_type": "execute_result"
    }
   ],
   "source": [
    "real_stock_price[0:3]"
   ]
  },
  {
   "cell_type": "code",
   "execution_count": 40,
   "metadata": {},
   "outputs": [
    {
     "data": {
      "text/plain": [
       "140"
      ]
     },
     "execution_count": 40,
     "metadata": {},
     "output_type": "execute_result"
    }
   ],
   "source": [
    "len(real_stock_price)"
   ]
  },
  {
   "cell_type": "code",
   "execution_count": 52,
   "metadata": {},
   "outputs": [
    {
     "data": {
      "image/png": "[encoded data removed]",
      "text/plain": [
       "<Figure size 432x288 with 1 Axes>"
      ]
     },
     "metadata": {
      "needs_background": "light"
     },
     "output_type": "display_data"
    }
   ],
   "source": [
    "import matplotlib.pyplot as plt\n",
    "\n",
    "plt.plot(real_stock_price, color = 'red', label = 'Google Stock Price')\n",
    "plt.plot(predicted_stock_price, color = 'blue', label = 'Predicted Google Stock Price')\n",
    "plt.xlabel('Time')\n",
    "plt.ylabel('Google Stock Price')\n",
    "plt.title('Google Stock Price Prediction')\n",
    "plt.legend()\n",
    "plt.show()"
   ]
  },
  {
   "cell_type": "markdown",
   "metadata": {},
   "source": [
    "# 评估模型在训练数据集的表现"
   ]
  },
  {
   "cell_type": "code",
   "execution_count": 42,
   "metadata": {},
   "outputs": [],
   "source": [
    "predicted_stock_price2 = regressor.predict(x_train)\n",
    "predicted_stock_price2 = sc.inverse_transform(predicted_stock_price2)\n",
    "real_stock_price2 = training_set[60:]"
   ]
  },
  {
   "cell_type": "code",
   "execution_count": 43,
   "metadata": {},
   "outputs": [
    {
     "data": {
      "text/plain": [
       "998"
      ]
     },
     "execution_count": 43,
     "metadata": {},
     "output_type": "execute_result"
    }
   ],
   "source": [
    "len(predicted_stock_price2)"
   ]
  },
  {
   "cell_type": "code",
   "execution_count": 44,
   "metadata": {},
   "outputs": [
    {
     "data": {
      "text/plain": [
       "998"
      ]
     },
     "execution_count": 44,
     "metadata": {},
     "output_type": "execute_result"
    }
   ],
   "source": [
    "len(real_stock_price2)"
   ]
  },
  {
   "cell_type": "code",
   "execution_count": 48,
   "metadata": {
    "scrolled": true
   },
   "outputs": [
    {
     "data": {
      "image/png": "[encoded data removed]",
      "text/plain": [
       "<Figure size 432x288 with 1 Axes>"
      ]
     },
     "metadata": {
      "needs_background": "light"
     },
     "output_type": "display_data"
    }
   ],
   "source": [
    "import matplotlib.pyplot as plt\n",
    "\n",
    "plt.plot(real_stock_price2, color = 'red', label = 'Real Google Stock Price')\n",
    "plt.plot(predicted_stock_price2, color = 'blue', label = 'Predicted Google Stock Price')\n",
    "plt.title('Google Stock Price Prediction')\n",
    "plt.xlabel('Time')\n",
    "plt.ylabel('Google Stock Price')\n",
    "plt.legend()\n",
    "plt.show()"
   ]
  },
  {
   "cell_type": "markdown",
   "metadata": {},
   "source": [
    "# 测试"
   ]
  },
  {
   "cell_type": "code",
   "execution_count": 81,
   "metadata": {
    "scrolled": true
   },
   "outputs": [
    {
     "data": {
      "text/plain": [
       "array([[[0.90055142],\n",
       "        [0.18786042],\n",
       "        [0.47792614],\n",
       "        [0.34695119],\n",
       "        [0.00557047],\n",
       "        [0.45931817],\n",
       "        [0.81101603],\n",
       "        [0.42418692],\n",
       "        [0.00307817],\n",
       "        [0.95949689],\n",
       "        [0.14963999],\n",
       "        [0.12459961],\n",
       "        [0.968146  ],\n",
       "        [0.65723799],\n",
       "        [0.28779143],\n",
       "        [0.96557797],\n",
       "        [0.39014313],\n",
       "        [0.90608184],\n",
       "        [0.52592013],\n",
       "        [0.2126402 ],\n",
       "        [0.85082736],\n",
       "        [0.89974428],\n",
       "        [0.65340795],\n",
       "        [0.04486986],\n",
       "        [0.55503744],\n",
       "        [0.75042575],\n",
       "        [0.43941701],\n",
       "        [0.8141084 ],\n",
       "        [0.6779216 ],\n",
       "        [0.83151013],\n",
       "        [0.94527427],\n",
       "        [0.15163361],\n",
       "        [0.40410434],\n",
       "        [0.03544651],\n",
       "        [0.6552654 ],\n",
       "        [0.15834976],\n",
       "        [0.91113399],\n",
       "        [0.48630956],\n",
       "        [0.00821793],\n",
       "        [0.38256084],\n",
       "        [0.21041611],\n",
       "        [0.06772285],\n",
       "        [0.57643841],\n",
       "        [0.71094891],\n",
       "        [0.31073774],\n",
       "        [0.22948601],\n",
       "        [0.90937638],\n",
       "        [0.28318931],\n",
       "        [0.75961291],\n",
       "        [0.04037552],\n",
       "        [0.5867503 ],\n",
       "        [0.93405251],\n",
       "        [0.67782127],\n",
       "        [0.67091334],\n",
       "        [0.72841557],\n",
       "        [0.77999837],\n",
       "        [0.44721372],\n",
       "        [0.45637873],\n",
       "        [0.24262981],\n",
       "        [0.35114126]]])"
      ]
     },
     "execution_count": 81,
     "metadata": {},
     "output_type": "execute_result"
    }
   ],
   "source": [
    "z_test = np.random.random([1, 60, 1])\n",
    "z_test"
   ]
  },
  {
   "cell_type": "code",
   "execution_count": 82,
   "metadata": {},
   "outputs": [],
   "source": [
    "predicted_test = regressor.predict(z_test)"
   ]
  },
  {
   "cell_type": "code",
   "execution_count": 75,
   "metadata": {},
   "outputs": [
    {
     "data": {
      "text/plain": [
       "array([[857.8745]], dtype=float32)"
      ]
     },
     "execution_count": 75,
     "metadata": {},
     "output_type": "execute_result"
    }
   ],
   "source": [
    "predicted_test = sc.inverse_transform(predicted_test)\n",
    "predicted_test"
   ]
  },
  {
   "cell_type": "code",
   "execution_count": 85,
   "metadata": {},
   "outputs": [
    {
     "ename": "ValueError",
     "evalue": "Expected 2D array, got 1D array instead:\narray=[0.8 1.  1. ].\nReshape your data either using array.reshape(-1, 1) if your data has a single feature or array.reshape(1, -1) if it contains a single sample.",
     "output_type": "error",
     "traceback": [
      "\u001b[0;31m---------------------------------------------------------------------------\u001b[0m",
      "\u001b[0;31mValueError\u001b[0m                                Traceback (most recent call last)",
      "\u001b[0;32m<ipython-input-85-bc5633ea0877>\u001b[0m in \u001b[0;36m<module>\u001b[0;34m\u001b[0m\n\u001b[0;32m----> 1\u001b[0;31m \u001b[0mtest\u001b[0m \u001b[0;34m=\u001b[0m \u001b[0msc\u001b[0m\u001b[0;34m.\u001b[0m\u001b[0minverse_transform\u001b[0m\u001b[0;34m(\u001b[0m\u001b[0;34m[\u001b[0m\u001b[0;36m0.8\u001b[0m\u001b[0;34m,\u001b[0m \u001b[0;36m1\u001b[0m\u001b[0;34m,\u001b[0m \u001b[0;36m1\u001b[0m\u001b[0;34m]\u001b[0m\u001b[0;34m)\u001b[0m\u001b[0;34m\u001b[0m\u001b[0;34m\u001b[0m\u001b[0m\n\u001b[0m\u001b[1;32m      2\u001b[0m \u001b[0mtest\u001b[0m\u001b[0;34m\u001b[0m\u001b[0;34m\u001b[0m\u001b[0m\n",
      "\u001b[0;32m/opt/anaconda3/lib/python3.7/site-packages/sklearn/preprocessing/data.py\u001b[0m in \u001b[0;36minverse_transform\u001b[0;34m(self, X)\u001b[0m\n\u001b[1;32m    402\u001b[0m \u001b[0;34m\u001b[0m\u001b[0m\n\u001b[1;32m    403\u001b[0m         X = check_array(X, copy=self.copy, dtype=FLOAT_DTYPES,\n\u001b[0;32m--> 404\u001b[0;31m                         force_all_finite=\"allow-nan\")\n\u001b[0m\u001b[1;32m    405\u001b[0m \u001b[0;34m\u001b[0m\u001b[0m\n\u001b[1;32m    406\u001b[0m         \u001b[0mX\u001b[0m \u001b[0;34m-=\u001b[0m \u001b[0mself\u001b[0m\u001b[0;34m.\u001b[0m\u001b[0mmin_\u001b[0m\u001b[0;34m\u001b[0m\u001b[0;34m\u001b[0m\u001b[0m\n",
      "\u001b[0;32m/opt/anaconda3/lib/python3.7/site-packages/sklearn/utils/validation.py\u001b[0m in \u001b[0;36mcheck_array\u001b[0;34m(array, accept_sparse, accept_large_sparse, dtype, order, copy, force_all_finite, ensure_2d, allow_nd, ensure_min_samples, ensure_min_features, warn_on_dtype, estimator)\u001b[0m\n\u001b[1;32m    519\u001b[0m                     \u001b[0;34m\"Reshape your data either using array.reshape(-1, 1) if \"\u001b[0m\u001b[0;34m\u001b[0m\u001b[0;34m\u001b[0m\u001b[0m\n\u001b[1;32m    520\u001b[0m                     \u001b[0;34m\"your data has a single feature or array.reshape(1, -1) \"\u001b[0m\u001b[0;34m\u001b[0m\u001b[0;34m\u001b[0m\u001b[0m\n\u001b[0;32m--> 521\u001b[0;31m                     \"if it contains a single sample.\".format(array))\n\u001b[0m\u001b[1;32m    522\u001b[0m \u001b[0;34m\u001b[0m\u001b[0m\n\u001b[1;32m    523\u001b[0m         \u001b[0;31m# in the future np.flexible dtypes will be handled like object dtypes\u001b[0m\u001b[0;34m\u001b[0m\u001b[0;34m\u001b[0m\u001b[0;34m\u001b[0m\u001b[0m\n",
      "\u001b[0;31mValueError\u001b[0m: Expected 2D array, got 1D array instead:\narray=[0.8 1.  1. ].\nReshape your data either using array.reshape(-1, 1) if your data has a single feature or array.reshape(1, -1) if it contains a single sample."
     ]
    }
   ],
   "source": [
    "test = sc.inverse_transform([0.8, 1, 1])\n",
    "test"
   ]
  },
  {
   "cell_type": "code",
   "execution_count": null,
   "metadata": {},
   "outputs": [],
   "source": []
  }
 ],
 "metadata": {
  "kernelspec": {
   "display_name": "Python 3",
   "language": "python",
   "name": "python3"
  },
  "language_info": {
   "codemirror_mode": {
    "name": "ipython",
    "version": 3
   },
   "file_extension": ".py",
   "mimetype": "text/x-python",
   "name": "python",
   "nbconvert_exporter": "python",
   "pygments_lexer": "ipython3",
   "version": "3.7.4"
  }
 },
 "nbformat": 4,
 "nbformat_minor": 2
}
