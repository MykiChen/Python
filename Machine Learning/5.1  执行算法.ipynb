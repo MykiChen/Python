{
 "cells": [
  {
   "cell_type": "markdown",
   "metadata": {},
   "source": [
    "# 求偏微分"
   ]
  },
  {
   "cell_type": "code",
   "execution_count": 11,
   "metadata": {},
   "outputs": [],
   "source": [
    "def func(x):\n",
    "    return x ** 2"
   ]
  },
  {
   "cell_type": "code",
   "execution_count": 17,
   "metadata": {},
   "outputs": [],
   "source": [
    "## 偏微分函数\n",
    "def dfunc(f, x):\n",
    "    h = 1e-4\n",
    "    return (f(x+h) - f(x)) / (h)"
   ]
  },
  {
   "cell_type": "code",
   "execution_count": 18,
   "metadata": {},
   "outputs": [
    {
     "data": {
      "text/plain": [
       "8.00009999998963"
      ]
     },
     "execution_count": 18,
     "metadata": {},
     "output_type": "execute_result"
    }
   ],
   "source": [
    "dfunc(func, 4)"
   ]
  },
  {
   "cell_type": "code",
   "execution_count": 21,
   "metadata": {},
   "outputs": [
    {
     "data": {
      "text/plain": [
       "[<matplotlib.lines.Line2D at 0x1184609d0>]"
      ]
     },
     "execution_count": 21,
     "metadata": {},
     "output_type": "execute_result"
    },
    {
     "data": {
      "image/png": "[encoded data removed]",
      "text/plain": [
       "<Figure size 432x288 with 1 Axes>"
      ]
     },
     "metadata": {
      "needs_background": "light"
     },
     "output_type": "display_data"
    }
   ],
   "source": [
    "import matplotlib.pyplot as plt\n",
    "import numpy as np\n",
    "\n",
    "## 绘制 x ^ 2\n",
    "x = np.arange(-6, 6, 0.01)\n",
    "y = func(x)\n",
    "plt.plot(x, y)\n",
    "\n",
    "## 切线函数\n",
    "def tfunc(f, x, t):\n",
    "    d = dfunc(f, x)\n",
    "    y = f(x) - d*x\n",
    "    return d*t + y\n",
    "\n",
    "## 绘制 x = 3 时的切线\n",
    "x2 = np.arange(0, 6, 0.01)\n",
    "y2 = tfunc(func, 3, x2)\n",
    "plt.plot(x2, y2)"
   ]
  },
  {
   "cell_type": "markdown",
   "metadata": {},
   "source": [
    "# 中央差分"
   ]
  },
  {
   "cell_type": "code",
   "execution_count": 20,
   "metadata": {},
   "outputs": [],
   "source": [
    "def dfunc(f, x):\n",
    "    h = 1e-4\n",
    "    return (f(x+h) - f(x-h))/ (2*h)"
   ]
  },
  {
   "cell_type": "code",
   "execution_count": 22,
   "metadata": {},
   "outputs": [
    {
     "data": {
      "text/plain": [
       "6.000000000012662"
      ]
     },
     "execution_count": 22,
     "metadata": {},
     "output_type": "execute_result"
    }
   ],
   "source": [
    "dfunc(func, 3)"
   ]
  },
  {
   "cell_type": "markdown",
   "metadata": {},
   "source": [
    "# 计算偏微分通用公式"
   ]
  },
  {
   "cell_type": "code",
   "execution_count": 54,
   "metadata": {},
   "outputs": [],
   "source": [
    "def dfunc(f, x):\n",
    "    h = 1e-4\n",
    "    grad = np.zeros_like(x)\n",
    "    it = np.nditer(x, flags = ['multi_index'])\n",
    "    while not it.finished:\n",
    "        idx = it.multi_index\n",
    "        tmp_val = x[idx]\n",
    "        \n",
    "        x[idx] = float(tmp_val) + h\n",
    "        fxh1 = f(x)   # f(x+h)\n",
    "        \n",
    "        x[idx] = tmp_val - h\n",
    "        fxh2 = f(x)  # f(x-h)\n",
    "        \n",
    "        grad[idx] = (fxh1 - fxh2) / (2*h)\n",
    "        x[idx] = tmp_val\n",
    "        it.iternext()\n",
    "    return grad"
   ]
  },
  {
   "cell_type": "code",
   "execution_count": 24,
   "metadata": {},
   "outputs": [
    {
     "data": {
      "text/plain": [
       "array(6.)"
      ]
     },
     "execution_count": 24,
     "metadata": {},
     "output_type": "execute_result"
    }
   ],
   "source": [
    "dfunc(func, np.array(3.0))"
   ]
  },
  {
   "cell_type": "markdown",
   "metadata": {},
   "source": [
    "# 梯度下降"
   ]
  },
  {
   "cell_type": "code",
   "execution_count": 27,
   "metadata": {},
   "outputs": [],
   "source": [
    "def gradient_descent(func, init_x, lr = 0.3, epochs = 100):\n",
    "    x = init_x\n",
    "    res = [x]\n",
    "    for i in range(epochs):\n",
    "        grad = dfunc(func, x)\n",
    "        x = x - grad * lr\n",
    "        res.append(x)\n",
    "        \n",
    "    return np.array(res)\n",
    "\n",
    "def dfunc(f, x):\n",
    "    h = 1e-4\n",
    "    return (f(x+h) - f(x-h)) / (2*h)"
   ]
  },
  {
   "cell_type": "code",
   "execution_count": 29,
   "metadata": {},
   "outputs": [
    {
     "data": {
      "text/plain": [
       "array([-5.00000000e+00,  3.00000000e+00, -1.80000000e+00,  1.08000000e+00,\n",
       "       -6.48000000e-01,  3.88800000e-01, -2.33280000e-01,  1.39968000e-01,\n",
       "       -8.39808000e-02,  5.03884800e-02, -3.02330880e-02,  1.81398528e-02,\n",
       "       -1.08839117e-02,  6.53034701e-03, -3.91820820e-03,  2.35092492e-03,\n",
       "       -1.41055495e-03,  8.46332972e-04, -5.07799783e-04,  3.04679870e-04,\n",
       "       -1.82807922e-04,  1.09684753e-04, -6.58108519e-05,  3.94865112e-05,\n",
       "       -2.36919067e-05,  1.42151440e-05, -8.52908641e-06,  5.11745185e-06,\n",
       "       -3.07047111e-06,  1.84228266e-06, -1.10536960e-06,  6.63221759e-07,\n",
       "       -3.97933055e-07,  2.38759833e-07, -1.43255900e-07,  8.59535400e-08,\n",
       "       -5.15721240e-08,  3.09432744e-08, -1.85659646e-08,  1.11395788e-08,\n",
       "       -6.68374727e-09,  4.01024836e-09, -2.40614902e-09,  1.44368941e-09,\n",
       "       -8.66213646e-10,  5.19728188e-10, -3.11836913e-10,  1.87102148e-10,\n",
       "       -1.12261289e-10,  6.73567731e-11, -4.04140639e-11,  2.42484383e-11,\n",
       "       -1.45490630e-11,  8.72943780e-12, -5.23766268e-12,  3.14259761e-12,\n",
       "       -1.88555858e-12,  1.13133514e-12, -6.78801085e-13,  4.07280660e-13,\n",
       "       -2.44368382e-13,  1.46621028e-13, -8.79726154e-14,  5.27835677e-14,\n",
       "       -3.16701435e-14,  1.90020872e-14, -1.14012671e-14,  6.84075873e-15,\n",
       "       -4.10446205e-15,  2.46268365e-15, -1.47761435e-15,  8.86580333e-16,\n",
       "       -5.31941773e-16,  3.19160903e-16, -1.91500703e-16,  1.14893614e-16,\n",
       "       -6.89456232e-17,  4.13605659e-17, -2.48205006e-17,  1.48775514e-17,\n",
       "       -8.93201537e-18,  5.35504817e-18, -3.21454297e-18,  1.92721171e-18,\n",
       "       -1.14990017e-18,  6.96366962e-19, -4.08746337e-19,  2.46380709e-19,\n",
       "       -1.44048541e-19,  9.41794758e-20, -5.80217569e-20,  2.80050268e-20,\n",
       "       -1.83170875e-20,  1.53524722e-21,  1.53524722e-21,  1.53524722e-21,\n",
       "        1.53524722e-21,  1.53524722e-21,  1.53524722e-21,  1.53524722e-21,\n",
       "        1.53524722e-21])"
      ]
     },
     "execution_count": 29,
     "metadata": {},
     "output_type": "execute_result"
    }
   ],
   "source": [
    "x = gradient_descent(func, -5, lr = 0.8)"
   ]
  },
  {
   "cell_type": "code",
   "execution_count": 39,
   "metadata": {},
   "outputs": [
    {
     "data": {
      "image/png": "[encoded data removed]",
      "text/plain": [
       "<Figure size 432x288 with 1 Axes>"
      ]
     },
     "metadata": {
      "needs_background": "light"
     },
     "output_type": "display_data"
    }
   ],
   "source": [
    "t = np.arange(-6.0, 6.0, 0.01)\n",
    "plt.plot(t, func(t), c = 'b')\n",
    "plt.plot(x, func(x), c = 'r')\n",
    "plt.scatter(x, func(x), c = 'r')\n",
    "plt.show()"
   ]
  },
  {
   "cell_type": "code",
   "execution_count": 43,
   "metadata": {},
   "outputs": [
    {
     "data": {
      "image/png": "[encoded data removed]",
      "text/plain": [
       "<Figure size 432x288 with 1 Axes>"
      ]
     },
     "metadata": {
      "needs_background": "light"
     },
     "output_type": "display_data"
    }
   ],
   "source": [
    "x = gradient_descent(func, -5, lr = 0.1)\n",
    "t = np.arange(-6.0, 6.0, 0.01)\n",
    "plt.plot(t, func(t), c = 'b')\n",
    "plt.plot(x, func(x), c = 'r')\n",
    "plt.scatter(x, func(x), c = 'r')\n",
    "plt.show()"
   ]
  },
  {
   "cell_type": "markdown",
   "metadata": {},
   "source": [
    "# 计算神经网络的梯度"
   ]
  },
  {
   "cell_type": "code",
   "execution_count": 45,
   "metadata": {},
   "outputs": [
    {
     "data": {
      "text/plain": [
       "1.8019198212355374"
      ]
     },
     "execution_count": 45,
     "metadata": {},
     "output_type": "execute_result"
    }
   ],
   "source": [
    "def softmax_function(x):\n",
    "    return np.exp(x) / np.sum(np.exp(x))\n",
    "\n",
    "def cross_entropy_err(y_hat, y):\n",
    "    delta = 1e-4\n",
    "    return -np.sum(y * np.log(y_hat + delta))\n",
    "\n",
    "# 初始化神经网络\n",
    "x = np.array([0.6, 0.9])\n",
    "\n",
    "np.random.seed(42)\n",
    "weight = np.random.randn(2, 3)\n",
    "z = np.dot(x, weight)\n",
    "\n",
    "# 取得预测值 y_hat\n",
    "y_hat = softmax_function(z)\n",
    "\n",
    "# 计算代价（损失）\n",
    "y = np.array([0, 0, 1])\n",
    "cross_entropy_err(y_hat, y)"
   ]
  },
  {
   "cell_type": "markdown",
   "metadata": {},
   "source": [
    "# 计算偏微分用公式"
   ]
  },
  {
   "cell_type": "code",
   "execution_count": 58,
   "metadata": {},
   "outputs": [],
   "source": [
    "def dfunc(f, x):\n",
    "    h = 1e-4\n",
    "    grad = np.zeros_like(x)\n",
    "    it = np.nditer(x, flags = ['multi_index'])\n",
    "    while not it.finished:\n",
    "        idx = it.multi_index\n",
    "        tmp_val = x[idx]\n",
    "        \n",
    "        x[idx] = float(tmp_val) + h\n",
    "        fxh1 = f(x)   # f(x+h)\n",
    "        \n",
    "        x[idx] = tmp_val - h\n",
    "        fxh2 = f(x)  # f(x-h)\n",
    "        \n",
    "        grad[idx] = (fxh1 - fxh2) / (2*h)\n",
    "        x[idx] = tmp_val\n",
    "        it.iternext()\n",
    "    return grad"
   ]
  },
  {
   "cell_type": "code",
   "execution_count": 59,
   "metadata": {},
   "outputs": [
    {
     "data": {
      "text/plain": [
       "array([[ 0.43907169,  0.06169548, -0.50076718],\n",
       "       [ 0.65860754,  0.09254323, -0.75115077]])"
      ]
     },
     "execution_count": 59,
     "metadata": {},
     "output_type": "execute_result"
    }
   ],
   "source": [
    "def predict(x):\n",
    "    return np.dot(x, weight)\n",
    "\n",
    "def loss(x, y):\n",
    "    z = predict(x)\n",
    "    y_hat = softmax_function(z)\n",
    "    loss = cross_entropy_err(y_hat, y)\n",
    "    return loss\n",
    "\n",
    "func = lambda w: loss(x, y)\n",
    "dfunc(func, weight)"
   ]
  },
  {
   "cell_type": "code",
   "execution_count": null,
   "metadata": {},
   "outputs": [],
   "source": []
  },
  {
   "cell_type": "code",
   "execution_count": null,
   "metadata": {},
   "outputs": [],
   "source": []
  }
 ],
 "metadata": {
  "kernelspec": {
   "display_name": "Python 3",
   "language": "python",
   "name": "python3"
  },
  "language_info": {
   "codemirror_mode": {
    "name": "ipython",
    "version": 3
   },
   "file_extension": ".py",
   "mimetype": "text/x-python",
   "name": "python",
   "nbconvert_exporter": "python",
   "pygments_lexer": "ipython3",
   "version": "3.7.4"
  }
 },
 "nbformat": 4,
 "nbformat_minor": 2
}
