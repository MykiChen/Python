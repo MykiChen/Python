{
 "cells": [
  {
   "cell_type": "markdown",
   "metadata": {},
   "source": [
    "# 抓取 Marvel电影清单"
   ]
  },
  {
   "cell_type": "markdown",
   "metadata": {},
   "source": [
    "  https://www.imdb.com/list/ls071217506/"
   ]
  },
  {
   "cell_type": "code",
   "execution_count": 3,
   "metadata": {},
   "outputs": [],
   "source": [
    "import requests\n",
    "from bs4 import BeautifulSoup"
   ]
  },
  {
   "cell_type": "code",
   "execution_count": 9,
   "metadata": {},
   "outputs": [],
   "source": [
    "res = requests.get('https://www.imdb.com/list/ls071217506/')\n",
    "soup = BeautifulSoup(res.text, 'lxml')\n",
    "\n",
    "movies = []\n",
    "for movie in soup.select('.lister-item-header a'):\n",
    "    movies.append(movie.get('href').split('/')[2])"
   ]
  },
  {
   "cell_type": "code",
   "execution_count": 11,
   "metadata": {},
   "outputs": [
    {
     "data": {
      "text/plain": [
       "['tt0371746', 'tt0800080', 'tt1228705']"
      ]
     },
     "execution_count": 11,
     "metadata": {},
     "output_type": "execute_result"
    }
   ],
   "source": [
    "movies[:3]"
   ]
  },
  {
   "cell_type": "markdown",
   "metadata": {},
   "source": [
    "# 抓取评论数据 "
   ]
  },
  {
   "cell_type": "code",
   "execution_count": 23,
   "metadata": {},
   "outputs": [],
   "source": [
    "def getMovieReviews(movieid):\n",
    "    reviews = []\n",
    "    res = requests.get('https://www.imdb.com/title/{}/reviews?spoiler=hide&sort=helpfulnessScore&dir=desc&ratingFilter=10'.format(movieid))\n",
    "    soup = BeautifulSoup(res.text, 'lxml')\n",
    "\n",
    "    for review in soup.select('.imdb-user-review'):\n",
    "        title = review.select_one('.title').text\n",
    "        author = review.select_one('.display-name-link').text\n",
    "        dt = review.select_one('.review-date').text\n",
    "        content = review.select_one('.content .text').text\n",
    "        reviews.append({'title': title, 'author': author, 'dt': dt, 'content': content})\n",
    "    return reviews"
   ]
  },
  {
   "cell_type": "code",
   "execution_count": 29,
   "metadata": {},
   "outputs": [
    {
     "name": "stdout",
     "output_type": "stream",
     "text": [
      "tt0371746\n",
      "tt0800080\n",
      "tt1228705\n",
      "tt0800369\n",
      "tt0458339\n",
      "tt0848228\n",
      "tt1300854\n",
      "tt1981115\n",
      "tt1843866\n",
      "tt2015381\n",
      "tt2395427\n",
      "tt0478970\n",
      "tt3498820\n",
      "tt1211837\n",
      "tt3896198\n",
      "tt3501632\n",
      "tt1825683\n",
      "tt4154756\n",
      "tt4154664\n",
      "tt4154858\n",
      "tt4154796\n",
      "tt2364582\n",
      "tt3475734\n",
      "tt3322312\n",
      "tt2357547\n",
      "tt3322314\n",
      "tt1452299\n",
      "tt2071614\n",
      "tt2011109\n",
      "tt2247732\n",
      "tt3067038\n",
      "tt3438640\n",
      "tt3591568\n",
      "tt4128102\n"
     ]
    }
   ],
   "source": [
    "totalReviews = []\n",
    "\n",
    "for movieid in movies:\n",
    "    reviews = getMovieReviews(movieid)\n",
    "    totalReviews.extend(reviews)\n",
    "    print(movieid)"
   ]
  },
  {
   "cell_type": "code",
   "execution_count": 33,
   "metadata": {},
   "outputs": [
    {
     "data": {
      "text/plain": [
       "title      637\n",
       "author     637\n",
       "dt         637\n",
       "content    637\n",
       "dtype: int64"
      ]
     },
     "execution_count": 33,
     "metadata": {},
     "output_type": "execute_result"
    }
   ],
   "source": [
    "import pandas\n",
    "df = pandas.DataFrame(totalReviews)\n",
    "df.count()"
   ]
  },
  {
   "cell_type": "code",
   "execution_count": 34,
   "metadata": {},
   "outputs": [
    {
     "data": {
      "text/html": [
       "<div>\n",
       "<style scoped>\n",
       "    .dataframe tbody tr th:only-of-type {\n",
       "        vertical-align: middle;\n",
       "    }\n",
       "\n",
       "    .dataframe tbody tr th {\n",
       "        vertical-align: top;\n",
       "    }\n",
       "\n",
       "    .dataframe thead th {\n",
       "        text-align: right;\n",
       "    }\n",
       "</style>\n",
       "<table border=\"1\" class=\"dataframe\">\n",
       "  <thead>\n",
       "    <tr style=\"text-align: right;\">\n",
       "      <th></th>\n",
       "      <th>title</th>\n",
       "      <th>author</th>\n",
       "      <th>dt</th>\n",
       "      <th>content</th>\n",
       "    </tr>\n",
       "  </thead>\n",
       "  <tbody>\n",
       "    <tr>\n",
       "      <td>0</td>\n",
       "      <td>Delivers Intelligence &amp; Great Acting with its...</td>\n",
       "      <td>sacflyzone</td>\n",
       "      <td>23 April 2008</td>\n",
       "      <td>Rest assured, Iron Man is an absolutely amazin...</td>\n",
       "    </tr>\n",
       "    <tr>\n",
       "      <td>1</td>\n",
       "      <td>Film That Lives Up To Its Hype And The Expect...</td>\n",
       "      <td>z-mbe</td>\n",
       "      <td>16 April 2008</td>\n",
       "      <td>As an avid reader of the Iron Man comics, I wa...</td>\n",
       "    </tr>\n",
       "    <tr>\n",
       "      <td>2</td>\n",
       "      <td>Wow, very impressive !!!!\\n</td>\n",
       "      <td>ffiisshh</td>\n",
       "      <td>21 April 2008</td>\n",
       "      <td>WOW WOW WOW.This is the movie I have been wait...</td>\n",
       "    </tr>\n",
       "    <tr>\n",
       "      <td>3</td>\n",
       "      <td>A Nutshell Review: Iron Man\\n</td>\n",
       "      <td>DICK STEEL</td>\n",
       "      <td>30 April 2008</td>\n",
       "      <td>With a little tinge of shame and regret, my ra...</td>\n",
       "    </tr>\n",
       "    <tr>\n",
       "      <td>4</td>\n",
       "      <td>Iron-Badass\\n</td>\n",
       "      <td>SubZeroMK</td>\n",
       "      <td>31 May 2009</td>\n",
       "      <td>I was hyped for the movie when it was on the i...</td>\n",
       "    </tr>\n",
       "    <tr>\n",
       "      <td>...</td>\n",
       "      <td>...</td>\n",
       "      <td>...</td>\n",
       "      <td>...</td>\n",
       "      <td>...</td>\n",
       "    </tr>\n",
       "    <tr>\n",
       "      <td>632</td>\n",
       "      <td>Awesome series\\n</td>\n",
       "      <td>akogho</td>\n",
       "      <td>1 July 2018</td>\n",
       "      <td>Great acting, directing, and storyline. All ma...</td>\n",
       "    </tr>\n",
       "    <tr>\n",
       "      <td>633</td>\n",
       "      <td>Great!\\n</td>\n",
       "      <td>nmchassykowrld</td>\n",
       "      <td>23 June 2018</td>\n",
       "      <td>Just as good as the first season and that surp...</td>\n",
       "    </tr>\n",
       "    <tr>\n",
       "      <td>634</td>\n",
       "      <td>A++, a brilliant short-movie\\n</td>\n",
       "      <td>marto_dd</td>\n",
       "      <td>21 August 2013</td>\n",
       "      <td>Last year I was really pleased with Item 47. I...</td>\n",
       "    </tr>\n",
       "    <tr>\n",
       "      <td>635</td>\n",
       "      <td>My favorite Marvel One Shot film\\n</td>\n",
       "      <td>Terryfan</td>\n",
       "      <td>5 April 2016</td>\n",
       "      <td>After viewing every Marvel One Shot movie this...</td>\n",
       "    </tr>\n",
       "    <tr>\n",
       "      <td>636</td>\n",
       "      <td>Hail the King!\\n</td>\n",
       "      <td>utsavbansal93</td>\n",
       "      <td>4 February 2014</td>\n",
       "      <td>I give it a deserving 9.5*Ben Kingsley returns...</td>\n",
       "    </tr>\n",
       "  </tbody>\n",
       "</table>\n",
       "<p>637 rows × 4 columns</p>\n",
       "</div>"
      ],
      "text/plain": [
       "                                                 title          author  \\\n",
       "0     Delivers Intelligence & Great Acting with its...      sacflyzone   \n",
       "1     Film That Lives Up To Its Hype And The Expect...           z-mbe   \n",
       "2                          Wow, very impressive !!!!\\n        ffiisshh   \n",
       "3                        A Nutshell Review: Iron Man\\n      DICK STEEL   \n",
       "4                                        Iron-Badass\\n       SubZeroMK   \n",
       "..                                                 ...             ...   \n",
       "632                                   Awesome series\\n          akogho   \n",
       "633                                           Great!\\n  nmchassykowrld   \n",
       "634                     A++, a brilliant short-movie\\n        marto_dd   \n",
       "635                 My favorite Marvel One Shot film\\n        Terryfan   \n",
       "636                                   Hail the King!\\n   utsavbansal93   \n",
       "\n",
       "                  dt                                            content  \n",
       "0      23 April 2008  Rest assured, Iron Man is an absolutely amazin...  \n",
       "1      16 April 2008  As an avid reader of the Iron Man comics, I wa...  \n",
       "2      21 April 2008  WOW WOW WOW.This is the movie I have been wait...  \n",
       "3      30 April 2008  With a little tinge of shame and regret, my ra...  \n",
       "4        31 May 2009  I was hyped for the movie when it was on the i...  \n",
       "..               ...                                                ...  \n",
       "632      1 July 2018  Great acting, directing, and storyline. All ma...  \n",
       "633     23 June 2018  Just as good as the first season and that surp...  \n",
       "634   21 August 2013  Last year I was really pleased with Item 47. I...  \n",
       "635     5 April 2016  After viewing every Marvel One Shot movie this...  \n",
       "636  4 February 2014  I give it a deserving 9.5*Ben Kingsley returns...  \n",
       "\n",
       "[637 rows x 4 columns]"
      ]
     },
     "execution_count": 34,
     "metadata": {},
     "output_type": "execute_result"
    }
   ],
   "source": [
    "pandas.DataFrame(df)"
   ]
  },
  {
   "cell_type": "code",
   "execution_count": 35,
   "metadata": {},
   "outputs": [
    {
     "data": {
      "text/html": [
       "<div>\n",
       "<style scoped>\n",
       "    .dataframe tbody tr th:only-of-type {\n",
       "        vertical-align: middle;\n",
       "    }\n",
       "\n",
       "    .dataframe tbody tr th {\n",
       "        vertical-align: top;\n",
       "    }\n",
       "\n",
       "    .dataframe thead th {\n",
       "        text-align: right;\n",
       "    }\n",
       "</style>\n",
       "<table border=\"1\" class=\"dataframe\">\n",
       "  <thead>\n",
       "    <tr style=\"text-align: right;\">\n",
       "      <th></th>\n",
       "      <th>title</th>\n",
       "      <th>author</th>\n",
       "      <th>dt</th>\n",
       "      <th>content</th>\n",
       "    </tr>\n",
       "  </thead>\n",
       "  <tbody>\n",
       "    <tr>\n",
       "      <td>0</td>\n",
       "      <td>Delivers Intelligence &amp; Great Acting with its...</td>\n",
       "      <td>sacflyzone</td>\n",
       "      <td>23 April 2008</td>\n",
       "      <td>Rest assured, Iron Man is an absolutely amazin...</td>\n",
       "    </tr>\n",
       "    <tr>\n",
       "      <td>1</td>\n",
       "      <td>Film That Lives Up To Its Hype And The Expect...</td>\n",
       "      <td>z-mbe</td>\n",
       "      <td>16 April 2008</td>\n",
       "      <td>As an avid reader of the Iron Man comics, I wa...</td>\n",
       "    </tr>\n",
       "    <tr>\n",
       "      <td>2</td>\n",
       "      <td>Wow, very impressive !!!!\\n</td>\n",
       "      <td>ffiisshh</td>\n",
       "      <td>21 April 2008</td>\n",
       "      <td>WOW WOW WOW.This is the movie I have been wait...</td>\n",
       "    </tr>\n",
       "    <tr>\n",
       "      <td>3</td>\n",
       "      <td>A Nutshell Review: Iron Man\\n</td>\n",
       "      <td>DICK STEEL</td>\n",
       "      <td>30 April 2008</td>\n",
       "      <td>With a little tinge of shame and regret, my ra...</td>\n",
       "    </tr>\n",
       "    <tr>\n",
       "      <td>4</td>\n",
       "      <td>Iron-Badass\\n</td>\n",
       "      <td>SubZeroMK</td>\n",
       "      <td>31 May 2009</td>\n",
       "      <td>I was hyped for the movie when it was on the i...</td>\n",
       "    </tr>\n",
       "  </tbody>\n",
       "</table>\n",
       "</div>"
      ],
      "text/plain": [
       "                                               title      author  \\\n",
       "0   Delivers Intelligence & Great Acting with its...  sacflyzone   \n",
       "1   Film That Lives Up To Its Hype And The Expect...       z-mbe   \n",
       "2                        Wow, very impressive !!!!\\n    ffiisshh   \n",
       "3                      A Nutshell Review: Iron Man\\n  DICK STEEL   \n",
       "4                                      Iron-Badass\\n   SubZeroMK   \n",
       "\n",
       "              dt                                            content  \n",
       "0  23 April 2008  Rest assured, Iron Man is an absolutely amazin...  \n",
       "1  16 April 2008  As an avid reader of the Iron Man comics, I wa...  \n",
       "2  21 April 2008  WOW WOW WOW.This is the movie I have been wait...  \n",
       "3  30 April 2008  With a little tinge of shame and regret, my ra...  \n",
       "4    31 May 2009  I was hyped for the movie when it was on the i...  "
      ]
     },
     "execution_count": 35,
     "metadata": {},
     "output_type": "execute_result"
    }
   ],
   "source": [
    "df.head()"
   ]
  },
  {
   "cell_type": "code",
   "execution_count": 36,
   "metadata": {},
   "outputs": [
    {
     "data": {
      "text/plain": [
       "'Rest assured, Iron Man is an absolutely amazing movie. I won\\'t dare spoil any of this remarkable movie for you but I do recommend it as highly as I possibly can. Marvel needed to get in to the solo movie making business long ago. Instead of leasing out their characters to other studios, they\\'re making movies themselves. Most everyone knows Iron Man is their first effort and what a great lead off film! This movie helps take the comic book genre to the highest level. Just like they did in the books, they reinvent standard epic adventure by \"Marvelizing\" characters and making them more believable. The Spider-Man and the X-Men movies did this to a degree but only as far as their respective studios wished to stay true to the source material. Anything added or amended was for the benefit of the live action adaptation. Director Sam Raimi pulled this off by talking to the summer crowd, not down to them with the Spider-Man series. Jon Favreau has done the same thing here but I think he\\'s done it even better. Raimi intentionally threw in a little cheese. Favreau adds nice bits of humor but not too much. He also grounds the action and the suit of armor in firm reality. I\\'ve said it before but it\\'s brave to reach for the highest common denominator with a big budget film and Favreau delivers a movie with as much feeling as it has action and intensity. Needless to say, Robert Downey Jr. and company deliver the goods. It\\'s a movie that has a wonderful balance that delivers intelligence with its fun.The amazing yet realistic action is paced by the plot and characters that keep you interested from start to finish. What absolutely blew me away were the phenomenal special effects. I know they built a practical, working armor. What I loved is the use of CGI was used to augment the real life armor and not create something from scratch. Most all CGI constructs feel fake somehow but the stuff in Iron Man didn\\'t seem fake even for an instant. As great as everything looked, what really drives the movie is the emotional resonance and down to earth nature of the plot. Sure the concept is wild but it\\'s all presented so that you really believe it could happen. I doubt anyone will find fault with this movie unless they went in trying to dislike it.This is, without a doubt going to be one of my top 10 movies of 2008, quite possibly the number one film.'"
      ]
     },
     "execution_count": 36,
     "metadata": {},
     "output_type": "execute_result"
    }
   ],
   "source": [
    "df['content'][0]"
   ]
  },
  {
   "cell_type": "markdown",
   "metadata": {},
   "source": [
    "# 储存评论数据"
   ]
  },
  {
   "cell_type": "code",
   "execution_count": 37,
   "metadata": {},
   "outputs": [],
   "source": [
    "df.to_csv('movie_review.csv', encoding = 'utf-8-sig')"
   ]
  },
  {
   "cell_type": "markdown",
   "metadata": {},
   "source": [
    "# 读取IMDB 文字数据"
   ]
  },
  {
   "cell_type": "code",
   "execution_count": 38,
   "metadata": {},
   "outputs": [
    {
     "name": "stderr",
     "output_type": "stream",
     "text": [
      "Using TensorFlow backend.\n"
     ]
    }
   ],
   "source": [
    "import keras\n",
    "import numpy as np\n",
    "import pandas"
   ]
  },
  {
   "cell_type": "code",
   "execution_count": 43,
   "metadata": {},
   "outputs": [
    {
     "data": {
      "text/plain": [
       "509975"
      ]
     },
     "execution_count": 43,
     "metadata": {},
     "output_type": "execute_result"
    }
   ],
   "source": [
    "df = pandas.read_csv('movie_review.csv')\n",
    "#df.head()\n",
    "reviews = ''.join([' <SOR> ' + ele + ' <EOR> ' for ele in df['content'].head(300).tolist()]).lower()\n",
    "len(reviews)"
   ]
  },
  {
   "cell_type": "markdown",
   "metadata": {},
   "source": [
    "# 产生训练用序列与目标"
   ]
  },
  {
   "cell_type": "code",
   "execution_count": 54,
   "metadata": {},
   "outputs": [],
   "source": [
    "# 训练用序列长度\n",
    "maxlen = 60\n",
    "\n",
    "# 随机采样序列\n",
    "step = 2\n",
    "\n",
    "sentences = []\n",
    "next_chars = []\n",
    "\n",
    "for i in range(0, len(reviews) - maxlen, step):\n",
    "    # 根据步骤， 每次取出 maxlen 的序列作为特征\n",
    "    sentences.append(reviews[i: i + maxlen])\n",
    "    # 取出maxlen + 1 的字作为当目标\n",
    "    next_chars.append(reviews[i + maxlen])"
   ]
  },
  {
   "cell_type": "code",
   "execution_count": 55,
   "metadata": {},
   "outputs": [
    {
     "data": {
      "text/plain": [
       "254958"
      ]
     },
     "execution_count": 55,
     "metadata": {},
     "output_type": "execute_result"
    }
   ],
   "source": [
    "len(sentences)"
   ]
  },
  {
   "cell_type": "markdown",
   "metadata": {},
   "source": [
    "# one-hot 编码"
   ]
  },
  {
   "cell_type": "code",
   "execution_count": 140,
   "metadata": {},
   "outputs": [],
   "source": [
    "# 找出独特字元\n",
    "chars = sorted(list(set(reviews)))\n",
    "#print(chars)\n",
    "#chars"
   ]
  },
  {
   "cell_type": "code",
   "execution_count": 141,
   "metadata": {},
   "outputs": [],
   "source": [
    "# 利用字典映射char 和索引\n",
    "char_indices = dict((char, chars.index(char)) for char in chars)\n",
    "#char_indices"
   ]
  },
  {
   "cell_type": "code",
   "execution_count": 142,
   "metadata": {},
   "outputs": [],
   "source": [
    "# x: 训练样本\n",
    "x = np.zeros((len(sentences), maxlen, len(chars)), dtype = np.bool)\n",
    "\n",
    "# y: 目标样本\n",
    "y = np.zeros((len(sentences), len(chars)), dtype = np.bool)\n",
    "\n",
    "for i, sentence in enumerate(sentences):\n",
    "    for t, char in enumerate(sentence):\n",
    "        x[i, t, char_indices[char]] = 1\n",
    "    y[i, char_indices[next_chars[i]]] = 1"
   ]
  },
  {
   "cell_type": "code",
   "execution_count": 143,
   "metadata": {},
   "outputs": [
    {
     "data": {
      "text/plain": [
       "(254958, 60, 73)"
      ]
     },
     "execution_count": 143,
     "metadata": {},
     "output_type": "execute_result"
    }
   ],
   "source": [
    "x.shape"
   ]
  },
  {
   "cell_type": "code",
   "execution_count": 144,
   "metadata": {},
   "outputs": [
    {
     "data": {
      "text/plain": [
       "(254958, 73)"
      ]
     },
     "execution_count": 144,
     "metadata": {},
     "output_type": "execute_result"
    }
   ],
   "source": [
    "y.shape"
   ]
  },
  {
   "cell_type": "markdown",
   "metadata": {},
   "source": [
    "# 建立 LSTM 模型"
   ]
  },
  {
   "cell_type": "code",
   "execution_count": 145,
   "metadata": {},
   "outputs": [],
   "source": [
    "from keras import layers\n",
    "\n",
    "model = keras.models.Sequential()\n",
    "\n",
    "# 输入为60 * 字串长度\n",
    "model.add(layers.LSTM(128, return_sequences = True, input_shape=(maxlen, len(chars))))\n",
    "\n",
    "model.add(layers.LSTM(128, input_shape=(maxlen, len(chars))))\n",
    "\n",
    "# 以字元对应作为输出\n",
    "model.add(layers.Dense(len(chars), activation='softmax'))\n",
    "\n",
    "model.compile(loss='categorical_crossentropy', optimizer = 'adam')"
   ]
  },
  {
   "cell_type": "markdown",
   "metadata": {},
   "source": [
    "# 训练模型"
   ]
  },
  {
   "cell_type": "code",
   "execution_count": 146,
   "metadata": {},
   "outputs": [],
   "source": [
    "from keras.callbacks import ModelCheckpoint"
   ]
  },
  {
   "cell_type": "code",
   "execution_count": 147,
   "metadata": {},
   "outputs": [],
   "source": [
    "# imdb.hdf5 是一种高压缩的文档格式， save_best_only 储存最好的结果\n",
    "checkpoint = ModelCheckpoint('imdb.hdf5', monitor = 'loss', verbose = 1, save_best_only=True)"
   ]
  },
  {
   "cell_type": "code",
   "execution_count": null,
   "metadata": {},
   "outputs": [],
   "source": [
    "history = model.fit(x, y, batch_size=128, epochs = 10, callbacks=[checkpoint])"
   ]
  },
  {
   "cell_type": "markdown",
   "metadata": {},
   "source": [
    "# 取得字元与索引的对应"
   ]
  },
  {
   "cell_type": "code",
   "execution_count": 123,
   "metadata": {},
   "outputs": [],
   "source": [
    "char_indices = dict((char, chars.index(char)) for char in chars)"
   ]
  },
  {
   "cell_type": "markdown",
   "metadata": {},
   "source": [
    "# 读取模型"
   ]
  },
  {
   "cell_type": "code",
   "execution_count": 124,
   "metadata": {},
   "outputs": [],
   "source": [
    "from keras.models import load_model"
   ]
  },
  {
   "cell_type": "code",
   "execution_count": 125,
   "metadata": {},
   "outputs": [],
   "source": [
    "model = load_model('imdb.hdf5')"
   ]
  },
  {
   "cell_type": "markdown",
   "metadata": {},
   "source": [
    "# 随机采样文字"
   ]
  },
  {
   "cell_type": "code",
   "execution_count": 126,
   "metadata": {},
   "outputs": [
    {
     "data": {
      "text/plain": [
       "array([0.17567768, 0.2145732 , 0.28964352, 0.3201056 ])"
      ]
     },
     "execution_count": 126,
     "metadata": {},
     "output_type": "execute_result"
    }
   ],
   "source": [
    "def softmax(x, t):\n",
    "    return np.exp(x / t) / np.sum(np.exp(x))\n",
    "\n",
    "x = np.array([0.3, 0.5, 0.8, 0.9])\n",
    "softmax(x, 1)"
   ]
  },
  {
   "cell_type": "code",
   "execution_count": 127,
   "metadata": {},
   "outputs": [],
   "source": [
    "def sample(preds, temperature = 1.0):\n",
    "    preds = np.asarray(preds).astype('float64')\n",
    "    preds = np.log(preds) / temperature\n",
    "    exp_preds = np.exp(preds)\n",
    "    preds = exp_preds / np.sum(exp_preds)\n",
    "    \n",
    "    # 回传多项式分布的概率\n",
    "    probas = np.random.multinomial(1, preds, 1)\n",
    "    # 回传最大Index\n",
    "    return np.argmax(probas)"
   ]
  },
  {
   "cell_type": "markdown",
   "metadata": {},
   "source": [
    "# 文本生成 "
   ]
  },
  {
   "cell_type": "code",
   "execution_count": 128,
   "metadata": {},
   "outputs": [],
   "source": [
    "import sys\n",
    "def random_reviews(temperature):\n",
    "    generated_text = 'rest assured, iron man is an absolutely amazing movie. i won'\n",
    "    generated_text = generated_text[0:60]\n",
    "    \n",
    "    for i in range(600):\n",
    "        sampled = np.zeros((1, maxlen, len(chars)))\n",
    "        for t, char in enumerate(generated_text):\n",
    "            sampled[0, t, char_indices[char]] = 1\n",
    "            \n",
    "        preds = model.predict(sampled, verbose = 0)[0]\n",
    "        next_index = sample(preds, temperature)\n",
    "        next_char = chars[next_index]\n",
    "        generated_text += next_char\n",
    "        generated_text = generated_text[1:]\n",
    "        \n",
    "        sys.stdout.write(next_char)\n",
    "        sys.stdout.flush()\n",
    "    print(generated_text)"
   ]
  },
  {
   "cell_type": "code",
   "execution_count": 139,
   "metadata": {},
   "outputs": [
    {
     "name": "stdout",
     "output_type": "stream",
     "text": [
      "thare and you his comperion was with the firaction in a did this movie are it a see the back but the was to make i can for the firmal and and coneing way artore of the marvel man all seilaving in the expectast well of the are to all of the action the alloth it to in a movie i way way it of the film as the movie it not is of the movie all film mowery and the whith are it with a film in the movie fear toues the film are with the movie is a great the avengers of a seruling were the of the avengers and the film that the mestare it i was the beath to the all marvel a roaly the movie it this film tohe beath to the all marvel a roaly the movie it this film to\n"
     ]
    }
   ],
   "source": [
    "random_reviews(0.5)"
   ]
  },
  {
   "cell_type": "code",
   "execution_count": null,
   "metadata": {},
   "outputs": [],
   "source": []
  }
 ],
 "metadata": {
  "kernelspec": {
   "display_name": "Python 3",
   "language": "python",
   "name": "python3"
  },
  "language_info": {
   "codemirror_mode": {
    "name": "ipython",
    "version": 3
   },
   "file_extension": ".py",
   "mimetype": "text/x-python",
   "name": "python",
   "nbconvert_exporter": "python",
   "pygments_lexer": "ipython3",
   "version": "3.7.4"
  }
 },
 "nbformat": 4,
 "nbformat_minor": 2
}
