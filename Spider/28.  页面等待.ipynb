{
 "cells": [
  {
   "cell_type": "code",
   "execution_count": 1,
   "metadata": {},
   "outputs": [],
   "source": [
    "from selenium import webdriver"
   ]
  },
  {
   "cell_type": "code",
   "execution_count": 4,
   "metadata": {},
   "outputs": [],
   "source": [
    "#隐式等待\n",
    "driver_path = '/Users/myki/Documents/Python/chromedriver'\n",
    "\n",
    "driver = webdriver.Chrome(driver_path)\n",
    "#driver.implicitly_wait(5)\n",
    "driver.get('https://www.douban.com/')\n",
    "\n",
    "driver.find_element_by_id('aldkjfoajflsjfiio.asfdo')"
   ]
  },
  {
   "cell_type": "code",
   "execution_count": 7,
   "metadata": {},
   "outputs": [],
   "source": [
    "#显式等待\n",
    "from selenium.webdriver.common.by import By\n",
    "from selenium.webdriver.support.ui import WebDriverWait\n",
    "from selenium.webdriver.support import expected_conditions as EC"
   ]
  },
  {
   "cell_type": "code",
   "execution_count": 10,
   "metadata": {},
   "outputs": [
    {
     "data": {
      "text/plain": [
       "<selenium.webdriver.remote.webelement.WebElement (session=\"48084d62c80076cd0293d7f7dcba7238\", element=\"3bd507fc-450d-46f7-912e-d141e8041872\")>"
      ]
     },
     "execution_count": 10,
     "metadata": {},
     "output_type": "execute_result"
    }
   ],
   "source": [
    "driver_path = '/Users/myki/Documents/Python/chromedriver'\n",
    "\n",
    "driver = webdriver.Chrome(driver_path)\n",
    "driver.get('https://www.amazon.cn/')\n",
    "\n",
    "WebDriverWait(driver, 10).until(EC.presence_of_element_located((By.ID, 'twotabsearchtextbox')))"
   ]
  },
  {
   "cell_type": "code",
   "execution_count": 24,
   "metadata": {},
   "outputs": [],
   "source": [
    "#切换页面\n",
    "driver_path = '/Users/myki/Documents/Python/chromedriver'\n",
    "\n",
    "driver = webdriver.Chrome(driver_path)\n",
    "\n",
    "driver.get('https://www.baidu.com')\n",
    "\n",
    "driver.execute_script(\"window.open('https://www.douban.com/')\")\n",
    "\n",
    "driver.switch_to.window(driver.window_handles[1])\n",
    "\n",
    "#print(driver.current_url)\n",
    "#print(driver.page_source)"
   ]
  },
  {
   "cell_type": "code",
   "execution_count": 20,
   "metadata": {},
   "outputs": [],
   "source": [
    "from  selenium import webdriver"
   ]
  },
  {
   "cell_type": "code",
   "execution_count": 28,
   "metadata": {},
   "outputs": [],
   "source": [
    "#使用代理ip\n",
    "driver_path = '/Users/myki/Documents/Python/chromedriver'\n",
    "\n",
    "options = webdriver.ChromeOptions()\n",
    "options.add_argument(\"--proxy-server-https://114.99.4.157:9999\")\n",
    "\n",
    "driver = webdriver.Chrome(driver_path, options=options)\n",
    "\n",
    "driver.get('http://httpbin.org/ip')"
   ]
  },
  {
   "cell_type": "code",
   "execution_count": 32,
   "metadata": {},
   "outputs": [
    {
     "name": "stdout",
     "output_type": "stream",
     "text": [
      "<class 'selenium.webdriver.remote.webelement.WebElement'>\n",
      "百度一下\n",
      "submit\n"
     ]
    },
    {
     "data": {
      "text/plain": [
       "True"
      ]
     },
     "execution_count": 32,
     "metadata": {},
     "output_type": "execute_result"
    }
   ],
   "source": [
    "#webElement 类\n",
    "from selenium.webdriver.remote.webelement import WebElement\n",
    "\n",
    "driver_path = '/Users/myki/Documents/Python/chromedriver'\n",
    "\n",
    "driver = webdriver.Chrome(driver_path)\n",
    "driver.get('https://www.baidu.com')\n",
    "\n",
    "submitBtn = driver.find_element_by_id('su')\n",
    "\n",
    "print(type(submitBtn))\n",
    "print(submitBtn.get_attribute('value'))\n",
    "print(submitBtn.get_attribute('type'))\n",
    "driver.save_screenshot('baidu.png')"
   ]
  },
  {
   "cell_type": "code",
   "execution_count": null,
   "metadata": {},
   "outputs": [],
   "source": []
  }
 ],
 "metadata": {
  "kernelspec": {
   "display_name": "Python 3",
   "language": "python",
   "name": "python3"
  },
  "language_info": {
   "codemirror_mode": {
    "name": "ipython",
    "version": 3
   },
   "file_extension": ".py",
   "mimetype": "text/x-python",
   "name": "python",
   "nbconvert_exporter": "python",
   "pygments_lexer": "ipython3",
   "version": "3.7.4"
  }
 },
 "nbformat": 4,
 "nbformat_minor": 2
}
