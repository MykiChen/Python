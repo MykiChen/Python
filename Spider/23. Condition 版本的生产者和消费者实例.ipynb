{
 "cells": [
  {
   "cell_type": "code",
   "execution_count": 3,
   "metadata": {},
   "outputs": [],
   "source": [
    "import threading\n",
    "import random\n",
    "import time"
   ]
  },
  {
   "cell_type": "code",
   "execution_count": 13,
   "metadata": {},
   "outputs": [
    {
     "name": "stdout",
     "output_type": "stream",
     "text": [
      "<Consumer(消费者线程 0 , started 123145685196800)> 消费了 536 元， 剩余 1464. \n",
      "<Consumer(消费者线程 1 , started 123145690451968)> 消费了 147 元， 剩余 1317. \n",
      "<Consumer(消费者线程 2 , started 123145695707136)> 消费了 248 元， 剩余 1069. \n",
      "<Consumer(消费者线程 3 , started 123145700962304)> 消费了 622 元， 剩余 447. \n",
      "<Consumer(消费者线程 4 , started 123145706217472)> 准备消费 471 元， 剩余 447 元， 余额不足. \n",
      "<Producer(生产者线程 0, started 123145711472640)> 生产了 291 元，剩余 738 元.\n",
      "<Producer(生产者线程 1, started 123145716727808)> 生产了 228 元，剩余 966 元.\n",
      "<Producer(生产者线程 2, started 123145721982976)> 生产了 412 元，剩余 1378 元.\n",
      "<Consumer(消费者线程 4 , started 123145706217472)> 消费了 471 元， 剩余 907. \n",
      "<Consumer(消费者线程 0 , started 123145685196800)> 消费了 352 元， 剩余 555. \n",
      "<Consumer(消费者线程 1 , started 123145690451968)> 准备消费 585 元， 剩余 555 元， 余额不足. \n",
      "<Consumer(消费者线程 2 , started 123145695707136)> 消费了 500 元， 剩余 55. \n",
      "<Producer(生产者线程 1, started 123145716727808)> 生产了 793 元，剩余 848 元.\n",
      "<Producer(生产者线程 0, started 123145711472640)> 生产了 269 元，剩余 1117 元.\n",
      "<Producer(生产者线程 2, started 123145721982976)> 生产了 701 元，剩余 1818 元.\n",
      "<Consumer(消费者线程 3 , started 123145700962304)> 消费了 417 元， 剩余 1401. \n",
      "<Consumer(消费者线程 4 , started 123145706217472)> 消费了 719 元， 剩余 682. \n",
      "<Consumer(消费者线程 1 , started 123145690451968)> 消费了 585 元， 剩余 97. \n",
      "<Consumer(消费者线程 0 , started 123145685196800)> 准备消费 541 元， 剩余 97 元， 余额不足. \n",
      "<Producer(生产者线程 1, started 123145716727808)> 生产了 781 元，剩余 878 元.\n",
      "<Consumer(消费者线程 2 , started 123145695707136)> 准备消费 978 元， 剩余 878 元， 余额不足. \n",
      "<Producer(生产者线程 2, started 123145721982976)> 生产了 280 元，剩余 1158 元.\n",
      "<Producer(生产者线程 0, started 123145711472640)> 生产了 871 元，剩余 2029 元.\n",
      "<Consumer(消费者线程 0 , started 123145685196800)> 消费了 541 元， 剩余 1488. \n",
      "<Consumer(消费者线程 3 , started 123145700962304)> 消费了 963 元， 剩余 525. \n",
      "<Consumer(消费者线程 4 , started 123145706217472)> 准备消费 584 元， 剩余 525 元， 余额不足. \n",
      "<Consumer(消费者线程 1 , started 123145690451968)> 准备消费 993 元， 剩余 525 元， 余额不足. \n",
      "<Consumer(消费者线程 2 , started 123145695707136)> 准备消费 978 元， 剩余 525 元， 余额不足. \n",
      "<Producer(生产者线程 1, started 123145716727808)> 生产了 758 元，剩余 1283 元.\n",
      "<Consumer(消费者线程 3 , started 123145700962304)> 消费了 335 元， 剩余 948. \n",
      "<Consumer(消费者线程 0 , started 123145685196800)> 消费了 822 元， 剩余 126. \n"
     ]
    }
   ],
   "source": [
    "gMoney = 2000\n",
    "gCondition = threading.Condition()\n",
    "gTotalTimes = 10\n",
    "gTimes = 0\n",
    "\n",
    "class Producer(threading.Thread):\n",
    "    def run(self):\n",
    "        global gMoney\n",
    "        global gTimes\n",
    "        \n",
    "        while(True):\n",
    "            money = random.randint(100, 1000)\n",
    "            gCondition.acquire()\n",
    "            \n",
    "            if gTimes >= gTotalTimes:\n",
    "                gCondition.release()\n",
    "                break\n",
    "            gMoney += money\n",
    "            print('%s 生产了 %d 元，剩余 %d 元.' % (threading.current_thread(), money, gMoney))\n",
    "            \n",
    "            gTimes += 1\n",
    "            gCondition.notify_all()\n",
    "            gCondition.release()\n",
    "            time.sleep(0.5)\n",
    "            \n",
    "            \n",
    "class Consumer(threading.Thread):\n",
    "    def run(self):\n",
    "        global gMoney\n",
    "        \n",
    "        while(True):\n",
    "            money = random.randint(100, 1000)\n",
    "            gCondition.acquire()\n",
    "            \n",
    "            while(gMoney < money):\n",
    "                if gTimes >= gTotalTimes:\n",
    "                    gCondition.release()\n",
    "                    return\n",
    "                print('%s 准备消费 %d 元， 剩余 %d 元， 余额不足. ' % (threading.current_thread(), money, gMoney))\n",
    "                gCondition.wait()\n",
    "            \n",
    "            gMoney -= money\n",
    "            print('%s 消费了 %d 元， 剩余 %d. ' % (threading.current_thread(), money, gMoney) )\n",
    "            gCondition.release()\n",
    "            time.sleep(0.5)\n",
    "                \n",
    "def main():\n",
    "    for x in range(5):\n",
    "        t = Consumer(name = '消费者线程 %d ' % x)\n",
    "        t.start()\n",
    "        \n",
    "    for x in range(3):\n",
    "        t = Producer(name = '生产者线程 %d' % x)\n",
    "        t.start()\n",
    "        \n",
    "if __name__ == '__main__':\n",
    "    main()"
   ]
  },
  {
   "cell_type": "code",
   "execution_count": null,
   "metadata": {},
   "outputs": [],
   "source": []
  },
  {
   "cell_type": "code",
   "execution_count": null,
   "metadata": {},
   "outputs": [],
   "source": []
  },
  {
   "cell_type": "code",
   "execution_count": null,
   "metadata": {},
   "outputs": [],
   "source": []
  }
 ],
 "metadata": {
  "kernelspec": {
   "display_name": "Python 3",
   "language": "python",
   "name": "python3"
  },
  "language_info": {
   "codemirror_mode": {
    "name": "ipython",
    "version": 3
   },
   "file_extension": ".py",
   "mimetype": "text/x-python",
   "name": "python",
   "nbconvert_exporter": "python",
   "pygments_lexer": "ipython3",
   "version": "3.7.4"
  }
 },
 "nbformat": 4,
 "nbformat_minor": 2
}
