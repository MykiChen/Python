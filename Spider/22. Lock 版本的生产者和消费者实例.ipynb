{
 "cells": [
  {
   "cell_type": "code",
   "execution_count": 2,
   "metadata": {},
   "outputs": [],
   "source": [
    "import threading\n",
    "import random\n",
    "import time"
   ]
  },
  {
   "cell_type": "code",
   "execution_count": 48,
   "metadata": {},
   "outputs": [
    {
     "name": "stdout",
     "output_type": "stream",
     "text": [
      "<Consumer(消费线程3, started 123146871660544)> 消费者准备消费 842 元，剩余 102 元， 余额不足！\n",
      "<Consumer(消费线程1, started 123146861150208)> 消费者准备消费 705 元，剩余 102 元， 余额不足！\n",
      "<Consumer(消费线程4, started 123146876915712)> 消费者准备消费 898 元，剩余 102 元， 余额不足！\n",
      "<Consumer(消费线程2, started 123146866405376)> 消费者准备消费 498 元，剩余 102 元， 余额不足！\n",
      "<Consumer(消费线程0, started 123146855895040)> 消费者准备消费 674 元，剩余 102 元， 余额不足！\n",
      "<Consumer(消费线程0, started 123146882170880)> 消费了 387 元, 剩余 1613 元！\n",
      "<Consumer(消费线程1, started 123146887426048)> 消费了 171 元, 剩余 1442 元！\n",
      "<Consumer(消费线程2, started 123146892681216)> 消费了 128 元, 剩余 1314 元！\n",
      "<Consumer(消费线程3, started 123146897936384)> 消费了 595 元, 剩余 719 元！\n",
      "<Consumer(消费线程4, started 123146903191552)> 消费者准备消费 832 元，剩余 719 元， 余额不足！\n"
     ]
    }
   ],
   "source": [
    "#defines a global variable\n",
    "gMoney = 2000\n",
    "gLock = threading.Lock()\n",
    "gTotalTimes = 10\n",
    "gTimes = 0\n",
    "\n",
    "class Producer(threading.Thread):\n",
    "    def run(self):\n",
    "        global gMoney\n",
    "        global gTimes\n",
    "        \n",
    "        while(True):\n",
    "            money = random.randint(300, 1500)\n",
    "            gLock.acquire()\n",
    "            if gTimes >= gTotalTimes:\n",
    "                gLock.release()\n",
    "                break\n",
    "            gMoney += money\n",
    "            print('%s 赚了 %d 元，剩余 %d 元' %(threading.current_thread(), money, gMoney))\n",
    "            gTimes += 1\n",
    "            gLock.release()\n",
    "            time.sleep(0.5)\n",
    "    \n",
    "class Consumer(threading.Thread):\n",
    "    def run(self):\n",
    "        global gMoney\n",
    "        while(True):\n",
    "            money = random.randint(100, 1000)\n",
    "            gLock.acquire()\n",
    "            if gMoney >= money:\n",
    "                gMoney -= money\n",
    "                print('%s 消费了 %d 元, 剩余 %d 元！' % (threading.current_thread(), money, gMoney))\n",
    "            else:\n",
    "                if gTimes > gTotalTimes:\n",
    "                    gLock.release()\n",
    "                    break\n",
    "                    \n",
    "                print('%s 消费者准备消费 %d 元，剩余 %d 元， 余额不足！' % (threading.current_thread(), money, gMoney))\n",
    "                break\n",
    "                \n",
    "            gLock.release()\n",
    "            time.sleep(0.5)\n",
    "    \n",
    "def main():\n",
    "    for x in range(5):\n",
    "        t = Consumer(name = '消费线程%d' % x)\n",
    "        t.start()\n",
    "        \n",
    "    for x in range(3):\n",
    "        t = Producer(name = '生产者线程%d' % x)\n",
    "        t.start()\n",
    "        \n",
    "if __name__ == '__main__':\n",
    "    main()"
   ]
  },
  {
   "cell_type": "code",
   "execution_count": null,
   "metadata": {},
   "outputs": [],
   "source": []
  },
  {
   "cell_type": "code",
   "execution_count": null,
   "metadata": {},
   "outputs": [],
   "source": []
  }
 ],
 "metadata": {
  "kernelspec": {
   "display_name": "Python 3",
   "language": "python",
   "name": "python3"
  },
  "language_info": {
   "codemirror_mode": {
    "name": "ipython",
    "version": 3
   },
   "file_extension": ".py",
   "mimetype": "text/x-python",
   "name": "python",
   "nbconvert_exporter": "python",
   "pygments_lexer": "ipython3",
   "version": "3.7.4"
  }
 },
 "nbformat": 4,
 "nbformat_minor": 2
}
