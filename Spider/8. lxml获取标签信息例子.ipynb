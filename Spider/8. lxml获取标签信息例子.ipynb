{
 "cells": [
  {
   "cell_type": "code",
   "execution_count": 3,
   "metadata": {},
   "outputs": [],
   "source": [
    "from urllib import request\n",
    "from lxml import etree"
   ]
  },
  {
   "cell_type": "code",
   "execution_count": 2,
   "metadata": {},
   "outputs": [],
   "source": [
    "headers = {\n",
    "    'User-Agent': 'Mozilla/5.0 (Macintosh; Intel Mac OS X 10_15_2) AppleWebKit/537.36 (KHTML, like Gecko) Chrome/79.0.3945.79 Safari/537.36'\n",
    "}\n",
    "\n",
    "url = 'https://join.qq.com/post.php?tid=3&pid=1'\n",
    "\n",
    "req = request.Request(url, headers=headers)\n",
    "\n",
    "resp = request.urlopen(req)\n",
    "\n",
    "with open('tencent.html', 'w') as fp:\n",
    "    fp.write(resp.read().decode('utf-8'))"
   ]
  },
  {
   "cell_type": "code",
   "execution_count": 29,
   "metadata": {},
   "outputs": [
    {
     "name": "stdout",
     "output_type": "stream",
     "text": [
      "<li><a href=\"index.php\">首页</a></li>\n",
      "            \n",
      "<li><a href=\"index.php?position=1\">岗位详情</a></li>\n",
      "            \n",
      "<li><a href=\"news.php\">通知动态</a></li>\n",
      "            \n",
      "<li><a href=\"about.php\">了解腾讯</a></li>\n",
      "            \n",
      "<li><a href=\"video.php\">视频干货</a></li>\n",
      "        \n"
     ]
    }
   ],
   "source": [
    "parser = etree.HTMLParser(encoding = 'utf-8')\n",
    "html = etree.parse('tencent.html', parser = parser)\n",
    "\n",
    "#get all div tags\n",
    "divs = html.xpath('//ul')[0]\n",
    "for div in divs:\n",
    "    print(etree.tostring(div, encoding = 'utf-8').decode('utf-8'))"
   ]
  },
  {
   "cell_type": "code",
   "execution_count": 39,
   "metadata": {},
   "outputs": [
    {
     "name": "stdout",
     "output_type": "stream",
     "text": [
      "<ul class=\"mt15\">&#13;\n",
      "                <li><a href=\"special_post.php?pid=1\"><i class=\"icon icon-recruit\"/>专项招聘<img src=\"//cdn.tencentgroup.qq.com/join_static/static/v2/images/icon-hot.png\" alt=\"\" width=\"28\"/></a></li>&#13;\n",
      "            </ul>&#13;\n",
      "        \n"
     ]
    }
   ],
   "source": [
    "div = html.xpath('//ul[2]')[0]\n",
    "print(etree.tostring(div, encoding = 'utf-8').decode('utf-8'))"
   ]
  },
  {
   "cell_type": "code",
   "execution_count": 59,
   "metadata": {},
   "outputs": [
    {
     "name": "stdout",
     "output_type": "stream",
     "text": [
      "<div class=\"page-header\">\n",
      "    <div class=\"content clearfix\">\n",
      "        <div class=\"logo fl\"><img src=\"//cdn.tencentgroup.qq.com/join_static/static/v2/images/page-logo.png\" alt=\"腾讯校园招聘\" width=\"199\"/></div>\n",
      "        <ul class=\"nav fl clearfix\">\n",
      "            <li><a href=\"index.php\">首页</a></li>\n",
      "            <li><a href=\"index.php?position=1\">岗位详情</a></li>\n",
      "            <li><a href=\"news.php\">通知动态</a></li>\n",
      "            <li><a href=\"about.php\">了解腾讯</a></li>\n",
      "            <li><a href=\"video.php\">视频干货</a></li>\n",
      "        </ul>\n",
      "        <div class=\"member\">\n",
      "                        <div class=\"nolog\" id=\"nolog\">\n",
      "                <a id=\"btn_login\" href=\"login.php\">登录</a>\n",
      "            </div>\n",
      "                    </div>\n",
      "    </div>\n",
      "</div>\n"
     ]
    }
   ],
   "source": [
    "div3 = html.xpath(\"//div[@class='page-header']\")\n",
    "for div in div3:\n",
    "    print(etree.tostring(div, encoding = 'utf-8').decode('utf-8'))"
   ]
  },
  {
   "cell_type": "code",
   "execution_count": 68,
   "metadata": {},
   "outputs": [
    {
     "name": "stdout",
     "output_type": "stream",
     "text": [
      "https://join.qq.com/index.php\n",
      "https://join.qq.com/index.php?position=1\n",
      "https://join.qq.com/news.php\n",
      "https://join.qq.com/about.php\n",
      "https://join.qq.com/video.php\n",
      "https://join.qq.com/login.php\n",
      "https://join.qq.com/post.php?pid=1\n",
      "https://join.qq.com/post.php?pid=2\n",
      "https://join.qq.com/post.php?tid=2&pid=1\n",
      "https://join.qq.com/post.php?tid=3&pid=1\n",
      "https://join.qq.com/post.php?tid=4&pid=1\n",
      "https://join.qq.com/post.php?tid=5&pid=1\n",
      "https://join.qq.com/special_post.php?pid=1\n",
      "https://join.qq.com/post.php?fid=79&pid=1\n",
      "https://join.qq.com/post.php?fid=80&pid=1\n",
      "https://join.qq.com/post.php?fid=94&pid=1\n",
      "https://join.qq.com/post.php?fid=99&pid=1\n",
      "https://join.qq.com/post.php?fid=160&pid=1\n",
      "https://join.qq.com/post.php?fid=195&pid=1\n",
      "https://join.qq.com/http://www.tencent.com/\n",
      "https://join.qq.com/http://www.qq.com/contract.shtml\n",
      "https://join.qq.com/http://adver.qq.com/\n",
      "https://join.qq.com/http://hr.tencent.com/\n",
      "https://join.qq.com/https://careers.tencent.com/MBA.html\n",
      "https://join.qq.com/http://gongyi.qq.com/\n",
      "https://join.qq.com/http://service.qq.com/\n"
     ]
    }
   ],
   "source": [
    "aList = html.xpath(\"//a/@href\")\n",
    "for a in aList:\n",
    "    #print(etree.tostring(a, encoding = 'utf-8').decode('utf-8'))\n",
    "    print('https://join.qq.com/' + a)"
   ]
  },
  {
   "cell_type": "code",
   "execution_count": 105,
   "metadata": {},
   "outputs": [
    {
     "name": "stdout",
     "output_type": "stream",
     "text": [
      "[]\n"
     ]
    }
   ],
   "source": [
    "trs = html.xpath(\"//tr[position()>1]\")\n",
    "positions = []\n",
    "\n",
    "for tr in trs:\n",
    "    href = tr.xpath(\".//a/@href\")[0]\n",
    "    fullurl = 'https://join.qq.com/' + href\n",
    "    title = tr.xpath(\"./td[1]//text()\")[0]\n",
    "    category = tr.xpath(\"./td[2]//text()\")[0]\n",
    "    nums = tr.xpath(\"./td[3]//text()\")[0]\n",
    "    address = tr.xpath(\"./td[4]//text()\")[0]\n",
    "    pubtime = tr.xpath(\"./td[5]//trxt()\")[0]\n",
    "    \n",
    "    position = {\n",
    "        'url': url,\n",
    "        'title': title,\n",
    "        'category': category,\n",
    "        'nums': nums,\n",
    "        'address': address,\n",
    "        'pubtime': pubtime\n",
    "    }\n",
    "    positions.append(position)\n",
    "    \n",
    "print(positions)"
   ]
  },
  {
   "cell_type": "code",
   "execution_count": null,
   "metadata": {},
   "outputs": [],
   "source": []
  }
 ],
 "metadata": {
  "kernelspec": {
   "display_name": "Python 3",
   "language": "python",
   "name": "python3"
  },
  "language_info": {
   "codemirror_mode": {
    "name": "ipython",
    "version": 3
   },
   "file_extension": ".py",
   "mimetype": "text/x-python",
   "name": "python",
   "nbconvert_exporter": "python",
   "pygments_lexer": "ipython3",
   "version": "3.7.4"
  }
 },
 "nbformat": 4,
 "nbformat_minor": 2
}
