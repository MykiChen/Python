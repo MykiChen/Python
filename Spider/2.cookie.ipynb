{
 "cells": [
  {
   "cell_type": "code",
   "execution_count": 1,
   "metadata": {},
   "outputs": [],
   "source": [
    "from urllib import request"
   ]
  },
  {
   "cell_type": "code",
   "execution_count": 15,
   "metadata": {},
   "outputs": [],
   "source": [
    "headers = {\n",
    "    'User-Agent': 'Mozilla/5.0 (Macintosh; Intel Mac OS X 10_15_2) AppleWebKit/537.36 (KHTML, like Gecko) Chrome/79.0.3945.79 Safari/537.36',\n",
    "    'cookie': 'ShibbolethSSO=LE; _ga=GA1.3.2046111587.1554805433; com.silverpop.iMAWebCookie=a5bbe202-c8bd-6a25-908d-db2eb27a7d35; d2lSessionVal=NbT1vlgjo8ymxQyYZHxH175mc; d2lSecureSessionVal=pHT8OEC2lz7IpgUAAV6DmevSM; _gcl_au=1.1.1697934466.1576564457; _gid=GA1.3.432568158.1576564457; _fbp=fb.2.1576564457529.537659774; ADRUM=s=1576570452568&r=https%3A%2F%2Fmylo.utas.edu.au%2Fd2l%2Flp%2Fcustomwidgets%2F6607%2Fframe%2F1044%3F-1846717811'\n",
    "}\n",
    "\n",
    "url = 'https://mylo.utas.edu.au/d2l/le/content/346100/Home'\n",
    "\n",
    "req = request.Request(url, headers = headers)\n",
    "resp = request.urlopen(req)\n",
    "#print(resp.read().decode('utf-8'))\n",
    "with open('MyLO.html', 'w') as fp:\n",
    "    fp.write(resp.read().decode('utf-8'))"
   ]
  },
  {
   "cell_type": "code",
   "execution_count": 26,
   "metadata": {},
   "outputs": [],
   "source": [
    "from urllib import request\n",
    "from http.cookiejar import CookieJar\n",
    "from urllib import parse\n",
    "\n",
    "headers = {\n",
    "    'User-Agent': 'Mozilla/5.0 (Macintosh; Intel Mac OS X 10_15_2) AppleWebKit/537.36 (KHTML, like Gecko) Chrome/79.0.3945.79 Safari/537.36',\n",
    "}\n",
    "\n",
    "def get_opener():\n",
    "    #create a cookiejar object \n",
    "    cookiejar = CookieJar()\n",
    "\n",
    "    #create an HTTPCookieProcess object by using cookiejar\n",
    "    handler = request.HTTPCookieProcessor(cookiejar)\n",
    "\n",
    "    #create an opener by using handler created last step\n",
    "    opener = request.build_opener(handler)\n",
    "    return opener\n",
    "\n",
    "def login_mylo(opener):\n",
    "    #send login request by using opener\n",
    "    data = {\n",
    "        'loginfmt':'jinyuanc@utas.edu.au',\n",
    "        'password':'172LINg173'\n",
    "    }\n",
    "    login_url = 'https://login.microsoftonline.com/common/oauth2/authorize?client_id=4345a7b9-9a63-4910-a426-35363201d503&redirect_uri=https%3A%2F%2Fwww.office.com%2Flanding&response_type=code%20id_token&scope=openid%20profile&response_mode=form_post&nonce=637121708286946601.YmIxNGRiMTItNDI0MC00ZTczLTk4YjgtYmE4MWZiZjhiYjA2OGM5YTBmMGYtNDQwYi00OTdkLTljZjEtNDY2Nzg4N2RlZGVi&ui_locales=en-GB&mkt=en-GB&client-request-id=35604a74-e57c-4e73-a474-d83b92101661&state=1tMyK0sukGrm_dx9Y1zFn6lu55ap6wKjLwqZoHisG91cTrzz33ghRR6-qc-TLeolvWp8gB4h3_Fi3gFjlWcxa-yU3hkAmSHOaCqyG1adLRE8y0HMjS5qpu3XDYTYhGeN2LeZaVDiax4tTQllk4tRGep253Tfyj-zDO_GcnSnTRbRC0dTBpRAP1ki8oISazthszRBK5I9Of4c8sbL1MADMtD464NbWUsWjBVAMQu9IMxv1b_Ge6cXzwTrx0jXHnBGpBYVdUbNGaklF0ks3dtbng&x-client-SKU=ID_NETSTANDARD2_0&x-client-ver=6.2.0.0'\n",
    "    req = request.Request(login_url, data=parse.urlencode(data).encode('utf-8'), headers=headers)\n",
    "    opener.open(req)\n",
    "\n",
    "def visit_mylo(opener):\n",
    "    my_url = 'https://mylo.utas.edu.au/d2l/lms/grades/my_grades/main.d2l?ou=346100'\n",
    "    req = request.Request(my_url, headers=headers)\n",
    "    resp = opener.open(req)\n",
    "    with open('myGrade.html', 'w', encoding = 'utf-8') as fp:\n",
    "        fp.write(resp.read().decode('utf-8'))\n",
    "     \n",
    "if __name__ == '__main__':\n",
    "    opener = get_opener()\n",
    "    login_mylo(opener)\n",
    "    visit_mylo(opener)"
   ]
  },
  {
   "cell_type": "code",
   "execution_count": null,
   "metadata": {},
   "outputs": [],
   "source": []
  }
 ],
 "metadata": {
  "kernelspec": {
   "display_name": "Python 3",
   "language": "python",
   "name": "python3"
  },
  "language_info": {
   "codemirror_mode": {
    "name": "ipython",
    "version": 3
   },
   "file_extension": ".py",
   "mimetype": "text/x-python",
   "name": "python",
   "nbconvert_exporter": "python",
   "pygments_lexer": "ipython3",
   "version": "3.7.4"
  }
 },
 "nbformat": 4,
 "nbformat_minor": 2
}
