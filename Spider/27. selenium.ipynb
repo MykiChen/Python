{
 "cells": [
  {
   "cell_type": "code",
   "execution_count": 1,
   "metadata": {},
   "outputs": [],
   "source": [
    "from selenium.webdriver.common.action_chains import ActionChains\n",
    "from selenium.webdriver.support.ui import Select\n",
    "from selenium import webdriver\n",
    "import time"
   ]
  },
  {
   "cell_type": "code",
   "execution_count": 2,
   "metadata": {},
   "outputs": [],
   "source": [
    "driver_path = '/Users/myki/Documents/Python/chromedriver'\n",
    "\n",
    "driver = webdriver.Chrome(driver_path)\n",
    "\n",
    "driver.get('https://www.zhipin.com/c101010100/?query=python&page=1&ka=page-1')\n",
    "\n",
    "#inputTag = driver.find_element_by_xpath(\"//input[@id='kw']\")\n",
    "#inputTag.send_keys('hello world')\n",
    "\n",
    "time.sleep(5)\n",
    "driver.quit()"
   ]
  },
  {
   "cell_type": "code",
   "execution_count": 48,
   "metadata": {},
   "outputs": [],
   "source": [
    "#自动点击按钮\n",
    "driver_path = '/Users/myki/Documents/Python/chromedriver'\n",
    "driver = webdriver.Chrome(driver_path)\n",
    "\n",
    "driver.get('https://www.baidu.com/')\n",
    "\n",
    "text = driver.find_element_by_id('kw')\n",
    "text.send_keys('python')\n",
    "\n",
    "suBtn = driver.find_element_by_id('su')\n",
    "suBtn.click()\n",
    "time.sleep(5)\n",
    "driver.quit()"
   ]
  },
  {
   "cell_type": "code",
   "execution_count": null,
   "metadata": {},
   "outputs": [],
   "source": []
  },
  {
   "cell_type": "code",
   "execution_count": 53,
   "metadata": {},
   "outputs": [],
   "source": [
    "#自动从列表中选择option\n",
    "driver_path = '/Users/myki/Documents/Python/chromedriver'\n",
    "driver = webdriver.Chrome(driver_path)\n",
    "\n",
    "driver.get('https://www.amazon.cn/ref=z_cn?tag=zcn0e-23')\n",
    "\n",
    "selectBtn = Select(driver.find_element_by_id('searchDropdownBox'))\n",
    "\n",
    "selectBtn.select_by_index(5)\n",
    "\n",
    "time.sleep(3)\n",
    "\n",
    "text = driver.find_element_by_id('twotabsearchtextbox')\n",
    "text.send_keys('python')\n",
    "\n",
    "suBtn = driver.find_element_by_xpath(\"//input[@class='nav-input']\")\n",
    "suBtn.click()\n",
    "\n",
    "time.sleep(5)\n",
    "driver.quit()"
   ]
  },
  {
   "cell_type": "code",
   "execution_count": 61,
   "metadata": {},
   "outputs": [],
   "source": [
    "#行为链Action Chain\n",
    "driver_path = '/Users/myki/Documents/Python/chromedriver'\n",
    "driver = webdriver.Chrome(driver_path)\n",
    "\n",
    "driver.get('https://www.amazon.cn/')\n",
    "\n",
    "inputTag = driver.find_element_by_id('twotabsearchtextbox')\n",
    "submitBtn = driver.find_element_by_xpath(\"//input[@class='nav-input']\")\n",
    "\n",
    "actions = ActionChains(driver)\n",
    "actions.move_to_element(inputTag)\n",
    "actions.send_keys_to_element(inputTag, 'python')\n",
    "actions.move_to_element(submitBtn)\n",
    "actions.click(submitBtn)\n",
    "actions.perform()\n"
   ]
  },
  {
   "cell_type": "code",
   "execution_count": 65,
   "metadata": {},
   "outputs": [
    {
     "name": "stdout",
     "output_type": "stream",
     "text": [
      "{'domain': '.amazon.cn', 'expiry': 2207720026.681915, 'httpOnly': False, 'name': 'session-token', 'path': '/', 'secure': False, 'value': 'H0oYAUROzttr/L0zFlol59TjQ2HL5fEBNiKu1j08pHL7lGQcrtZmuO6iG67Xf98UCVxV0Z8bAvx+/TIOccmtMCItuJIvQKav3vHZfSVq/H544Mq9B5YYBZhHeyoM8ZRpVuEQwt+o3EyG6UIa1NyJEpy+f4kPSJVrGOuxRr1WXRqZ604cQJ5zJ2qUrMRw4UfsEimuUUyXVENg7XzJi6d+R0IEtyk6EAIPAGvSrmYsjxgWWPB+UFOi0A=='}\n",
      "{'domain': '.amazon.cn', 'expiry': 2082729601.237088, 'httpOnly': False, 'name': 'session-id-time', 'path': '/', 'secure': False, 'value': '2082729601l'}\n",
      "{'domain': '.amazon.cn', 'expiry': 2082787201.505048, 'httpOnly': False, 'name': 'lc-acbcn', 'path': '/', 'secure': False, 'value': 'zh_CN'}\n",
      "{'domain': '.amazon.cn', 'expiry': 2082729601.237049, 'httpOnly': False, 'name': 'ubid-acbcn', 'path': '/', 'secure': False, 'value': '462-9932552-6272619'}\n",
      "{'domain': 'www.amazon.cn', 'expiry': 1637480023, 'httpOnly': False, 'name': 'csm-hit', 'path': '/', 'secure': False, 'value': 'tb:s-WSPR245ENRBY7CHV4MYY|1577000023906&t:1577000023906'}\n",
      "{'domain': '.amazon.cn', 'expiry': 2082729601.237119, 'httpOnly': False, 'name': 'session-id', 'path': '/', 'secure': False, 'value': '461-6532870-3216107'}\n",
      "{'domain': '.amazon.cn', 'expiry': 2082729601.493441, 'httpOnly': False, 'name': 'x-wl-uid', 'path': '/', 'secure': False, 'value': '1iy6UBC3rYiQVMTqyPCBzB7nzxnhb4YiiI+YnhWCF4g9e/hkGNDs2sZyAtVPFXUG+kX4Snv/FIu8='}\n",
      "==============================\n",
      "{'domain': '.amazon.cn', 'expiry': 2207720026.681915, 'httpOnly': False, 'name': 'session-token', 'path': '/', 'secure': False, 'value': 'H0oYAUROzttr/L0zFlol59TjQ2HL5fEBNiKu1j08pHL7lGQcrtZmuO6iG67Xf98UCVxV0Z8bAvx+/TIOccmtMCItuJIvQKav3vHZfSVq/H544Mq9B5YYBZhHeyoM8ZRpVuEQwt+o3EyG6UIa1NyJEpy+f4kPSJVrGOuxRr1WXRqZ604cQJ5zJ2qUrMRw4UfsEimuUUyXVENg7XzJi6d+R0IEtyk6EAIPAGvSrmYsjxgWWPB+UFOi0A=='}\n"
     ]
    }
   ],
   "source": [
    "driver_path = '/Users/myki/Documents/Python/chromedriver'\n",
    "driver = webdriver.Chrome(driver_path)\n",
    "\n",
    "driver.get('https://www.amazon.cn/')\n",
    "\n",
    "for cookie in driver.get_cookies():\n",
    "    print(cookie)\n",
    "    \n",
    "print('='*30)\n",
    "print(driver.get_cookie('session-token'))"
   ]
  },
  {
   "cell_type": "code",
   "execution_count": null,
   "metadata": {},
   "outputs": [],
   "source": []
  }
 ],
 "metadata": {
  "kernelspec": {
   "display_name": "Python 3",
   "language": "python",
   "name": "python3"
  },
  "language_info": {
   "codemirror_mode": {
    "name": "ipython",
    "version": 3
   },
   "file_extension": ".py",
   "mimetype": "text/x-python",
   "name": "python",
   "nbconvert_exporter": "python",
   "pygments_lexer": "ipython3",
   "version": "3.7.4"
  }
 },
 "nbformat": 4,
 "nbformat_minor": 2
}
