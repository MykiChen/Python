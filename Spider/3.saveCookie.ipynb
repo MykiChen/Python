{
 "cells": [
  {
   "cell_type": "code",
   "execution_count": 5,
   "metadata": {},
   "outputs": [],
   "source": [
    "from urllib import request\n",
    "from http.cookiejar import MozillaCookieJar"
   ]
  },
  {
   "cell_type": "code",
   "execution_count": 10,
   "metadata": {},
   "outputs": [
    {
     "name": "stdout",
     "output_type": "stream",
     "text": [
      "<Cookie course=abc for httpbin.org/>\n"
     ]
    }
   ],
   "source": [
    "cookiejar = MozillaCookieJar('myCookie.txt')\n",
    "cookiejar.load(ignore_discard=True)\n",
    "handler = request.HTTPCookieProcessor(cookiejar)\n",
    "opener = request.build_opener(handler)\n",
    "\n",
    "resp = opener.open('http://httpbin.org/cookies/set?course=abc')\n",
    "for cookie in cookiejar:\n",
    "    print(cookie)\n",
    "#cookiejar.save(ignore_discard=True)"
   ]
  },
  {
   "cell_type": "code",
   "execution_count": null,
   "metadata": {},
   "outputs": [],
   "source": []
  }
 ],
 "metadata": {
  "kernelspec": {
   "display_name": "Python 3",
   "language": "python",
   "name": "python3"
  },
  "language_info": {
   "codemirror_mode": {
    "name": "ipython",
    "version": 3
   },
   "file_extension": ".py",
   "mimetype": "text/x-python",
   "name": "python",
   "nbconvert_exporter": "python",
   "pygments_lexer": "ipython3",
   "version": "3.7.4"
  }
 },
 "nbformat": 4,
 "nbformat_minor": 2
}
