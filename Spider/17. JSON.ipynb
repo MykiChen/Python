{
 "cells": [
  {
   "cell_type": "code",
   "execution_count": 1,
   "metadata": {},
   "outputs": [],
   "source": [
    "import json"
   ]
  },
  {
   "cell_type": "code",
   "execution_count": 10,
   "metadata": {},
   "outputs": [
    {
     "name": "stdout",
     "output_type": "stream",
     "text": [
      "[{\"username\": \"jinyuan\", \"age\": \"28\", \"country\": \"China\"}, {\"username\": \"myki\", \"age\": \"18\", \"country\": \"Australia\"}]\n"
     ]
    }
   ],
   "source": [
    "#python 中的字典和列表转化为JSON\n",
    "persons = [\n",
    "    {\n",
    "        'username': 'jinyuan',\n",
    "        'age': '28',\n",
    "        'country': 'China'\n",
    "    },\n",
    "    {\n",
    "        'username': 'myki',\n",
    "        'age': '18',\n",
    "        'country': 'Australia'\n",
    "    }\n",
    "]\n",
    "\n",
    "json_str = json.dumps(persons)\n",
    "print(json_str)"
   ]
  },
  {
   "cell_type": "code",
   "execution_count": 3,
   "metadata": {},
   "outputs": [],
   "source": [
    "with open('person.json', 'w') as fp:\n",
    "    fp.write(json_str)"
   ]
  },
  {
   "cell_type": "code",
   "execution_count": 11,
   "metadata": {},
   "outputs": [],
   "source": [
    "with open('person.json', 'w', encoding='utf-8') as fp:\n",
    "    json.dump(persons, fp, ensure_ascii = False)"
   ]
  },
  {
   "cell_type": "code",
   "execution_count": 12,
   "metadata": {},
   "outputs": [
    {
     "name": "stdout",
     "output_type": "stream",
     "text": [
      "{'username': 'jinyuan', 'age': '28', 'country': 'China'}\n",
      "{'username': 'myki', 'age': '18', 'country': 'Australia'}\n"
     ]
    }
   ],
   "source": [
    "#把JSON 字符串转化成python 对象\n",
    "json_str = '[{\"username\": \"jinyuan\", \"age\": \"28\", \"country\": \"China\"}, {\"username\": \"myki\", \"age\": \"18\", \"country\": \"Australia\"}]'\n",
    "\n",
    "persons = json.loads(json_str)\n",
    "for person in persons:\n",
    "    print(person)"
   ]
  },
  {
   "cell_type": "code",
   "execution_count": 14,
   "metadata": {},
   "outputs": [
    {
     "name": "stdout",
     "output_type": "stream",
     "text": [
      "{'username': 'jinyuan', 'age': '28', 'country': 'China'}\n",
      "{'username': 'myki', 'age': '18', 'country': 'Australia'}\n",
      "{'username': 'Chen', 'age': '24', 'country': 'Tas'}\n"
     ]
    }
   ],
   "source": [
    "with open('person.json', 'r') as fp:\n",
    "    persons = json.load(fp)\n",
    "    for person in persons:\n",
    "        print(person)"
   ]
  },
  {
   "cell_type": "code",
   "execution_count": null,
   "metadata": {},
   "outputs": [],
   "source": []
  }
 ],
 "metadata": {
  "kernelspec": {
   "display_name": "Python 3",
   "language": "python",
   "name": "python3"
  },
  "language_info": {
   "codemirror_mode": {
    "name": "ipython",
    "version": 3
   },
   "file_extension": ".py",
   "mimetype": "text/x-python",
   "name": "python",
   "nbconvert_exporter": "python",
   "pygments_lexer": "ipython3",
   "version": "3.7.4"
  }
 },
 "nbformat": 4,
 "nbformat_minor": 2
}
