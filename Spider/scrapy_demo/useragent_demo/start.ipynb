{
 "cells": [
  {
   "cell_type": "code",
   "execution_count": 1,
   "metadata": {},
   "outputs": [
    {
     "name": "stderr",
     "output_type": "stream",
     "text": [
      "2019-12-27 17:31:01 [scrapy.utils.log] INFO: Scrapy 1.8.0 started (bot: useragent_demo)\n",
      "2019-12-27 17:31:01 [scrapy.utils.log] INFO: Versions: lxml 4.4.1.0, libxml2 2.9.9, cssselect 1.1.0, parsel 1.5.2, w3lib 1.21.0, Twisted 19.10.0, Python 3.7.4 (default, Aug 13 2019, 15:17:50) - [Clang 4.0.1 (tags/RELEASE_401/final)], pyOpenSSL 19.0.0 (OpenSSL 1.1.1d  10 Sep 2019), cryptography 2.7, Platform Darwin-19.2.0-x86_64-i386-64bit\n",
      "2019-12-27 17:31:01 [scrapy.crawler] INFO: Overridden settings: {'BOT_NAME': 'useragent_demo', 'DOWNLOAD_DELAY': 1, 'NEWSPIDER_MODULE': 'useragent_demo.spiders', 'SPIDER_MODULES': ['useragent_demo.spiders']}\n",
      "2019-12-27 17:31:01 [scrapy.extensions.telnet] INFO: Telnet Password: 8add98253ddb4844\n",
      "2019-12-27 17:31:01 [scrapy.middleware] INFO: Enabled extensions:\n",
      "['scrapy.extensions.corestats.CoreStats',\n",
      " 'scrapy.extensions.telnet.TelnetConsole',\n",
      " 'scrapy.extensions.memusage.MemoryUsage',\n",
      " 'scrapy.extensions.logstats.LogStats']\n",
      "2019-12-27 17:31:01 [scrapy.middleware] INFO: Enabled downloader middlewares:\n",
      "['useragent_demo.middlewares.IPProxyDownloadMiddleware',\n",
      " 'scrapy.downloadermiddlewares.httpauth.HttpAuthMiddleware',\n",
      " 'scrapy.downloadermiddlewares.downloadtimeout.DownloadTimeoutMiddleware',\n",
      " 'scrapy.downloadermiddlewares.defaultheaders.DefaultHeadersMiddleware',\n",
      " 'scrapy.downloadermiddlewares.useragent.UserAgentMiddleware',\n",
      " 'useragent_demo.middlewares.UserAgentDownloadMiddleware',\n",
      " 'scrapy.downloadermiddlewares.retry.RetryMiddleware',\n",
      " 'scrapy.downloadermiddlewares.redirect.MetaRefreshMiddleware',\n",
      " 'scrapy.downloadermiddlewares.httpcompression.HttpCompressionMiddleware',\n",
      " 'scrapy.downloadermiddlewares.redirect.RedirectMiddleware',\n",
      " 'scrapy.downloadermiddlewares.cookies.CookiesMiddleware',\n",
      " 'scrapy.downloadermiddlewares.httpproxy.HttpProxyMiddleware',\n",
      " 'scrapy.downloadermiddlewares.stats.DownloaderStats']\n",
      "2019-12-27 17:31:01 [scrapy.middleware] INFO: Enabled spider middlewares:\n",
      "['scrapy.spidermiddlewares.httperror.HttpErrorMiddleware',\n",
      " 'scrapy.spidermiddlewares.offsite.OffsiteMiddleware',\n",
      " 'scrapy.spidermiddlewares.referer.RefererMiddleware',\n",
      " 'scrapy.spidermiddlewares.urllength.UrlLengthMiddleware',\n",
      " 'scrapy.spidermiddlewares.depth.DepthMiddleware']\n",
      "2019-12-27 17:31:01 [scrapy.middleware] INFO: Enabled item pipelines:\n",
      "[]\n",
      "2019-12-27 17:31:01 [scrapy.core.engine] INFO: Spider opened\n",
      "2019-12-27 17:31:01 [scrapy.extensions.logstats] INFO: Crawled 0 pages (at 0 pages/min), scraped 0 items (at 0 items/min)\n",
      "2019-12-27 17:31:01 [scrapy.extensions.telnet] INFO: Telnet console listening on 127.0.0.1:6023\n",
      "2019-12-27 17:31:02 [scrapy.core.scraper] ERROR: Error downloading <GET http://httpbin.org/ip>\n",
      "Traceback (most recent call last):\n",
      "  File \"/opt/anaconda3/lib/python3.7/site-packages/twisted/internet/defer.py\", line 1416, in _inlineCallbacks\n",
      "    result = result.throwExceptionIntoGenerator(g)\n",
      "  File \"/opt/anaconda3/lib/python3.7/site-packages/twisted/python/failure.py\", line 512, in throwExceptionIntoGenerator\n",
      "    return g.throw(self.type, self.value, self.tb)\n",
      "  File \"/opt/anaconda3/lib/python3.7/site-packages/scrapy/core/downloader/middleware.py\", line 44, in process_request\n",
      "    defer.returnValue((yield download_func(request=request, spider=spider)))\n",
      "  File \"/opt/anaconda3/lib/python3.7/site-packages/scrapy/utils/defer.py\", line 45, in mustbe_deferred\n",
      "    result = f(*args, **kw)\n",
      "  File \"/opt/anaconda3/lib/python3.7/site-packages/scrapy/core/downloader/handlers/__init__.py\", line 71, in download_request\n",
      "    return handler.download_request(request, spider)\n",
      "  File \"/opt/anaconda3/lib/python3.7/site-packages/scrapy/core/downloader/handlers/http11.py\", line 75, in download_request\n",
      "    return agent.download_request(request)\n",
      "  File \"/opt/anaconda3/lib/python3.7/site-packages/scrapy/core/downloader/handlers/http11.py\", line 345, in download_request\n",
      "    d = agent.request(method, to_bytes(url, encoding='ascii'), headers, bodyproducer)\n",
      "  File \"/opt/anaconda3/lib/python3.7/site-packages/scrapy/core/downloader/handlers/http11.py\", line 254, in request\n",
      "    endpoint=self._getEndpoint(self._proxyURI),\n",
      "  File \"/opt/anaconda3/lib/python3.7/site-packages/twisted/web/client.py\", line 1721, in _getEndpoint\n",
      "    return self._endpointFactory.endpointForURI(uri)\n",
      "  File \"/opt/anaconda3/lib/python3.7/site-packages/twisted/web/client.py\", line 1599, in endpointForURI\n",
      "    raise SchemeNotSupported(\"Unsupported scheme: %r\" % (uri.scheme,))\n",
      "twisted.web.error.SchemeNotSupported: Unsupported scheme: b''\n",
      "2019-12-27 17:31:02 [scrapy.core.engine] INFO: Closing spider (finished)\n",
      "2019-12-27 17:31:02 [scrapy.statscollectors] INFO: Dumping Scrapy stats:\n",
      "{'downloader/exception_count': 1,\n",
      " 'downloader/exception_type_count/twisted.web.error.SchemeNotSupported': 1,\n",
      " 'downloader/request_bytes': 299,\n",
      " 'downloader/request_count': 1,\n",
      " 'downloader/request_method_count/GET': 1,\n",
      " 'elapsed_time_seconds': 0.324371,\n",
      " 'finish_reason': 'finished',\n",
      " 'finish_time': datetime.datetime(2019, 12, 27, 6, 31, 2, 111579),\n",
      " 'log_count/ERROR': 1,\n",
      " 'log_count/INFO': 10,\n",
      " 'memusage/max': 80650240,\n",
      " 'memusage/startup': 80650240,\n",
      " 'scheduler/dequeued': 1,\n",
      " 'scheduler/dequeued/memory': 1,\n",
      " 'scheduler/enqueued': 1,\n",
      " 'scheduler/enqueued/memory': 1,\n",
      " 'start_time': datetime.datetime(2019, 12, 27, 6, 31, 1, 787208)}\n",
      "2019-12-27 17:31:02 [scrapy.core.engine] INFO: Spider closed (finished)\n"
     ]
    },
    {
     "ename": "SystemExit",
     "evalue": "0",
     "output_type": "error",
     "traceback": [
      "An exception has occurred, use %tb to see the full traceback.\n",
      "\u001b[0;31mSystemExit\u001b[0m\u001b[0;31m:\u001b[0m 0\n"
     ]
    },
    {
     "name": "stderr",
     "output_type": "stream",
     "text": [
      "2019-12-27 17:31:02 [py.warnings] WARNING: /opt/anaconda3/lib/python3.7/site-packages/IPython/core/interactiveshell.py:3334: UserWarning: To exit: use 'exit', 'quit', or Ctrl-D.\n",
      "  warn(\"To exit: use 'exit', 'quit', or Ctrl-D.\", stacklevel=1)\n",
      "\n"
     ]
    }
   ],
   "source": [
    "from scrapy import cmdline\n",
    "\n",
    "cmdline.execute(\"scrapy crawl ipproxy\".split())\n"
   ]
  },
  {
   "cell_type": "code",
   "execution_count": null,
   "metadata": {},
   "outputs": [],
   "source": []
  }
 ],
 "metadata": {
  "kernelspec": {
   "display_name": "Python 3",
   "language": "python",
   "name": "python3"
  },
  "language_info": {
   "codemirror_mode": {
    "name": "ipython",
    "version": 3
   },
   "file_extension": ".py",
   "mimetype": "text/x-python",
   "name": "python",
   "nbconvert_exporter": "python",
   "pygments_lexer": "ipython3",
   "version": "3.7.4"
  }
 },
 "nbformat": 4,
 "nbformat_minor": 2
}
