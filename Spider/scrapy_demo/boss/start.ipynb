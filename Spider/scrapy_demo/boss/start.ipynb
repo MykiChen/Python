{
 "cells": [
  {
   "cell_type": "code",
   "execution_count": 1,
   "metadata": {},
   "outputs": [
    {
     "name": "stderr",
     "output_type": "stream",
     "text": [
      "2019-12-27 20:23:22 [scrapy.utils.log] INFO: Scrapy 1.8.0 started (bot: boss)\n",
      "2019-12-27 20:23:22 [scrapy.utils.log] INFO: Versions: lxml 4.4.1.0, libxml2 2.9.9, cssselect 1.1.0, parsel 1.5.2, w3lib 1.21.0, Twisted 19.10.0, Python 3.7.4 (default, Aug 13 2019, 15:17:50) - [Clang 4.0.1 (tags/RELEASE_401/final)], pyOpenSSL 19.0.0 (OpenSSL 1.1.1d  10 Sep 2019), cryptography 2.7, Platform Darwin-19.2.0-x86_64-i386-64bit\n",
      "2019-12-27 20:23:22 [scrapy.crawler] INFO: Overridden settings: {'BOT_NAME': 'boss', 'NEWSPIDER_MODULE': 'boss.spiders', 'SPIDER_MODULES': ['boss.spiders']}\n",
      "2019-12-27 20:23:22 [scrapy.extensions.telnet] INFO: Telnet Password: f26cb8f281460f9c\n",
      "2019-12-27 20:23:22 [scrapy.middleware] INFO: Enabled extensions:\n",
      "['scrapy.extensions.corestats.CoreStats',\n",
      " 'scrapy.extensions.telnet.TelnetConsole',\n",
      " 'scrapy.extensions.memusage.MemoryUsage',\n",
      " 'scrapy.extensions.logstats.LogStats']\n",
      "2019-12-27 20:23:22 [scrapy.middleware] INFO: Enabled downloader middlewares:\n",
      "['boss.middlewares.UserAgentDownloadMiddleware',\n",
      " 'boss.middlewares.IPProxyDownloadMiddleware',\n",
      " 'scrapy.downloadermiddlewares.httpauth.HttpAuthMiddleware',\n",
      " 'scrapy.downloadermiddlewares.downloadtimeout.DownloadTimeoutMiddleware',\n",
      " 'scrapy.downloadermiddlewares.defaultheaders.DefaultHeadersMiddleware',\n",
      " 'scrapy.downloadermiddlewares.useragent.UserAgentMiddleware',\n",
      " 'scrapy.downloadermiddlewares.retry.RetryMiddleware',\n",
      " 'scrapy.downloadermiddlewares.redirect.MetaRefreshMiddleware',\n",
      " 'scrapy.downloadermiddlewares.httpcompression.HttpCompressionMiddleware',\n",
      " 'scrapy.downloadermiddlewares.redirect.RedirectMiddleware',\n",
      " 'scrapy.downloadermiddlewares.cookies.CookiesMiddleware',\n",
      " 'scrapy.downloadermiddlewares.httpproxy.HttpProxyMiddleware',\n",
      " 'scrapy.downloadermiddlewares.stats.DownloaderStats']\n",
      "2019-12-27 20:23:22 [scrapy.middleware] INFO: Enabled spider middlewares:\n",
      "['scrapy.spidermiddlewares.httperror.HttpErrorMiddleware',\n",
      " 'scrapy.spidermiddlewares.offsite.OffsiteMiddleware',\n",
      " 'scrapy.spidermiddlewares.referer.RefererMiddleware',\n",
      " 'scrapy.spidermiddlewares.urllength.UrlLengthMiddleware',\n",
      " 'scrapy.spidermiddlewares.depth.DepthMiddleware']\n",
      "2019-12-27 20:23:22 [scrapy.middleware] INFO: Enabled item pipelines:\n",
      "['boss.pipelines.BossPipeline']\n",
      "2019-12-27 20:23:22 [scrapy.core.engine] INFO: Spider opened\n",
      "2019-12-27 20:23:22 [scrapy.extensions.logstats] INFO: Crawled 0 pages (at 0 pages/min), scraped 0 items (at 0 items/min)\n",
      "2019-12-27 20:23:22 [scrapy.extensions.telnet] INFO: Telnet console listening on 127.0.0.1:6024\n",
      "2019-12-27 20:24:22 [scrapy.extensions.logstats] INFO: Crawled 0 pages (at 0 pages/min), scraped 0 items (at 0 items/min)\n",
      "2019-12-27 20:24:37 [scrapy.downloadermiddlewares.retry] DEBUG: Retrying <GET https://www.zhipin.com/c101010100/?query=python&page=1> (failed 1 times): TCP connection timed out: 60: Operation timed out.\n",
      "2019-12-27 20:25:22 [scrapy.extensions.logstats] INFO: Crawled 0 pages (at 0 pages/min), scraped 0 items (at 0 items/min)\n",
      "2019-12-27 20:25:52 [scrapy.downloadermiddlewares.retry] DEBUG: Retrying <GET https://www.zhipin.com/c101010100/?query=python&page=1> (failed 2 times): TCP connection timed out: 60: Operation timed out.\n",
      "2019-12-27 20:26:22 [scrapy.extensions.logstats] INFO: Crawled 0 pages (at 0 pages/min), scraped 0 items (at 0 items/min)\n",
      "2019-12-27 20:27:07 [scrapy.downloadermiddlewares.retry] DEBUG: Gave up retrying <GET https://www.zhipin.com/c101010100/?query=python&page=1> (failed 3 times): TCP connection timed out: 60: Operation timed out.\n",
      "2019-12-27 20:27:07 [scrapy.core.scraper] ERROR: Error downloading <GET https://www.zhipin.com/c101010100/?query=python&page=1>\n",
      "Traceback (most recent call last):\n",
      "  File \"/opt/anaconda3/lib/python3.7/site-packages/scrapy/core/downloader/middleware.py\", line 44, in process_request\n",
      "    defer.returnValue((yield download_func(request=request, spider=spider)))\n",
      "twisted.internet.error.TCPTimedOutError: TCP connection timed out: 60: Operation timed out.\n",
      "2019-12-27 20:27:07 [scrapy.core.engine] INFO: Closing spider (finished)\n",
      "2019-12-27 20:27:07 [scrapy.statscollectors] INFO: Dumping Scrapy stats:\n",
      "{'downloader/exception_count': 3,\n",
      " 'downloader/exception_type_count/twisted.internet.error.TCPTimedOutError': 3,\n",
      " 'downloader/request_bytes': 971,\n",
      " 'downloader/request_count': 3,\n",
      " 'downloader/request_method_count/GET': 3,\n",
      " 'elapsed_time_seconds': 225.76973,\n",
      " 'finish_reason': 'finished',\n",
      " 'finish_time': datetime.datetime(2019, 12, 27, 9, 27, 7, 933314),\n",
      " 'log_count/DEBUG': 3,\n",
      " 'log_count/ERROR': 1,\n",
      " 'log_count/INFO': 13,\n",
      " 'memusage/max': 85491712,\n",
      " 'memusage/startup': 85073920,\n",
      " 'retry/count': 2,\n",
      " 'retry/max_reached': 1,\n",
      " 'retry/reason_count/twisted.internet.error.TCPTimedOutError': 2,\n",
      " 'scheduler/dequeued': 3,\n",
      " 'scheduler/dequeued/memory': 3,\n",
      " 'scheduler/enqueued': 3,\n",
      " 'scheduler/enqueued/memory': 3,\n",
      " 'start_time': datetime.datetime(2019, 12, 27, 9, 23, 22, 163584)}\n",
      "2019-12-27 20:27:07 [scrapy.core.engine] INFO: Spider closed (finished)\n"
     ]
    },
    {
     "ename": "SystemExit",
     "evalue": "0",
     "output_type": "error",
     "traceback": [
      "An exception has occurred, use %tb to see the full traceback.\n",
      "\u001b[0;31mSystemExit\u001b[0m\u001b[0;31m:\u001b[0m 0\n"
     ]
    },
    {
     "name": "stderr",
     "output_type": "stream",
     "text": [
      "2019-12-27 20:27:07 [py.warnings] WARNING: /opt/anaconda3/lib/python3.7/site-packages/IPython/core/interactiveshell.py:3334: UserWarning: To exit: use 'exit', 'quit', or Ctrl-D.\n",
      "  warn(\"To exit: use 'exit', 'quit', or Ctrl-D.\", stacklevel=1)\n",
      "\n"
     ]
    }
   ],
   "source": [
    "from scrapy import cmdline\n",
    "\n",
    "cmdline.execute(\"scrapy crawl zhipin\".split())"
   ]
  },
  {
   "cell_type": "code",
   "execution_count": null,
   "metadata": {},
   "outputs": [],
   "source": [
    "%tb\n"
   ]
  },
  {
   "cell_type": "code",
   "execution_count": null,
   "metadata": {},
   "outputs": [],
   "source": []
  }
 ],
 "metadata": {
  "kernelspec": {
   "display_name": "Python 3",
   "language": "python",
   "name": "python3"
  },
  "language_info": {
   "codemirror_mode": {
    "name": "ipython",
    "version": 3
   },
   "file_extension": ".py",
   "mimetype": "text/x-python",
   "name": "python",
   "nbconvert_exporter": "python",
   "pygments_lexer": "ipython3",
   "version": "3.7.4"
  }
 },
 "nbformat": 4,
 "nbformat_minor": 2
}
