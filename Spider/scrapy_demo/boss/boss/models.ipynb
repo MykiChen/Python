{
 "cells": [
  {
   "cell_type": "code",
   "execution_count": null,
   "metadata": {},
   "outputs": [],
   "source": [
    "from datetime import datetime, timedelta\n",
    "\n",
    "class ProxyModel(object):\n",
    "    def __init__(self, data):\n",
    "        self.ip = data['ip']\n",
    "        self.port = data['port']\n",
    "        self.expire_str = data['expire_time']\n",
    "        \n",
    "        date_str, time_str = self.expire_str.split(\" \")\n",
    "        year, month, day = date_str.split(\"-\")\n",
    "        hour, minute, second = time_str.split(\"_\")\n",
    "        self.expire_time = datetime(year = int(year), month=int(month), day = int(day), hour=int(hour), \n",
    "                             minute=int(minute), second=int(second))\n",
    "        \n",
    "        #https://ip:port\n",
    "        self.proxy = \"https://{}:{}\".format(self.ip, self.port)\n",
    "    \n",
    "    @property\n",
    "    def is_expiring(self):\n",
    "        now = datetime.now()\n",
    "        if (now-self.expire_time) < timedelta(seconds = 5):\n",
    "            return True\n",
    "        else:\n",
    "            return False"
   ]
  }
 ],
 "metadata": {
  "kernelspec": {
   "display_name": "Python 3",
   "language": "python",
   "name": "python3"
  },
  "language_info": {
   "codemirror_mode": {
    "name": "ipython",
    "version": 3
   },
   "file_extension": ".py",
   "mimetype": "text/x-python",
   "name": "python",
   "nbconvert_exporter": "python",
   "pygments_lexer": "ipython3",
   "version": "3.7.4"
  }
 },
 "nbformat": 4,
 "nbformat_minor": 2
}
