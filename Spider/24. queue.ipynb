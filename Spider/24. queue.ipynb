{
 "cells": [
  {
   "cell_type": "code",
   "execution_count": 1,
   "metadata": {},
   "outputs": [],
   "source": [
    "from queue import Queue\n",
    "import threading\n",
    "import time"
   ]
  },
  {
   "cell_type": "code",
   "execution_count": null,
   "metadata": {},
   "outputs": [],
   "source": [
    "q = Queue(4)\n",
    "q.put(1)\n",
    "q.put(2)\n",
    "q.put(3)\n",
    "\n",
    "print(q.qsize())"
   ]
  },
  {
   "cell_type": "code",
   "execution_count": 5,
   "metadata": {},
   "outputs": [
    {
     "name": "stdout",
     "output_type": "stream",
     "text": [
      "0\n",
      "4\n",
      "98\n",
      "1\n",
      "5\n",
      "99\n",
      "2\n"
     ]
    }
   ],
   "source": [
    "def set_value(q):\n",
    "    index = 0\n",
    "    while True:\n",
    "        q.put(index)\n",
    "        index += 1\n",
    "        time.sleep(3)\n",
    "        \n",
    "def get_value(q):\n",
    "    while True:\n",
    "        print(q.get())\n",
    "        \n",
    "def main():\n",
    "    q = Queue(4)\n",
    "    t1 = threading.Thread(target = set_value, args=[q])\n",
    "    t2 = threading.Thread(target = get_value, args=[q])\n",
    "    \n",
    "    t1.start()\n",
    "    t2.start()\n",
    "    \n",
    "if __name__ == '__main__':\n",
    "    main()"
   ]
  },
  {
   "cell_type": "code",
   "execution_count": null,
   "metadata": {},
   "outputs": [],
   "source": []
  }
 ],
 "metadata": {
  "kernelspec": {
   "display_name": "Python 3",
   "language": "python",
   "name": "python3"
  },
  "language_info": {
   "codemirror_mode": {
    "name": "ipython",
    "version": 3
   },
   "file_extension": ".py",
   "mimetype": "text/x-python",
   "name": "python",
   "nbconvert_exporter": "python",
   "pygments_lexer": "ipython3",
   "version": "3.7.4"
  }
 },
 "nbformat": 4,
 "nbformat_minor": 2
}
