{
 "cells": [
  {
   "cell_type": "code",
   "execution_count": 1,
   "metadata": {},
   "outputs": [],
   "source": [
    "from urllib import request\n",
    "from urllib import parse\n",
    "import tensorflow"
   ]
  },
  {
   "cell_type": "code",
   "execution_count": 33,
   "metadata": {},
   "outputs": [
    {
     "data": {
      "text/plain": [
       "('baidu2.html', <http.client.HTTPMessage at 0x1114db5d0>)"
      ]
     },
     "execution_count": 33,
     "metadata": {},
     "output_type": "execute_result"
    }
   ],
   "source": [
    "request.urlretrieve('http://www.baidu.com/', 'baidu2.html')"
   ]
  },
  {
   "cell_type": "code",
   "execution_count": 34,
   "metadata": {},
   "outputs": [
    {
     "data": {
      "text/plain": [
       "('python.jpg', <http.client.HTTPMessage at 0x11311d050>)"
      ]
     },
     "execution_count": 34,
     "metadata": {},
     "output_type": "execute_result"
    }
   ],
   "source": [
    "request.urlretrieve('https://timgsa.baidu.com/timg?image&quality=80&size=b9999_10000&sec=1577155976&di=b41cddb9b5b59a8a889b89248ea19651&imgtype=jpg&er=1&src=http%3A%2F%2Fpmo17349e.pic35.websiteonline.cn%2Fupload%2Fv2-741e1197d95dade786ae02a9d37f93f3_1200x500.jpg', 'python.jpg')"
   ]
  },
  {
   "cell_type": "code",
   "execution_count": 44,
   "metadata": {},
   "outputs": [
    {
     "name": "stdout",
     "output_type": "stream",
     "text": [
      "name=%E5%BC%A0%E4%B8%89&age=18&greet=hello+world\n"
     ]
    }
   ],
   "source": [
    "params = {'name':'张三', 'age':18,'greet':'hello world'}\n",
    "result = parse.urlencode(params)\n",
    "print(result)"
   ]
  },
  {
   "cell_type": "code",
   "execution_count": 91,
   "metadata": {},
   "outputs": [],
   "source": [
    "url = 'https://www.baidu.com/s'\n",
    "params = {'wd':'网络爬虫'}\n",
    "qs = parse.urlencode(params)\n",
    "url = url + '?' + qs\n",
    "reqs = request.urlopen(url)\n",
    "#reqs.read()"
   ]
  },
  {
   "cell_type": "code",
   "execution_count": 70,
   "metadata": {},
   "outputs": [
    {
     "name": "stdout",
     "output_type": "stream",
     "text": [
      "name=%E5%BC%A0%E4%B8%89&age=18&greet=hello+world\n",
      "{'name': ['张三'], 'age': ['18'], 'greet': ['hello world']}\n"
     ]
    }
   ],
   "source": [
    "params = {'name':'张三', 'age':18, 'greet':'hello world'}\n",
    "qs = parse.urlencode(params)\n",
    "print(qs)\n",
    "result = parse.parse_qs(qs)\n",
    "print(result)"
   ]
  },
  {
   "cell_type": "code",
   "execution_count": 88,
   "metadata": {},
   "outputs": [
    {
     "name": "stdout",
     "output_type": "stream",
     "text": [
      "scheme: https\n",
      "path: /s\n",
      "netloc: www.baidu.com\n",
      "params: \n"
     ]
    }
   ],
   "source": [
    "url = 'https://www.baidu.com/s?ie=utf-8&f=8&rsv_bp=1&tn=baidu&wd=python&oq=%25E7%25BD%2591%25E7%25BB%259C%25E7%2588%25AC%25E8%2599%25AB&rsv_pq=b05e7fe80001519a&rsv_t=6adeJ5tTJ2lyuKc%2FLLDcFll3nC3DLzwU%2FK6KBGFTr%2FmhZKK7Dm1ktsvc7fI&rqlang=cn&rsv_enter=0&rsv_dl=tb&rsv_sug3=12&rsv_sug1=3&rsv_sug7=100&rsv_sug2=0&inputT=5066&rsv_sug4=6071&rsv_sug=1'\n",
    "result = parse.urlparse(url)\n",
    "#print(result)\n",
    "print('scheme:', result.scheme) \n",
    "print('path:', result.path)\n",
    "print('netloc:', result.netloc)\n",
    "#only urlparams() function has params.\n",
    "print('params:', result.params)"
   ]
  },
  {
   "cell_type": "code",
   "execution_count": 89,
   "metadata": {},
   "outputs": [],
   "source": [
    "from urllib import request"
   ]
  },
  {
   "cell_type": "code",
   "execution_count": 92,
   "metadata": {},
   "outputs": [],
   "source": [
    "MyHeaders = {\n",
    "    'User-Agent':'\"Mozilla/5.0 (Macintosh; Intel Mac OS X 10_9_2) AppleWebKit/537.36 (KHTML, like Gecko) Chrome/35.0.1916.153 Safari/537.36'\n",
    "}\n",
    "req = request.Request('http://www.baidu.com/',headers = MyHeaders)\n",
    "resq = request.urlopen(req)\n",
    "#print(resq.read())"
   ]
  },
  {
   "cell_type": "code",
   "execution_count": 132,
   "metadata": {},
   "outputs": [
    {
     "name": "stdout",
     "output_type": "stream",
     "text": [
      "{\"status\":false,\"msg\":\"您操作太频繁,请稍后再访问\",\"clientIp\":\"131.217.255.200\",\"state\":2402}\n",
      "\n"
     ]
    }
   ],
   "source": [
    "#url = ' https://www.lagou.com/jobs/list_python?labelWords=&fromSearch=true&suginput='\n",
    "url = 'https://www.lagou.com/jobs/positionAjax.json?px=default&city=%E6%B7%B1%E5%9C%B3&needAddtionalResult=false'\n",
    "\n",
    "MyHeaders = {\n",
    "    'User-Agent': 'Mozilla/5.0 (Macintosh; Intel Mac OS X 10_15_2) AppleWebKit/537.36 (KHTML, like Gecko) Chrome/79.0.3945.79 Safari/537.36',\n",
    "    'Referer': 'https://www.lagou.com/jobs/list_python/p-city_215?px=default'\n",
    "}\n",
    "\n",
    "data = {\n",
    "    'first': 'true',\n",
    "    'pn': '1',\n",
    "    'kd': 'python'\n",
    "}\n",
    "\n",
    "req = request.Request(url, headers=MyHeaders, data = parse.urlencode(data).encode('utf-8'), method = 'POST')\n",
    "resp = request.urlopen(req)\n",
    "print(resp.read().decode('utf-8'))"
   ]
  },
  {
   "cell_type": "code",
   "execution_count": null,
   "metadata": {},
   "outputs": [],
   "source": []
  }
 ],
 "metadata": {
  "kernelspec": {
   "display_name": "Python 3",
   "language": "python",
   "name": "python3"
  },
  "language_info": {
   "codemirror_mode": {
    "name": "ipython",
    "version": 3
   },
   "file_extension": ".py",
   "mimetype": "text/x-python",
   "name": "python",
   "nbconvert_exporter": "python",
   "pygments_lexer": "ipython3",
   "version": "3.7.4"
  }
 },
 "nbformat": 4,
 "nbformat_minor": 2
}
