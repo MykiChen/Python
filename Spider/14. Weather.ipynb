{
 "cells": [
  {
   "cell_type": "code",
   "execution_count": 2,
   "metadata": {},
   "outputs": [],
   "source": [
    "from bs4 import BeautifulSoup\n",
    "import requests\n",
    "from pyecharts import Bar"
   ]
  },
  {
   "cell_type": "code",
   "execution_count": 16,
   "metadata": {},
   "outputs": [],
   "source": [
    "ALL_DATA = []\n",
    "\n",
    "def parse_page(url):\n",
    "    headers = {\n",
    "        'User-Agent': 'Mozilla/5.0 (Macintosh; Intel Mac OS X 10_15_2) AppleWebKit/537.36 (KHTML, like Gecko) Chrome/79.0.3945.88 Safari/537.36'\n",
    "    }\n",
    "    \n",
    "    response = requests.get(url, headers=headers)\n",
    "    text = response.content.decode('utf-8')\n",
    "    soup = BeautifulSoup(text, 'html5lib')\n",
    "    conMidtab = soup.find('div', class_='conMidtab')\n",
    "    tables = conMidtab.find_all('table')\n",
    "    \n",
    "    for table in tables:\n",
    "        trs = table.find_all('tr')[2:]\n",
    "        for tr in trs:\n",
    "            tds = tr.find_all('td')\n",
    "            city_td = tds[-8]\n",
    "            city = list(city_td.stripped_strings)[0]\n",
    "            temp2_td = tds[-5]\n",
    "            max_temp = list(temp2_td.stripped_strings)[0]\n",
    "            temp_td = tds[-2]\n",
    "            min_temp = list(temp_td.stripped_strings)[0]\n",
    "            ALL_DATA.append({'City': city, 'Min_temp': int(min_temp), 'Max_temp': max_temp})\n",
    "            #print({'City': city, 'Min_temp': int(min_temp), 'Max_temp': max_temp})\n",
    "        \n",
    "def main():\n",
    "    more_city = {'hb', 'db', 'hd', 'hz', 'hn', 'xb', 'xn', 'gat'}\n",
    "    base_url = 'http://www.weather.com.cn/textFC/{}.shtml#'\n",
    "    \n",
    "    for i in more_city:\n",
    "        url = base_url.format(i)\n",
    "        parse_page(url)\n",
    "    \n",
    "    #url='http://www.weather.com.cn/textFC/hb.shtml#'\n",
    "    #parse_page(url)\n",
    "    \n",
    "    ALL_DATA.sort(key=lambda data:data['Min_temp'])\n",
    "    data = ALL_DATA[0:20]\n",
    "        \n",
    "    cities = list(map(lambda x:x['City'], data))    \n",
    "    temps = list(map(lambda x:x['Min_temp'], data))\n",
    "    chart = Bar('Temperatures')    \n",
    "    chart.add('City', cities, temps)\n",
    "    chart.render('temperature.html')\n",
    "\n",
    "if __name__ == '__main__':\n",
    "    main()\n"
   ]
  },
  {
   "cell_type": "code",
   "execution_count": 7,
   "metadata": {},
   "outputs": [],
   "source": [
    "#设置行名\n",
    "columns = [\"Jan\", \"Feb\", \"Mar\", \"Apr\", \"May\", \"Jun\", \"Jul\", \"Aug\", \"Sep\", \"Oct\", \"Nov\", \"Dec\"]\n",
    "#设置数据\n",
    "data1 = [2.0, 4.9, 7.0, 23.2, 25.6, 76.7, 135.6, 162.2, 32.6, 20.0, 6.4, 3.3]\n",
    "data2 = [2.6, 5.9, 9.0, 26.4, 28.7, 70.7, 175.6, 182.2, 48.7, 18.8, 6.0, 2.3]\n",
    "#设置柱状图的主标题与副标题\n",
    "bar = Bar(\"一年的降水量与蒸发量\")\n",
    "#添加柱状图的数据及配置项\n",
    "bar.add(\"降水量\", columns, data1, mark_line=[\"average\"], mark_point=[\"max\", \"min\"])\n",
    "bar.add(\"蒸发量\", columns, data2, mark_line=[\"average\"], mark_point=[\"max\", \"min\"])\n",
    "#成本地文件（默认为.html文件）\n",
    "bar.render()"
   ]
  },
  {
   "cell_type": "code",
   "execution_count": 6,
   "metadata": {},
   "outputs": [],
   "source": [
    "from pyecharts import Pie\n",
    "\n",
    "pie = Pie('Pie Chart')\n",
    "\n",
    "pie.add(\"降水量\", columns, data1 ,center=[25,50],is_legend_show=False)\n",
    "\n",
    "pie.add(\"蒸发量\", columns, data2 ,center=[75,50],is_legend_show=False,is_label_show=True)\n",
    "\n",
    "pie.render()"
   ]
  },
  {
   "cell_type": "code",
   "execution_count": 14,
   "metadata": {},
   "outputs": [],
   "source": []
  },
  {
   "cell_type": "code",
   "execution_count": null,
   "metadata": {},
   "outputs": [],
   "source": []
  }
 ],
 "metadata": {
  "kernelspec": {
   "display_name": "Python 3",
   "language": "python",
   "name": "python3"
  },
  "language_info": {
   "codemirror_mode": {
    "name": "ipython",
    "version": 3
   },
   "file_extension": ".py",
   "mimetype": "text/x-python",
   "name": "python",
   "nbconvert_exporter": "python",
   "pygments_lexer": "ipython3",
   "version": "3.7.4"
  }
 },
 "nbformat": 4,
 "nbformat_minor": 2
}
