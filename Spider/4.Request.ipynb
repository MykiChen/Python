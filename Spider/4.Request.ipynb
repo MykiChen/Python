{
 "cells": [
  {
   "cell_type": "code",
   "execution_count": 3,
   "metadata": {},
   "outputs": [],
   "source": [
    "import requests"
   ]
  },
  {
   "cell_type": "code",
   "execution_count": 12,
   "metadata": {},
   "outputs": [
    {
     "name": "stdout",
     "output_type": "stream",
     "text": [
      "<class 'bytes'>\n"
     ]
    }
   ],
   "source": [
    "response = requests.get('https://www.baidu.com/')\n",
    "#print(type(response.text))\n",
    "#print(response.text)\n",
    "\n",
    "print(type(response.content))\n",
    "#print(response.content.decode('utf-8'))"
   ]
  },
  {
   "cell_type": "code",
   "execution_count": 15,
   "metadata": {},
   "outputs": [
    {
     "name": "stdout",
     "output_type": "stream",
     "text": [
      "https://www.baidu.com/\n",
      "ISO-8859-1\n",
      "200\n"
     ]
    }
   ],
   "source": [
    "print(response.url)\n",
    "print(response.encoding)\n",
    "print(response.status_code)"
   ]
  },
  {
   "cell_type": "code",
   "execution_count": 18,
   "metadata": {},
   "outputs": [
    {
     "name": "stdout",
     "output_type": "stream",
     "text": [
      "https://wappass.baidu.com/static/captcha/tuxing.html?&ak=c27bbc89afca0463650ac9bde68ebe06&backurl=https%3A%2F%2Fwww.baidu.com%2Fs%3Fwd%3D%25E4%25B8%25AD%25E5%259B%25BD&logid=10525986051838183938&signature=c640093053399430186f1f4027a4756a&timestamp=1576586092\n"
     ]
    }
   ],
   "source": [
    "#get\n",
    "params = {\n",
    "    'wd':'中国'\n",
    "}\n",
    "headers = {\n",
    "    'User-Agent': 'Mozilla/5.0 (Macintosh; Intel Mac OS X 10_15_2) AppleWebKit/537.36 (KHTML, like Gecko) Chrome/79.0.3945.79 Safari/537.36'\n",
    "}\n",
    "\n",
    "response = requests.get('https://www.baidu.com/s', params=params, headers=headers)\n",
    "\n",
    "with open('baidu.html', 'w', encoding='utf-8') as fp:\n",
    "    fp.write(response.content.decode('utf-8'))\n",
    "    \n",
    "print(response.url)"
   ]
  },
  {
   "cell_type": "code",
   "execution_count": 35,
   "metadata": {},
   "outputs": [
    {
     "name": "stdout",
     "output_type": "stream",
     "text": [
      "{'status': False, 'msg': '您操作太频繁,请稍后再访问', 'clientIp': '131.217.255.200', 'state': 2402}\n",
      "{\"status\":false,\"msg\":\"您操作太频繁,请稍后再访问\",\"clientIp\":\"131.217.255.200\",\"state\":2402}\n",
      "\n"
     ]
    }
   ],
   "source": [
    "#post\n",
    "\n",
    "data = {\n",
    "    'first':'true',\n",
    "    'pn':'1',\n",
    "    'kd':'python'\n",
    "}\n",
    "headers = {\n",
    "    'Referer': 'https://www.lagou.com/jobs/list_python?labelWords=&fromSearch=true&suginput=',\n",
    "    'User-Agent': 'Mozilla/5.0 (Macintosh; Intel Mac OS X 10_15_2) AppleWebKit/537.36 (KHTML, like Gecko) Chrome/79.0.3945.79 Safari/537.36',\n",
    "}\n",
    "response = requests.post('https://www.lagou.com/jobs/positionAjax.json?needAddtionalResult=false', data=data, headers=headers)\n",
    "\n",
    "print(response.text)"
   ]
  },
  {
   "cell_type": "code",
   "execution_count": null,
   "metadata": {},
   "outputs": [],
   "source": []
  }
 ],
 "metadata": {
  "kernelspec": {
   "display_name": "Python 3",
   "language": "python",
   "name": "python3"
  },
  "language_info": {
   "codemirror_mode": {
    "name": "ipython",
    "version": 3
   },
   "file_extension": ".py",
   "mimetype": "text/x-python",
   "name": "python",
   "nbconvert_exporter": "python",
   "pygments_lexer": "ipython3",
   "version": "3.7.4"
  }
 },
 "nbformat": 4,
 "nbformat_minor": 2
}
