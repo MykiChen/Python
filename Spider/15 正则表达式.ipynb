{
 "cells": [
  {
   "cell_type": "code",
   "execution_count": 4,
   "metadata": {},
   "outputs": [],
   "source": [
    "import re"
   ]
  },
  {
   "cell_type": "code",
   "execution_count": 9,
   "metadata": {},
   "outputs": [
    {
     "name": "stdout",
     "output_type": "stream",
     "text": [
      "1\n"
     ]
    }
   ],
   "source": [
    "text = \"1asldfj\"\n",
    "ret = re.match('\\d', text)\n",
    "print(ret.group())"
   ]
  },
  {
   "cell_type": "markdown",
   "metadata": {},
   "source": [
    "text = '0412-81750422*23'\n",
    "ret = re.match('[\\d\\-]+', text)\n",
    "print(ret.group())"
   ]
  },
  {
   "cell_type": "code",
   "execution_count": 39,
   "metadata": {},
   "outputs": [
    {
     "name": "stdout",
     "output_type": "stream",
     "text": [
      "0412-81750422\n"
     ]
    }
   ],
   "source": [
    "text = '0412-81750422*23'\n",
    "ret = re.match('[\\d\\-]+', text)\n",
    "print(ret.group())"
   ]
  },
  {
   "cell_type": "code",
   "execution_count": 53,
   "metadata": {},
   "outputs": [
    {
     "name": "stdout",
     "output_type": "stream",
     "text": [
      "0412\n"
     ]
    }
   ],
   "source": [
    "ret = re.match('\\w{3,8}', text)\n",
    "print(ret.group())"
   ]
  },
  {
   "cell_type": "code",
   "execution_count": 55,
   "metadata": {},
   "outputs": [
    {
     "name": "stdout",
     "output_type": "stream",
     "text": [
      "18352352342\n"
     ]
    }
   ],
   "source": [
    "text = '18352352342'\n",
    "ret = re.match('1[34578]\\d{9}', text)\n",
    "print(ret.group())\n"
   ]
  },
  {
   "cell_type": "code",
   "execution_count": 61,
   "metadata": {},
   "outputs": [
    {
     "name": "stdout",
     "output_type": "stream",
     "text": [
      "2l2kjk@gmail.com\n"
     ]
    }
   ],
   "source": [
    "text='2l2kjk@gmail.com'\n",
    "ret = re.match('\\w+@[a-z0-9]+\\.[a-z]+', text)\n",
    "print(ret.group())"
   ]
  },
  {
   "cell_type": "code",
   "execution_count": 65,
   "metadata": {},
   "outputs": [
    {
     "name": "stdout",
     "output_type": "stream",
     "text": [
      "https://www.baidu.com\n"
     ]
    }
   ],
   "source": [
    "text = 'https://www.baidu.com'\n",
    "ret = re.match('(http|https|ftp)://[^\\s]+', text)\n",
    "print(ret.group())"
   ]
  },
  {
   "cell_type": "code",
   "execution_count": 66,
   "metadata": {},
   "outputs": [
    {
     "name": "stdout",
     "output_type": "stream",
     "text": [
      "12387485948347384x\n"
     ]
    }
   ],
   "source": [
    "text='12387485948347384x'\n",
    "ret = re.match('\\d{17}[xX\\d]', text)\n",
    "print(ret.group())"
   ]
  },
  {
   "cell_type": "code",
   "execution_count": 68,
   "metadata": {},
   "outputs": [
    {
     "name": "stdout",
     "output_type": "stream",
     "text": [
      "h\n"
     ]
    }
   ],
   "source": [
    "text='hello'\n",
    "ret = re.match('^h', text)\n",
    "print(ret.group())"
   ]
  },
  {
   "cell_type": "code",
   "execution_count": 71,
   "metadata": {},
   "outputs": [
    {
     "name": "stdout",
     "output_type": "stream",
     "text": [
      "23423@163.com\n"
     ]
    }
   ],
   "source": [
    "text = '23423@163.com'\n",
    "ret = re.match('\\w+@163.com$', text)\n",
    "print(ret.group())"
   ]
  },
  {
   "cell_type": "code",
   "execution_count": 76,
   "metadata": {},
   "outputs": [
    {
     "name": "stdout",
     "output_type": "stream",
     "text": [
      "<h1>Hello World</h1>\n"
     ]
    }
   ],
   "source": [
    "#贪婪模式（尽可能多的匹配）\n",
    "text = '<h1>Hello World</h1>'\n",
    "ret = re.match('<.+>', text)\n",
    "print(ret.group())"
   ]
  },
  {
   "cell_type": "code",
   "execution_count": 75,
   "metadata": {},
   "outputs": [
    {
     "name": "stdout",
     "output_type": "stream",
     "text": [
      "<h1>\n"
     ]
    }
   ],
   "source": [
    "#非贪婪模式, 在正则表达式后面多加一个 ？ （尽可能少的匹配）\n",
    "text = '<h1>Hello World</h1>'\n",
    "ret = re.match('<.+?>', text)\n",
    "print(ret.group())"
   ]
  },
  {
   "cell_type": "code",
   "execution_count": 92,
   "metadata": {},
   "outputs": [
    {
     "name": "stdout",
     "output_type": "stream",
     "text": [
      "100\n"
     ]
    }
   ],
   "source": [
    "text = '100'\n",
    "ret = re.match('[1-9]\\d?$|100$', text)\n",
    "print(ret.group())"
   ]
  },
  {
   "cell_type": "code",
   "execution_count": 102,
   "metadata": {},
   "outputs": [
    {
     "name": "stdout",
     "output_type": "stream",
     "text": [
      "$923\n"
     ]
    }
   ],
   "source": [
    "text = 'Apple price: $923'\n",
    "ret = re.search('\\$\\d+', text)\n",
    "print(ret.group())"
   ]
  },
  {
   "cell_type": "code",
   "execution_count": 110,
   "metadata": {},
   "outputs": [
    {
     "name": "stdout",
     "output_type": "stream",
     "text": [
      "$2999\n",
      "('$2999', '$6')\n"
     ]
    }
   ],
   "source": [
    "text = \"Apples' price is $2999, the orange's price is $6\"\n",
    "ret = re.search('.*(\\$\\d+).*(\\$\\d+)', text)\n",
    "print(ret.group(1))\n",
    "print(ret.group(1, 2))"
   ]
  },
  {
   "cell_type": "code",
   "execution_count": 111,
   "metadata": {},
   "outputs": [
    {
     "name": "stdout",
     "output_type": "stream",
     "text": [
      "['2999', '6']\n"
     ]
    }
   ],
   "source": [
    "ret = re.findall('\\d+', text)\n",
    "print(ret)"
   ]
  },
  {
   "cell_type": "code",
   "execution_count": 114,
   "metadata": {},
   "outputs": [
    {
     "name": "stdout",
     "output_type": "stream",
     "text": [
      "Apples' price is 美元 2999, the orange's price is 美元 6\n"
     ]
    }
   ],
   "source": [
    "ret = re.sub('\\$', '美元 ', text)\n",
    "print(ret)"
   ]
  },
  {
   "cell_type": "code",
   "execution_count": 115,
   "metadata": {},
   "outputs": [
    {
     "name": "stdout",
     "output_type": "stream",
     "text": [
      "['Hello', 'World!', 'A']\n"
     ]
    }
   ],
   "source": [
    "text = 'Hello World! A'\n",
    "ret = re.split(' ', text)\n",
    "print(ret)"
   ]
  },
  {
   "cell_type": "code",
   "execution_count": 117,
   "metadata": {},
   "outputs": [
    {
     "name": "stdout",
     "output_type": "stream",
     "text": [
      "43.34\n"
     ]
    }
   ],
   "source": [
    "text = \"the number is 43.34\"\n",
    "r = re.compile('\\d+\\.?\\d*')\n",
    "ret = re.search(r, text)\n",
    "print(ret.group())"
   ]
  },
  {
   "cell_type": "code",
   "execution_count": null,
   "metadata": {},
   "outputs": [],
   "source": []
  }
 ],
 "metadata": {
  "kernelspec": {
   "display_name": "Python 3",
   "language": "python",
   "name": "python3"
  },
  "language_info": {
   "codemirror_mode": {
    "name": "ipython",
    "version": 3
   },
   "file_extension": ".py",
   "mimetype": "text/x-python",
   "name": "python",
   "nbconvert_exporter": "python",
   "pygments_lexer": "ipython3",
   "version": "3.7.4"
  }
 },
 "nbformat": 4,
 "nbformat_minor": 2
}
