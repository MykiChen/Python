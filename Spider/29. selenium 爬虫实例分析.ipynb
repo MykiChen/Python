{
 "cells": [
  {
   "cell_type": "code",
   "execution_count": 1,
   "metadata": {},
   "outputs": [],
   "source": [
    "import requests, time, re\n",
    "from lxml import etree"
   ]
  },
  {
   "cell_type": "code",
   "execution_count": 22,
   "metadata": {},
   "outputs": [
    {
     "ename": "KeyError",
     "evalue": "'content'",
     "output_type": "error",
     "traceback": [
      "\u001b[0;31m---------------------------------------------------------------------------\u001b[0m",
      "\u001b[0;31mKeyError\u001b[0m                                  Traceback (most recent call last)",
      "\u001b[0;32m<ipython-input-22-371b2ec667bf>\u001b[0m in \u001b[0;36m<module>\u001b[0;34m\u001b[0m\n\u001b[1;32m     62\u001b[0m \u001b[0;34m\u001b[0m\u001b[0m\n\u001b[1;32m     63\u001b[0m \u001b[0;32mif\u001b[0m \u001b[0m__name__\u001b[0m \u001b[0;34m==\u001b[0m \u001b[0;34m'__main__'\u001b[0m\u001b[0;34m:\u001b[0m\u001b[0;34m\u001b[0m\u001b[0;34m\u001b[0m\u001b[0m\n\u001b[0;32m---> 64\u001b[0;31m     \u001b[0mmain\u001b[0m\u001b[0;34m(\u001b[0m\u001b[0;34m)\u001b[0m\u001b[0;34m\u001b[0m\u001b[0;34m\u001b[0m\u001b[0m\n\u001b[0m",
      "\u001b[0;32m<ipython-input-22-371b2ec667bf>\u001b[0m in \u001b[0;36mmain\u001b[0;34m()\u001b[0m\n\u001b[1;32m     59\u001b[0m \u001b[0;34m\u001b[0m\u001b[0m\n\u001b[1;32m     60\u001b[0m \u001b[0;32mdef\u001b[0m \u001b[0mmain\u001b[0m\u001b[0;34m(\u001b[0m\u001b[0;34m)\u001b[0m\u001b[0;34m:\u001b[0m\u001b[0;34m\u001b[0m\u001b[0;34m\u001b[0m\u001b[0m\n\u001b[0;32m---> 61\u001b[0;31m     \u001b[0mrequest_list_page\u001b[0m\u001b[0;34m(\u001b[0m\u001b[0;34m)\u001b[0m\u001b[0;34m\u001b[0m\u001b[0;34m\u001b[0m\u001b[0m\n\u001b[0m\u001b[1;32m     62\u001b[0m \u001b[0;34m\u001b[0m\u001b[0m\n\u001b[1;32m     63\u001b[0m \u001b[0;32mif\u001b[0m \u001b[0m__name__\u001b[0m \u001b[0;34m==\u001b[0m \u001b[0;34m'__main__'\u001b[0m\u001b[0;34m:\u001b[0m\u001b[0;34m\u001b[0m\u001b[0;34m\u001b[0m\u001b[0m\n",
      "\u001b[0;32m<ipython-input-22-371b2ec667bf>\u001b[0m in \u001b[0;36mrequest_list_page\u001b[0;34m()\u001b[0m\n\u001b[1;32m     31\u001b[0m             \u001b[0mresult\u001b[0m \u001b[0;34m=\u001b[0m \u001b[0mresponse\u001b[0m\u001b[0;34m.\u001b[0m\u001b[0mjson\u001b[0m\u001b[0;34m(\u001b[0m\u001b[0;34m)\u001b[0m\u001b[0;34m\u001b[0m\u001b[0;34m\u001b[0m\u001b[0m\n\u001b[1;32m     32\u001b[0m \u001b[0;34m\u001b[0m\u001b[0m\n\u001b[0;32m---> 33\u001b[0;31m             \u001b[0mpositions\u001b[0m \u001b[0;34m=\u001b[0m \u001b[0mresult\u001b[0m\u001b[0;34m[\u001b[0m\u001b[0;34m'content'\u001b[0m\u001b[0;34m]\u001b[0m\u001b[0;34m[\u001b[0m\u001b[0;34m'positionResult'\u001b[0m\u001b[0;34m]\u001b[0m\u001b[0;34m[\u001b[0m\u001b[0;34m'result'\u001b[0m\u001b[0;34m]\u001b[0m\u001b[0;34m\u001b[0m\u001b[0;34m\u001b[0m\u001b[0m\n\u001b[0m\u001b[1;32m     34\u001b[0m \u001b[0;34m\u001b[0m\u001b[0m\n\u001b[1;32m     35\u001b[0m             \u001b[0;32mfor\u001b[0m \u001b[0mposition\u001b[0m \u001b[0;32min\u001b[0m \u001b[0mpositions\u001b[0m\u001b[0;34m:\u001b[0m\u001b[0;34m\u001b[0m\u001b[0;34m\u001b[0m\u001b[0m\n",
      "\u001b[0;31mKeyError\u001b[0m: 'content'"
     ]
    }
   ],
   "source": [
    "headers = {\n",
    "    'User-Agent': 'Mozilla/5.0 (Macintosh; Intel Mac OS X 10_15_2) AppleWebKit/537.36 (KHTML, like Gecko) Chrome/79.0.3945.88 Safari/537.36',\n",
    "    'Referer': 'https://www.lagou.com/jobs/list_python?labelWords=&fromSearch=true&suginput=',\n",
    "    'Cookie': '_ga=GA1.2.499187301.1576555425; user_trace_token=20191217120346-394c0bac-2082-11ea-a69b-5254005c3644; LGUID=20191217120346-394c116d-2082-11ea-a69b-5254005c3644; index_location_city=%E5%85%A8%E5%9B%BD; sensorsdata2015jssdkcross=%7B%22distinct_id%22%3A%2216f120758ddbc1-0d141cc96263e7-12326b5a-1764000-16f120758dec1e%22%2C%22%24device_id%22%3A%2216f120758ddbc1-0d141cc96263e7-12326b5a-1764000-16f120758dec1e%22%2C%22props%22%3A%7B%22%24latest_traffic_source_type%22%3A%22%E7%9B%B4%E6%8E%A5%E6%B5%81%E9%87%8F%22%2C%22%24latest_referrer%22%3A%22%22%2C%22%24latest_referrer_host%22%3A%22%22%2C%22%24latest_search_keyword%22%3A%22%E6%9C%AA%E5%8F%96%E5%88%B0%E5%80%BC_%E7%9B%B4%E6%8E%A5%E6%89%93%E5%BC%80%22%7D%7D; _gid=GA1.2.138469308.1577008402; JSESSIONID=ABAAABAAAGGABCBD9736563E8645D3591F0CFEBE672F453; WEBTJ-ID=23122019%2C151418-16f30f680aa45e-07cfcb28b35fc4-1d336b5a-1764000-16f30f680ab3bc; Hm_lvt_4233e74dff0ae5bd0a3d81c6ccf756e6=1576558574,1576647356,1577008403,1577074459; LGSID=20191223121419-b1076794-253a-11ea-af61-525400f775ce; PRE_UTM=; PRE_HOST=; PRE_SITE=; PRE_LAND=https%3A%2F%2Fwww.lagou.com%2F; TG-TRACK-CODE=index_search; X_HTTP_TOKEN=a50f2f3e82bf20c190657077510cb4f1ed2c0e0e8d; Hm_lpvt_4233e74dff0ae5bd0a3d81c6ccf756e6=1577075609; LGRID=20191223123329-5e707067-253d-11ea-a6ea-5254005c3644; SEARCH_ID=39db639bbfa84d9a98ab52a9e964daa0',\n",
    "    'Origin': 'https://www.lagou.com',\n",
    "    'X-Anit-Forge-Code': '0',\n",
    "    'X-Anit-Forge-Token': 'None',\n",
    "    'X-Requested-With': 'XMLHttpRequest',\n",
    "    'Connection': 'keep-alive',\n",
    "    'Cache-Control': 'max-age=0',\n",
    "    'Sec-Fetch-Mode': 'cors',\n",
    "    'Sec-Fetch-Site': 'same-origin'\n",
    "}\n",
    "\n",
    "def request_list_page():\n",
    "        url = 'https://www.lagou.com/jobs/positionAjax.json?needAddtionalResult=false'\n",
    "        \n",
    "        data = {\n",
    "            'first': 'false',\n",
    "            'pn': 1,\n",
    "            'kd': 'python'\n",
    "        }\n",
    "        \n",
    "        proxy = {'http':'49.70.89.19:9999'}\n",
    "        \n",
    "        for x in range(1, 4):\n",
    "            data['pn'] = x\n",
    "            response = requests.post(url, headers = headers, data = data, proxies = proxy)\n",
    "            \n",
    "            #json()函数，如果返回的是json 数据，那么这个方法会自动把结果转化为字典\n",
    "            result = response.json()\n",
    "            \n",
    "            positions = result['content']['positionResult']['result']\n",
    "            \n",
    "            for position in positions:\n",
    "                positionId = position['positionId']\n",
    "                position_url = 'https://www.lagou.com/jobs/%s.html?show=216cba6708fe41a5be399b25b086a703' % positionId\n",
    "                parse_postion_detail(position_url)\n",
    "                break\n",
    "            break\n",
    "            \n",
    "                \n",
    "def parse_postion_detail(url):\n",
    "    response = requests.get(url, headers = headers)\n",
    "    text = response.text\n",
    "    html = etree.HTML(text)\n",
    "    position_name = html.xpath(\"//span[@class = 'name']/text()\")[0]\n",
    "    job_request_spans = html.xpath(\"//dd[@class = 'job_request']//span\")\n",
    "    salary = job_request_spans[0].xpath('.//text()')[0].strip()\n",
    "    city = job_request_spans[1].xpath(\".//text()\")[0].strip()\n",
    "    city = re.sub(r\"[\\s/]\", \"\", city)\n",
    "    work_year = job_request_spans[2].xpath(\".//text()\")[0].strip()\n",
    "    work_year = re.sub(r\"[\\s/]\", \"\", work_year)\n",
    "    education = job_request_spans[3].xpath(\".//text()\")[0].strip()\n",
    "    education = re.sub(r\"[\\s/]\", \"\", education)\n",
    "    #join()函数把列表组合成字符串\n",
    "    desc = \"\", join(html.xpath(\"//dd[@class='job_bt']//text()\")).strip()\n",
    "    \n",
    "    \n",
    "def main():\n",
    "    request_list_page()\n",
    "    \n",
    "if __name__ == '__main__':\n",
    "    main()"
   ]
  },
  {
   "cell_type": "code",
   "execution_count": null,
   "metadata": {},
   "outputs": [],
   "source": []
  }
 ],
 "metadata": {
  "kernelspec": {
   "display_name": "Python 3",
   "language": "python",
   "name": "python3"
  },
  "language_info": {
   "codemirror_mode": {
    "name": "ipython",
    "version": 3
   },
   "file_extension": ".py",
   "mimetype": "text/x-python",
   "name": "python",
   "nbconvert_exporter": "python",
   "pygments_lexer": "ipython3",
   "version": "3.7.4"
  }
 },
 "nbformat": 4,
 "nbformat_minor": 2
}
