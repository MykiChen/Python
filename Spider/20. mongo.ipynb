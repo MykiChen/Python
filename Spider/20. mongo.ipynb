{
 "cells": [
  {
   "cell_type": "code",
   "execution_count": 3,
   "metadata": {},
   "outputs": [],
   "source": [
    "import pymongo"
   ]
  },
  {
   "cell_type": "code",
   "execution_count": 14,
   "metadata": {},
   "outputs": [
    {
     "data": {
      "text/plain": [
       "<pymongo.results.InsertOneResult at 0x1076f3460>"
      ]
     },
     "execution_count": 14,
     "metadata": {},
     "output_type": "execute_result"
    }
   ],
   "source": [
    "#get connection from mongo\n",
    "client = pymongo.MongoClient('127.0.0.1', port = 27017)\n",
    "\n",
    "db = client.test2\n",
    "\n",
    "#get clustering from mongo db\n",
    "collection = db.test2\n",
    "\n",
    "collection.insert_one({'username': 'Myki', 'title': 'Chen'})"
   ]
  },
  {
   "cell_type": "code",
   "execution_count": 15,
   "metadata": {},
   "outputs": [
    {
     "data": {
      "text/plain": [
       "<pymongo.results.InsertManyResult at 0x10777a3c0>"
      ]
     },
     "execution_count": 15,
     "metadata": {},
     "output_type": "execute_result"
    }
   ],
   "source": [
    "collection.insert_many([\n",
    "    {\n",
    "        'username': 'CC',\n",
    "        'age': 26\n",
    "    },\n",
    "    {\n",
    "        'username': 'Xixixi',\n",
    "        'age': 30\n",
    "    }\n",
    "])"
   ]
  },
  {
   "cell_type": "code",
   "execution_count": 16,
   "metadata": {},
   "outputs": [
    {
     "name": "stdout",
     "output_type": "stream",
     "text": [
      "{'_id': ObjectId('5dfd73c661354c93c621b3a3'), 'title': 'Chen'}\n",
      "{'_id': ObjectId('5dfd741461354c93c621b3a7'), 'title': 'Myki'}\n",
      "{'_id': ObjectId('5dfd769861354c93c621b3a9'), 'username': 'Myki', 'title': 'Chen'}\n",
      "{'_id': ObjectId('5dfd770f61354c93c621b3aa'), 'username': 'CC', 'age': 26}\n",
      "{'_id': ObjectId('5dfd770f61354c93c621b3ab'), 'username': 'Xixixi', 'age': 30}\n"
     ]
    }
   ],
   "source": [
    "cursor = collection.find()\n",
    "for x in cursor:\n",
    "    print(x)"
   ]
  },
  {
   "cell_type": "code",
   "execution_count": 22,
   "metadata": {},
   "outputs": [
    {
     "name": "stdout",
     "output_type": "stream",
     "text": [
      "{'_id': ObjectId('5dfd770f61354c93c621b3aa'), 'username': 'CC', 'age': 26}\n"
     ]
    }
   ],
   "source": [
    "result = collection.find_one({'age':26})\n",
    "print(result)"
   ]
  },
  {
   "cell_type": "code",
   "execution_count": 24,
   "metadata": {},
   "outputs": [
    {
     "data": {
      "text/plain": [
       "<pymongo.results.UpdateResult at 0x107ef23c0>"
      ]
     },
     "execution_count": 24,
     "metadata": {},
     "output_type": "execute_result"
    }
   ],
   "source": [
    "collection.update_one({'age': 26}, {'$set':{'username':'test'}})"
   ]
  },
  {
   "cell_type": "code",
   "execution_count": 42,
   "metadata": {},
   "outputs": [
    {
     "name": "stdout",
     "output_type": "stream",
     "text": [
      "{'_id': ObjectId('5dfd73c661354c93c621b3a3'), 'title': 'Chen'}\n",
      "{'_id': ObjectId('5dfd770f61354c93c621b3aa'), 'username': 'test', 'age': 26}\n"
     ]
    }
   ],
   "source": [
    "cursors =collection.find()\n",
    "for c in cursors:\n",
    "    print(c)"
   ]
  },
  {
   "cell_type": "code",
   "execution_count": 28,
   "metadata": {},
   "outputs": [
    {
     "data": {
      "text/plain": [
       "<pymongo.results.InsertOneResult at 0x107cf4dc0>"
      ]
     },
     "execution_count": 28,
     "metadata": {},
     "output_type": "execute_result"
    }
   ],
   "source": [
    "collection.insert_one(\n",
    "    {\n",
    "        'username':'Myki',\n",
    "        'title': 'none'\n",
    "    }\n",
    ")"
   ]
  },
  {
   "cell_type": "code",
   "execution_count": 36,
   "metadata": {},
   "outputs": [
    {
     "data": {
      "text/plain": [
       "<pymongo.results.UpdateResult at 0x107df05f0>"
      ]
     },
     "execution_count": 36,
     "metadata": {},
     "output_type": "execute_result"
    }
   ],
   "source": [
    "collection.update_many(\n",
    "{'username':'Myki'}, {'$set':{'title': \"Admin\"}}\n",
    ")"
   ]
  },
  {
   "cell_type": "code",
   "execution_count": 37,
   "metadata": {},
   "outputs": [
    {
     "data": {
      "text/plain": [
       "<pymongo.results.DeleteResult at 0x10811df50>"
      ]
     },
     "execution_count": 37,
     "metadata": {},
     "output_type": "execute_result"
    }
   ],
   "source": [
    "collection.delete_one({'username': 'Myki'})"
   ]
  },
  {
   "cell_type": "code",
   "execution_count": 41,
   "metadata": {},
   "outputs": [
    {
     "data": {
      "text/plain": [
       "<pymongo.results.DeleteResult at 0x107c454b0>"
      ]
     },
     "execution_count": 41,
     "metadata": {},
     "output_type": "execute_result"
    }
   ],
   "source": [
    "collection.delete_many({'title': 'Myki'})"
   ]
  },
  {
   "cell_type": "code",
   "execution_count": 47,
   "metadata": {},
   "outputs": [
    {
     "name": "stdout",
     "output_type": "stream",
     "text": [
      "{'_id': ObjectId('5dfd73c661354c93c621b3a3'), 'title': 'Chen'}\n",
      "{'_id': ObjectId('5dfd770f61354c93c621b3aa'), 'username': 'test', 'age': 26}\n"
     ]
    }
   ],
   "source": [
    "cursor = collection.find()\n",
    "for i in cursor:\n",
    "    print(i)"
   ]
  },
  {
   "cell_type": "code",
   "execution_count": null,
   "metadata": {},
   "outputs": [],
   "source": []
  }
 ],
 "metadata": {
  "kernelspec": {
   "display_name": "Python 3",
   "language": "python",
   "name": "python3"
  },
  "language_info": {
   "codemirror_mode": {
    "name": "ipython",
    "version": 3
   },
   "file_extension": ".py",
   "mimetype": "text/x-python",
   "name": "python",
   "nbconvert_exporter": "python",
   "pygments_lexer": "ipython3",
   "version": "3.7.4"
  }
 },
 "nbformat": 4,
 "nbformat_minor": 2
}
