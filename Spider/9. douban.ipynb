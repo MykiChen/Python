{
 "cells": [
  {
   "cell_type": "code",
   "execution_count": 32,
   "metadata": {},
   "outputs": [],
   "source": [
    "import requests\n",
    "from lxml import etree"
   ]
  },
  {
   "cell_type": "code",
   "execution_count": 134,
   "metadata": {},
   "outputs": [
    {
     "name": "stdout",
     "output_type": "stream",
     "text": [
      "[{'title': '误杀', 'url': ['https://img3.doubanio.com/view/photo/s_ratio_poster/public/p2576090251.jpg'], 'rating': '7.7'}, {'title': '坂本龙一：终...', 'url': ['https://img3.doubanio.com/view/photo/s_ratio_poster/public/p2575892083.jpg'], 'rating': '8.8'}, {'title': '星球大战9：...', 'url': ['https://img3.doubanio.com/view/photo/s_ratio_poster/public/p2575456458.jpg'], 'rating': '暂无评分'}, {'title': '被光抓走的人...', 'url': ['https://img3.doubanio.com/view/photo/s_ratio_poster/public/p2575887979.jpg'], 'rating': '7.1'}, {'title': '南方车站的聚...', 'url': ['https://img3.doubanio.com/view/photo/s_ratio_poster/public/p2574278284.jpg'], 'rating': '7.4'}, {'title': '天·火', 'url': ['https://img3.doubanio.com/view/photo/s_ratio_poster/public/p2576728533.jpg'], 'rating': '4.8'}, {'title': '只有芸知道', 'url': ['https://img3.doubanio.com/view/photo/s_ratio_poster/public/p2575158172.jpg'], 'rating': '暂无评分'}, {'title': '利刃出鞘', 'url': ['https://img3.doubanio.com/view/photo/s_ratio_poster/public/p2574172427.jpg'], 'rating': '8.2'}, {'title': '叶问4：完结...', 'url': ['https://img3.doubanio.com/view/photo/s_ratio_poster/public/p2577437186.jpg'], 'rating': '暂无评分'}, {'title': '唐顿庄园', 'url': ['https://img3.doubanio.com/view/photo/s_ratio_poster/public/p2575400017.jpg'], 'rating': '8.2'}, {'title': '半个喜剧', 'url': ['https://img3.doubanio.com/view/photo/s_ratio_poster/public/p2577327061.jpg'], 'rating': '暂无评分'}, {'title': '星际探索', 'url': ['https://img3.doubanio.com/view/photo/s_ratio_poster/public/p2576088318.jpg'], 'rating': '7.0'}, {'title': '平原上的夏洛...', 'url': ['https://img3.doubanio.com/view/photo/s_ratio_poster/public/p2574198225.jpg'], 'rating': '7.8'}, {'title': '惊涛迷局', 'url': ['https://img3.doubanio.com/view/photo/s_ratio_poster/public/p2577342316.jpg'], 'rating': '6.0'}, {'title': '勇敢者游戏2...', 'url': ['https://img3.doubanio.com/view/photo/s_ratio_poster/public/p2575911093.jpg'], 'rating': '6.2'}, {'title': '冰雪奇缘2', 'url': ['https://img3.doubanio.com/view/photo/s_ratio_poster/public/p2572847101.jpg'], 'rating': '7.3'}, {'title': '两只老虎', 'url': ['https://img3.doubanio.com/view/photo/s_ratio_poster/public/p2574713609.jpg'], 'rating': '6.2'}, {'title': '吹哨人', 'url': ['https://img3.doubanio.com/view/photo/s_ratio_poster/public/p2572746113.jpg'], 'rating': '5.7'}, {'title': '九克拉战栗', 'url': ['https://img3.doubanio.com/view/photo/s_ratio_poster/public/p2553828138.jpg'], 'rating': '暂无评分'}, {'title': '迪丽丽的奇幻...', 'url': ['https://img3.doubanio.com/view/photo/s_ratio_poster/public/p2575736329.jpg'], 'rating': '7.9'}, {'title': '妙先生', 'url': ['https://img3.doubanio.com/view/photo/s_ratio_poster/public/p2574173527.jpg'], 'rating': '暂无评分'}, {'title': '若能与你共乘...', 'url': ['https://img3.doubanio.com/view/photo/s_ratio_poster/public/p2574029074.jpg'], 'rating': '7.1'}, {'title': '决战中途岛', 'url': ['https://img3.doubanio.com/view/photo/s_ratio_poster/public/p2573582192.jpg'], 'rating': '7.8'}, {'title': '我和我的祖国...', 'url': ['https://img3.doubanio.com/view/photo/s_ratio_poster/public/p2567998580.jpg'], 'rating': '7.9'}, {'title': '小羊肖恩2：...', 'url': ['https://img3.doubanio.com/view/photo/s_ratio_poster/public/p2576481506.jpg'], 'rating': '8.2'}, {'title': '铁血阳泉', 'url': ['https://img3.doubanio.com/view/photo/s_ratio_poster/public/p2575164008.jpg'], 'rating': '暂无评分'}, {'title': '催眠·裁决', 'url': ['https://img3.doubanio.com/view/photo/s_ratio_poster/public/p2569044398.jpg'], 'rating': '5.9'}, {'title': '早安公主', 'url': ['https://img3.doubanio.com/view/photo/s_ratio_poster/public/p2576489153.jpg'], 'rating': '暂无评分'}, {'title': '触不可及(美...', 'url': ['https://img3.doubanio.com/view/photo/s_ratio_poster/public/p2575135153.jpg'], 'rating': '7.7'}, {'title': '受益人', 'url': ['https://img3.doubanio.com/view/photo/s_ratio_poster/public/p2572429001.jpg'], 'rating': '6.7'}, {'title': '中国机长', 'url': ['https://img3.doubanio.com/view/photo/s_ratio_poster/public/p2568258113.jpg'], 'rating': '6.9'}, {'title': '终结者：黑暗...', 'url': ['https://img3.doubanio.com/view/photo/s_ratio_poster/public/p2571762536.jpg'], 'rating': '7.1'}, {'title': '动物特工局', 'url': ['https://img3.doubanio.com/view/photo/s_ratio_poster/public/p2575999797.jpg'], 'rating': '暂无评分'}, {'title': '金色荣耀', 'url': ['https://img3.doubanio.com/view/photo/s_ratio_poster/public/p2575734787.jpg'], 'rating': '7.6'}, {'title': '大约在冬季', 'url': ['https://img3.doubanio.com/view/photo/s_ratio_poster/public/p2571441805.jpg'], 'rating': '5.3'}, {'title': '我为你牺牲', 'url': ['https://img3.doubanio.com/view/photo/s_ratio_poster/public/p2574888356.jpg'], 'rating': '暂无评分'}, {'title': '那时风华', 'url': ['https://img3.doubanio.com/view/photo/s_ratio_poster/public/p2575378911.jpg'], 'rating': '暂无评分'}, {'title': '一生有你20...', 'url': ['https://img3.doubanio.com/view/photo/s_ratio_poster/public/p2572401707.jpg'], 'rating': '4.2'}, {'title': '魔镜奇缘3', 'url': ['https://img3.doubanio.com/view/photo/s_ratio_poster/public/p2575786108.jpg'], 'rating': '暂无评分'}, {'title': '攀登者', 'url': ['https://img3.doubanio.com/view/photo/s_ratio_poster/public/p2568577681.jpg'], 'rating': '6.2'}, {'title': '骨瓷', 'url': ['https://img3.doubanio.com/view/photo/s_ratio_poster/public/p2572419221.jpg'], 'rating': '暂无评分'}, {'title': '变化中的中国...', 'url': ['https://img3.doubanio.com/view/photo/s_ratio_poster/public/p2574020817.jpg'], 'rating': '7.9'}, {'title': '太空狗之月球...', 'url': ['https://img3.doubanio.com/view/photo/s_ratio_poster/public/p2574878752.jpg'], 'rating': '暂无评分'}, {'title': '红旗渠之归来...', 'url': ['https://img3.doubanio.com/view/photo/s_ratio_poster/public/p2574604197.jpg'], 'rating': '暂无评分'}, {'title': '迷局伏香', 'url': ['https://img3.doubanio.com/view/photo/s_ratio_poster/public/p2573297127.jpg'], 'rating': '暂无评分'}, {'title': '雨中曲', 'url': ['https://img3.doubanio.com/view/photo/s_ratio_poster/public/p1612355875.jpg'], 'rating': '9.0'}, {'title': '公民凯恩', 'url': ['https://img3.doubanio.com/view/photo/s_ratio_poster/public/p1474928139.jpg'], 'rating': '8.6'}, {'title': '决胜时刻', 'url': ['https://img3.doubanio.com/view/photo/s_ratio_poster/public/p2568497857.jpg'], 'rating': '6.6'}, {'title': '0.5毫米', 'url': ['https://img3.doubanio.com/view/photo/s_ratio_poster/public/p2507377459.jpg'], 'rating': '8.3'}, {'title': '莫扎特传', 'url': ['https://img3.doubanio.com/view/photo/s_ratio_poster/public/p595764767.jpg'], 'rating': '8.7'}, {'title': '我在原地等你...', 'url': ['https://img3.doubanio.com/view/photo/s_ratio_poster/public/p2572702636.jpg'], 'rating': '暂无评分'}, {'title': '夜空总有最大...', 'url': ['https://img3.doubanio.com/view/photo/s_ratio_poster/public/p2507511312.jpg'], 'rating': '7.5'}, {'title': '我是古巴', 'url': ['https://img3.doubanio.com/view/photo/s_ratio_poster/public/p2232357924.jpg'], 'rating': '9.0'}, {'title': '太阳升起的时...', 'url': ['https://img3.doubanio.com/view/photo/s_ratio_poster/public/p2571701544.jpg'], 'rating': '暂无评分'}, {'title': '为国而歌', 'url': ['https://img3.doubanio.com/view/photo/s_ratio_poster/public/p2569772108.jpg'], 'rating': '5.2'}, {'title': '心律失常', 'url': ['https://img3.doubanio.com/view/photo/s_ratio_poster/public/p2460952931.jpg'], 'rating': '7.8'}, {'title': '舞女', 'url': ['https://img3.doubanio.com/view/photo/s_ratio_poster/public/p2378348602.jpg'], 'rating': '7.4'}, {'title': '一盘没有下完...', 'url': ['https://img3.doubanio.com/view/photo/s_ratio_poster/public/p2536737125.jpg'], 'rating': '7.4'}, {'title': '正午显影', 'url': ['https://img3.doubanio.com/view/photo/s_ratio_poster/public/p2390018335.jpg'], 'rating': '7.5'}, {'title': '奥逊·威尔斯...', 'url': ['https://img3.doubanio.com/view/photo/s_ratio_poster/public/p2523360096.jpg'], 'rating': '7.1'}, {'title': '解放了的中国...', 'url': ['https://img3.doubanio.com/view/photo/s_ratio_poster/public/p2046266525.jpg'], 'rating': '7.7'}, {'title': '长调', 'url': ['https://img3.doubanio.com/view/photo/s_ratio_poster/public/p2458263335.jpg'], 'rating': '7.5'}, {'title': '三笑', 'url': ['https://img3.doubanio.com/view/photo/s_ratio_poster/public/p2345607696.jpg'], 'rating': '8.5'}]\n"
     ]
    }
   ],
   "source": [
    "movies = []\n",
    "\n",
    "headers = {\n",
    "    'User-Agent': 'Mozilla/5.0 (Macintosh; Intel Mac OS X 10_15_2) AppleWebKit/537.36 (KHTML, like Gecko) Chrome/79.0.3945.79 Safari/537.36',\n",
    "    'Referer': 'https://www.douban.com/'\n",
    "}\n",
    "\n",
    "url = 'https://movie.douban.com/'\n",
    "\n",
    "response = requests.get(url, headers=headers)\n",
    "#with open('douban.html', 'w', encoding = 'utf-8') as fp:\n",
    "#    fp.write(response.content.decode('utf-8'))\n",
    "\n",
    "text = response.text\n",
    "\n",
    "html = etree.HTML(text)\n",
    "\n",
    "uls = html.xpath(\"//ul[@class='']\")\n",
    "\n",
    "for ul in uls:\n",
    "   # print(etree.tostring(ul, encoding = 'utf-8').decode('utf-8'))    \n",
    "    title = ul.xpath(\"./li[@class='title']/a//text()\")[0]\n",
    "    url = ul.xpath(\".//img/@src\")\n",
    "    rating = ul.xpath(\"./li[@class='rating']/span//text()\")[0]\n",
    "    \n",
    "    movie = {\n",
    "        'title': title,\n",
    "        'url': url,\n",
    "        'rating': rating\n",
    "    }\n",
    "    \n",
    "    movies.append(movie)\n",
    "    \n",
    "print(movies)"
   ]
  },
  {
   "cell_type": "code",
   "execution_count": 30,
   "metadata": {},
   "outputs": [],
   "source": []
  },
  {
   "cell_type": "code",
   "execution_count": null,
   "metadata": {},
   "outputs": [],
   "source": []
  }
 ],
 "metadata": {
  "kernelspec": {
   "display_name": "Python 3",
   "language": "python",
   "name": "python3"
  },
  "language_info": {
   "codemirror_mode": {
    "name": "ipython",
    "version": 3
   },
   "file_extension": ".py",
   "mimetype": "text/x-python",
   "name": "python",
   "nbconvert_exporter": "python",
   "pygments_lexer": "ipython3",
   "version": "3.7.4"
  }
 },
 "nbformat": 4,
 "nbformat_minor": 2
}
