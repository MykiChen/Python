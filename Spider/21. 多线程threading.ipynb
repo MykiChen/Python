{
 "cells": [
  {
   "cell_type": "code",
   "execution_count": 1,
   "metadata": {},
   "outputs": [],
   "source": [
    "import threading"
   ]
  },
  {
   "cell_type": "code",
   "execution_count": 2,
   "metadata": {},
   "outputs": [],
   "source": [
    "import time"
   ]
  },
  {
   "cell_type": "code",
   "execution_count": 28,
   "metadata": {},
   "outputs": [
    {
     "name": "stdout",
     "output_type": "stream",
     "text": [
      "正在写代码 <Thread(Thread-36, started 123145490477056)>\n",
      "正在画画 <Thread(Thread-37, started 123145495732224)>\n",
      "正在写代码 <Thread(Thread-36, started 123145490477056)>正在画画 <Thread(Thread-37, started 123145495732224)>\n",
      "\n",
      "正在写代码 <Thread(Thread-36, started 123145490477056)>正在画画 <Thread(Thread-37, started 123145495732224)>\n",
      "\n"
     ]
    }
   ],
   "source": [
    "def coding():\n",
    "    for x in range(3):\n",
    "        print('正在写代码 %s' % threading.current_thread())\n",
    "        time.sleep(1)\n",
    "        \n",
    "def drawing():\n",
    "    for x in range(3):\n",
    "        print('正在画画 %s' % threading.current_thread())\n",
    "        time.sleep(1)\n",
    "        \n",
    "def main():\n",
    "    t1 = threading.Thread(target=coding)\n",
    "    t2 = threading.Thread(target=drawing)\n",
    "    \n",
    "    t1.start()\n",
    "    t2.start()\n",
    "    #print(threading.enumerate())\n",
    "    \n",
    "if __name__ == '__main__':\n",
    "    main()"
   ]
  },
  {
   "cell_type": "code",
   "execution_count": 31,
   "metadata": {},
   "outputs": [
    {
     "name": "stdout",
     "output_type": "stream",
     "text": [
      "正在写代码<CodingThread(Thread-42, started 123145490477056)>\n",
      "正在画画<DrawingThread(Thread-43, started 123145495732224)>\n",
      "正在写代码<CodingThread(Thread-42, started 123145490477056)>正在画画<DrawingThread(Thread-43, started 123145495732224)>\n",
      "\n",
      "正在写代码<CodingThread(Thread-42, started 123145490477056)>正在画画<DrawingThread(Thread-43, started 123145495732224)>\n",
      "\n"
     ]
    }
   ],
   "source": [
    "class CodingThread(threading.Thread):\n",
    "    def run(self):\n",
    "        for x in range(3):\n",
    "            print('正在写代码%s' % threading.current_thread())\n",
    "            time.sleep(1)\n",
    "            \n",
    "class DrawingThread(threading.Thread):\n",
    "    def run(self):\n",
    "        for x in range(3):\n",
    "            print('正在画画%s' % threading.current_thread())\n",
    "            time.sleep(1)\n",
    "            \n",
    "def main():\n",
    "    t1 = CodingThread()\n",
    "    t2 = DrawingThread()\n",
    "    \n",
    "    t1.start()\n",
    "    t2.start()\n",
    "    \n",
    "if __name__ == '__main__':\n",
    "    main()"
   ]
  },
  {
   "cell_type": "code",
   "execution_count": 45,
   "metadata": {},
   "outputs": [
    {
     "name": "stdout",
     "output_type": "stream",
     "text": [
      "value: 11000000\n",
      "value: 22000000\n",
      "value: 33000000\n"
     ]
    }
   ],
   "source": [
    "value = 0\n",
    "gLock = threading.Lock()\n",
    "\n",
    "def add_value():\n",
    "    global value\n",
    "    gLock.acquire()\n",
    "    \n",
    "    for x in range(11000000):\n",
    "        value += 1\n",
    "    gLock.release()\n",
    "    \n",
    "    print('value: %d' %value) \n",
    "    \n",
    "def main():\n",
    "    for x in range(3):\n",
    "        t = threading.Thread(target = add_value)\n",
    "        t.start()\n",
    "        \n",
    "if __name__ == '__main__':\n",
    "    main()"
   ]
  },
  {
   "cell_type": "code",
   "execution_count": null,
   "metadata": {},
   "outputs": [],
   "source": []
  }
 ],
 "metadata": {
  "kernelspec": {
   "display_name": "Python 3",
   "language": "python",
   "name": "python3"
  },
  "language_info": {
   "codemirror_mode": {
    "name": "ipython",
    "version": 3
   },
   "file_extension": ".py",
   "mimetype": "text/x-python",
   "name": "python",
   "nbconvert_exporter": "python",
   "pygments_lexer": "ipython3",
   "version": "3.7.4"
  }
 },
 "nbformat": 4,
 "nbformat_minor": 2
}
