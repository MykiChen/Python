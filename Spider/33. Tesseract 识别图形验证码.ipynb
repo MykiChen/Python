{
 "cells": [
  {
   "cell_type": "code",
   "execution_count": 2,
   "metadata": {},
   "outputs": [],
   "source": [
    "import pytesseract\n",
    "from PIL import Image\n",
    "from urllib import request"
   ]
  },
  {
   "cell_type": "code",
   "execution_count": 49,
   "metadata": {},
   "outputs": [
    {
     "name": "stdout",
     "output_type": "stream",
     "text": [
      "我 爱 PythonA_^\n",
      "我 也 爱 Pythonl\n",
      "啊 哈 哈 哈 哈 哈 哈\n"
     ]
    }
   ],
   "source": [
    "pytesseract.pytesseract.tesseract_cmd = '/usr/local/Cellar/tesseract/4.1.0/bin/tesseract'\n",
    "\n",
    "image = Image.open('test.jpg')\n",
    "\n",
    "code = pytesseract.image_to_string(image, lang='chi_sim')\n",
    "print(code)"
   ]
  },
  {
   "cell_type": "code",
   "execution_count": 5,
   "metadata": {},
   "outputs": [
    {
     "name": "stdout",
     "output_type": "stream",
     "text": [
      "647270\n",
      "647270\n",
      "647270\n",
      "647270\n",
      "647270\n",
      "647270\n",
      "647270\n",
      "647270\n",
      "647270\n",
      "647270\n"
     ]
    }
   ],
   "source": [
    "def main():\n",
    "    pytesseract.pytesseract.tesseract_cmd = '/usr/local/Cellar/tesseract/4.1.0/bin/tesseract'\n",
    "    url = 'https://timgsa.baidu.com/timg?image&quality=80&size=b9999_10000&sec=1577111339262&di=852e3c69df2033bcb2b05596593a7002&imgtype=0&src=http%3A%2F%2Fi0.hdslb.com%2Fbfs%2Farticle%2F0a10e76210f5c315da85010803f3d3b26fc8d2c4.png'\n",
    "    i = 0\n",
    "    while True:\n",
    "        request.urlretrieve(url, 'test3.png')\n",
    "        image = Image.open('test3.png')\n",
    "        text = pytesseract.image_to_string(image, lang = 'eng')\n",
    "        if i >= 10 or text == 6220:\n",
    "            break\n",
    "        else:\n",
    "            i += 1\n",
    "            print(text)\n",
    "    \n",
    "if __name__ == '__main__':\n",
    "    main()"
   ]
  },
  {
   "cell_type": "code",
   "execution_count": null,
   "metadata": {},
   "outputs": [],
   "source": []
  }
 ],
 "metadata": {
  "kernelspec": {
   "display_name": "Python 3",
   "language": "python",
   "name": "python3"
  },
  "language_info": {
   "codemirror_mode": {
    "name": "ipython",
    "version": 3
   },
   "file_extension": ".py",
   "mimetype": "text/x-python",
   "name": "python",
   "nbconvert_exporter": "python",
   "pygments_lexer": "ipython3",
   "version": "3.7.4"
  }
 },
 "nbformat": 4,
 "nbformat_minor": 2
}
